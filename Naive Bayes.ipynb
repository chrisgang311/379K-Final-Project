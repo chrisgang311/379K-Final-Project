{
 "cells": [
  {
   "cell_type": "code",
   "execution_count": 8,
   "metadata": {},
   "outputs": [],
   "source": [
    "import pandas as pd\n",
    "from sklearn.model_selection import train_test_split, StratifiedShuffleSplit\n",
    "from sklearn.metrics import confusion_matrix, f1_score, accuracy_score\n",
    "from sklearn.naive_bayes import GaussianNB, BernoulliNB, MultinomialNB\n",
    "from sklearn.decomposition import PCA\n",
    "from sklearn.preprocessing import StandardScaler, MinMaxScaler, MaxAbsScaler, RobustScaler\n",
    "import matplotlib.pyplot as plt\n",
    "import numpy as np\n",
    "from sklearn.model_selection import GridSearchCV, StratifiedKFold"
   ]
  },
  {
   "cell_type": "code",
   "execution_count": 14,
   "metadata": {},
   "outputs": [
    {
     "name": "stdout",
     "output_type": "stream",
     "text": [
      "RobustScaler(copy=True, quantile_range=(25.0, 75.0), with_centering=True,\n",
      "       with_scaling=True) 2 0.501813236627\n",
      "RobustScaler(copy=True, quantile_range=(25.0, 75.0), with_centering=True,\n",
      "       with_scaling=True) 3 0.501359927471\n",
      "RobustScaler(copy=True, quantile_range=(25.0, 75.0), with_centering=True,\n",
      "       with_scaling=True) 5 0.503173164098\n",
      "RobustScaler(copy=True, quantile_range=(25.0, 75.0), with_centering=True,\n",
      "       with_scaling=True) 7 0.504533091568\n",
      "StandardScaler(copy=True, with_mean=True, with_std=True) 1 0.508159564823\n",
      "StandardScaler(copy=True, with_mean=True, with_std=True) 2 0.503173164098\n",
      "StandardScaler(copy=True, with_mean=True, with_std=True) 3 0.503626473255\n",
      "StandardScaler(copy=True, with_mean=True, with_std=True) 4 0.504533091568\n",
      "StandardScaler(copy=True, with_mean=True, with_std=True) 29 0.501813236627\n",
      "RobustScaler(copy=True, quantile_range=(25.0, 75.0), with_centering=True,\n",
      "       with_scaling=True) 2 0.501813236627\n",
      "RobustScaler(copy=True, quantile_range=(25.0, 75.0), with_centering=True,\n",
      "       with_scaling=True) 3 0.501359927471\n",
      "RobustScaler(copy=True, quantile_range=(25.0, 75.0), with_centering=True,\n",
      "       with_scaling=True) 5 0.503173164098\n",
      "RobustScaler(copy=True, quantile_range=(25.0, 75.0), with_centering=True,\n",
      "       with_scaling=True) 7 0.503626473255\n",
      "FINAL_BASE_DATASET_WITH_BETS_ZEROS_REMOVED_WITH_SEASON.csv, 0.508160\n"
     ]
    }
   ],
   "source": [
    "#for file_name in [\"FINAL_BASE_DATASET_TEAM_RATINGS_WITH_NO_ZEROS_ADDED_NO_BETS_AGE_BMI_ZEROS_NOT_REMOVED_WITH_SEASON.csv\", \"FINAL_BASE_DATASET_WITH_BETS_WITH_SEASON.csv\", \"FINAL_BASE_DATASET_WITH_BETS_ZEROS_REMOVED_WITH_SEASON.csv\", \"FINAL_BASE_DATASET_WITH_SEASON.csv\"]:\n",
    "for file_name in [\"FINAL_BASE_DATASET_WITH_BETS_ZEROS_REMOVED_WITH_SEASON.csv\"]:\n",
    "    data = pd.read_csv(file_name, index_col=0)\n",
    "    \n",
    "    #for season in [\"2008/2009\", \"2009/2010\", \"2010/2011\", \"2011/2012\", \"2012/2013\", \"2013/2014\", \"2014/2015\"]:\n",
    "    data_train = data[data[\"season\"] != \"2015/2016\"]\n",
    "    #data_train = data[((data[\"season\"] == \"2014/2015\")|(data[\"season\"] == \"2013/2014\"))]\n",
    "    data_test = data[data[\"season\"] == \"2015/2016\"]\n",
    "\n",
    "    X_train = data_train.drop(\"Label\", axis = 1) # to fit the scaler\n",
    "    X_train = X_train.drop(\"season\", axis = 1)\n",
    "    X_test = data_test.drop(\"Label\", axis = 1)\n",
    "    X_test = X_test.drop(\"season\", axis = 1)\n",
    "    y_train = data_train.Label\n",
    "    y_test = data_test.Label\n",
    "\n",
    "    max_val = 0\n",
    "\n",
    "    for scaler in [RobustScaler(), StandardScaler(), MaxAbsScaler(), RobustScaler()]:\n",
    "        scaler.fit(X_train)\n",
    "        X_train_scaled = scaler.transform(X_train)\n",
    "        X_test_scaled = scaler.transform(X_test)\n",
    "        for n_columns in range(1, X_train.shape[1] + 1):                   \n",
    "            pca = PCA(n_components=n_columns).fit(X_train_scaled)\n",
    "            X_train_pca = pca.transform(X_train_scaled)\n",
    "            X_test_pca = pca.transform(X_test_scaled)\n",
    "\n",
    "            clf = GaussianNB()\n",
    "            clf.fit(X_train_pca, y_train)\n",
    "            y_pred = clf.predict(X_test_pca)\n",
    "            y_pred_proba = clf.predict_proba(X_test_pca)\n",
    "\n",
    "            #print confusion_matrix(y_pred=y_pred_g, y_true=y_test)\n",
    "            #print f1_score(y_test, y_pred_g, average='weighted')\n",
    "            acc_score = accuracy_score(y_true=y_test, y_pred=y_pred)\n",
    "            #print acc_score\n",
    "            if acc_score > max_val:\n",
    "                max_val = acc_score\n",
    "            if acc_score > 0.50:\n",
    "                print scaler, n_columns, acc_score\n",
    "    print \"%s, %f\" % (file_name, max_val)"
   ]
  },
  {
   "cell_type": "code",
   "execution_count": 1230,
   "metadata": {},
   "outputs": [],
   "source": [
    "data = pd.read_csv(\"FINAL_BASE_DATASET_WITH_BETS_WITH_SEASON.csv\", index_col=0)\n",
    "\n",
    "data_train = data[data[\"season\"] != \"2015/2016\"]\n",
    "data_test = data[data[\"season\"] == \"2015/2016\"]\n",
    "\n",
    "data.head()\n",
    "y_train = data_train.Label\n",
    "X_train = data_train.drop(\"Label\", axis = 1)\n",
    "X_train = X_train.drop(\"season\", axis = 1)\n",
    "y_test = data_test.Label\n",
    "X_test = data_test.drop(\"Label\", axis = 1)\n",
    "X_test = X_test.drop(\"season\", axis = 1)\n",
    "\n",
    "#scaler = StandardScaler().fit(X_train) #scaler + pca = 1 --> 50.8%, pca=27:50.2, 29: 50.3 with FINAL_BASE_DATASET_WITH_BETS_ZEROS_REMOVED_WITH_SEASON\n",
    "#X_train = scaler.transform(X_train)\n",
    "#X_test = scaler.transform(X_test)\n",
    "\n",
    "scaler = MinMaxScaler().fit(X_train)\n",
    "X_train = scaler.transform(X_train)\n",
    "X_test = scaler.transform(X_test)\n",
    "\n",
    "#FINAL_BASE_DATASET_WITH_SEASON\n",
    "pca = PCA(n_components=42).fit(X_train) #17, 19: 0.4925, 20:0.4929, 21: 0.4940, 22: 0.4948, 23: 0.4968, 24: 0.4972, 25:0.4964, 26: 0.4996, 27: 0.4948\n",
    "#FINAL_BASE_DATASET_WITH_BETS_ZEROS_REMOVED_WITH_SEASON\n",
    "#pca = PCA(n_components=1).fit(X_train) #15: 50.18, 17: 50.27\n",
    "#FINAL_BASE_DATASET_WITH_BETS_WITH_SEASON\n",
    "#pca = PCA(n_components=15).fit(X_train) #12: 49.27 #14: 49.91, #15: 49.95\n",
    "#FINAL_BASE_DATASET_TEAM_RATINGS_WITH_NO_ZEROS_ADDED_NO_BETS_AGE_BMI_ZEROS_NOT_REMOVED_WITH_SEASON\n",
    "#pca = PCA(n_components=31).fit(X_train) #17: 49.05, 18: 49.53, 26: 49.72, 27: 49.8\n",
    "X_train = pca.transform(X_train)\n",
    "X_test = pca.transform(X_test)"
   ]
  },
  {
   "cell_type": "code",
   "execution_count": 1223,
   "metadata": {},
   "outputs": [],
   "source": [
    "#priors\n",
    "#print y_train.value_counts() / len(y_train)\n",
    "#proba"
   ]
  },
  {
   "cell_type": "code",
   "execution_count": 1224,
   "metadata": {},
   "outputs": [],
   "source": [
    "clf_g = GaussianNB()\n",
    "clf_g.fit(X_train, y_train)\n",
    "y_pred_g = clf_g.predict(X_test)\n",
    "y_pred_proba_g = clf_g.predict_proba(X_test)\n",
    "\n",
    "#clf_b = BernoulliNB()\n",
    "#clf_b.fit(X_train, y_train)\n",
    "#y_pred_b = clf_b.predict(X_test)\n",
    "#y_pred_proba_b = clf_b.predict_proba(X_test)\n",
    "#\n",
    "#clf_m = MultinomialNB()\n",
    "#clf_m.fit(X_train, y_train)\n",
    "#y_pred_m = clf_m.predict(X_test)\n",
    "#y_pred_proba_m = clf_m.predict_proba(X_test)"
   ]
  },
  {
   "cell_type": "code",
   "execution_count": 1225,
   "metadata": {},
   "outputs": [
    {
     "name": "stdout",
     "output_type": "stream",
     "text": [
      "Gaussian NB\n",
      "[[293  45 435]\n",
      " [153  42 459]\n",
      " [188  53 868]]\n",
      "0.418655759908\n",
      "0.474369085174\n"
     ]
    }
   ],
   "source": [
    "print \"Gaussian NB\"\n",
    "print confusion_matrix(y_pred=y_pred_g, y_true=y_test)\n",
    "print f1_score(y_test, y_pred_g, average='weighted')\n",
    "print accuracy_score(y_true=y_test, y_pred=y_pred_g)\n",
    "\n",
    "#print \"Bernoulli NB\"\n",
    "#print confusion_matrix(y_pred=y_pred_b, y_true=y_test)\n",
    "#print f1_score(y_test, y_pred_b, average='weighted')\n",
    "#print accuracy_score(y_true=y_test, y_pred=y_pred_b)\n",
    "#\n",
    "#print \"Multinomial NB\"\n",
    "#print confusion_matrix(y_pred=y_pred_m, y_true=y_test)\n",
    "#print f1_score(y_test, y_pred_m, average='weighted')\n",
    "#print accuracy_score(y_true=y_test, y_pred=y_pred_m)"
   ]
  },
  {
   "cell_type": "code",
   "execution_count": 1217,
   "metadata": {},
   "outputs": [
    {
     "data": {
      "text/plain": [
       "array([[ 0.25382247,  0.52077159,  0.22540594],\n",
       "       [ 0.26512464,  0.32042593,  0.41444943],\n",
       "       [ 0.01332757,  0.21797002,  0.76870241],\n",
       "       ..., \n",
       "       [ 0.16059551,  0.31382556,  0.52557893],\n",
       "       [ 0.61020988,  0.37611324,  0.01367688],\n",
       "       [ 0.61789557,  0.31743048,  0.06467395]])"
      ]
     },
     "execution_count": 1217,
     "metadata": {},
     "output_type": "execute_result"
    }
   ],
   "source": [
    "y_pred_proba"
   ]
  },
  {
   "cell_type": "markdown",
   "metadata": {},
   "source": [
    "# Results\n",
    "- 50.23% with Season 2014/15 as Training and 2015/16 as Prediction\n",
    "FINAL_BASE_DATASET_WITH_BETS_ZEROS_REMOVED_WITH_SEASON, StandardScaler, PCA = 6\n",
    "- 50.59% with Season 2013/14 and 2014/15 as Training and 2015/16 as Prediction\n",
    "FINAL_BASE_DATASET_WITH_BETS_ZEROS_REMOVED_WITH_SEASON, StandardScaler, PCA = 3\n",
    "- 50.81% with all Seasons before 2015 as Training and 2015/16 as Prediction\n"
   ]
  },
  {
   "cell_type": "code",
   "execution_count": null,
   "metadata": {},
   "outputs": [],
   "source": []
  },
  {
   "cell_type": "code",
   "execution_count": null,
   "metadata": {},
   "outputs": [],
   "source": []
  }
 ],
 "metadata": {
  "kernelspec": {
   "display_name": "Python 2",
   "language": "python",
   "name": "python2"
  },
  "language_info": {
   "codemirror_mode": {
    "name": "ipython",
    "version": 2
   },
   "file_extension": ".py",
   "mimetype": "text/x-python",
   "name": "python",
   "nbconvert_exporter": "python",
   "pygments_lexer": "ipython2",
   "version": "2.7.12"
  }
 },
 "nbformat": 4,
 "nbformat_minor": 2
}
