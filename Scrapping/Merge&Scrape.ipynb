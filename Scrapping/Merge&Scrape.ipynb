{
 "cells": [
  {
   "cell_type": "markdown",
   "metadata": {},
   "source": [
    "Merging divisions per season and saving in csv fil"
   ]
  },
  {
   "cell_type": "code",
   "execution_count": 1,
   "metadata": {},
   "outputs": [],
   "source": [
    "import pandas as pd\n",
    "import os\n",
    "import numpy as np"
   ]
  },
  {
   "cell_type": "code",
   "execution_count": 2,
   "metadata": {},
   "outputs": [],
   "source": [
    "def load_merge_data():\n",
    "    df = pd.DataFrame()\n",
    "    bool=False\n",
    "    for subdir, dirs, files in os.walk('.'):\n",
    "        #print(subdir)\n",
    "        for file in files:\n",
    "            #print(file)\n",
    "            ext = os.path.splitext(file)[-1].lower()\n",
    "            if ext == \".csv\":\n",
    "                datapath=os.path.join(subdir, file)\n",
    "                #print(datapath)\n",
    "                try:\n",
    "                    data=pd.read_csv(datapath, header=0)\n",
    "                    print(data.head())\n",
    "                    #print(data)\n",
    "                    df=pd.concat([df, data], axis=0, ignore_index=True)\n",
    "                    bool=True\n",
    "                    #print(d)\n",
    "                    #print(datapath)\n",
    "                except Exception:\n",
    "                    print(\"Cannot read files: \",datapath)\n",
    "        if bool:\n",
    "            df.to_csv(subdir + '.csv')\n",
    "        df = pd.DataFrame()\n",
    "        \n",
    "        return df\n",
    "        "
   ]
  },
  {
   "cell_type": "code",
   "execution_count": 3,
   "metadata": {
    "scrolled": false
   },
   "outputs": [
    {
     "name": "stdout",
     "output_type": "stream",
     "text": [
      "   Unnamed: 0   id  match_api_id  home_team_api_id  away_team_api_id  \\\n",
      "0         145  540        838599              8635             10001   \n",
      "1         153  549        838622              9991              8203   \n",
      "2         155  552        838625             10000              9994   \n",
      "3         162  563        838646              9984              9991   \n",
      "4         168  569        838658              9986             10001   \n",
      "\n",
      "      season        date result_label  away_Defender_rating  \\\n",
      "0  2010/2011  2010-10-24     HOME_WIN             64.500000   \n",
      "1  2010/2011  2010-10-30     HOME_WIN             64.600000   \n",
      "2  2010/2011  2010-10-30         DRAW             64.000000   \n",
      "3  2010/2011  2010-11-07     AWAY_WIN             63.000000   \n",
      "4  2010/2011  2010-11-13     AWAY_WIN             64.666667   \n",
      "\n",
      "   home_Defender_rating              ...                home_Midfielder_bmi  \\\n",
      "0             72.666667              ...                          21.744214   \n",
      "1             65.666667              ...                          23.044354   \n",
      "2             64.333333              ...                          23.684403   \n",
      "3             64.750000              ...                          23.244094   \n",
      "4             61.000000              ...                          22.591388   \n",
      "\n",
      "   shoton_home  shoton_away  shotoff_home  shotoff_away  HOME_DRAW_RATE  \\\n",
      "0          0.0          0.0           0.0           0.0        0.142857   \n",
      "1          0.0          0.0           0.0           0.0        0.117647   \n",
      "2          0.0          0.0           0.0           0.0        0.375000   \n",
      "3          0.0          0.0           0.0           0.0        0.136364   \n",
      "4          0.0          0.0           0.0           0.0        0.000000   \n",
      "\n",
      "   HOME_DRAW_RATE_THIS_SEASON  AWAY_DRAW_RATE  AWAY_DRAW_RATE_THIS_SEASON  \\\n",
      "0                    0.200000        0.181818                        0.25   \n",
      "1                    0.000000        0.066667                        0.20   \n",
      "2                    0.200000        0.153846                        0.50   \n",
      "3                    0.166667        0.200000                        0.00   \n",
      "4                    0.000000        0.166667                        0.20   \n",
      "\n",
      "   AWAY_DRAW_RATE_AT_THIS_GROUND  \n",
      "0                       0.000000  \n",
      "1                       0.000000  \n",
      "2                       0.145833  \n",
      "3                       1.000000  \n",
      "4                       1.000000  \n",
      "\n",
      "[5 rows x 55 columns]\n",
      "   Unnamed: 0  team_api_id  team_rank team_long_name  team_offense_rating  \\\n",
      "0           0         8634          1      Barcelona                  3.3   \n",
      "1           1         8633          2    Real Madrid                  3.4   \n",
      "2           2         9823          3  Bayern Munich                  3.2   \n",
      "3           3         9847          4            PSG                  3.2   \n",
      "4           4         8456          5      Man. City                  3.0   \n",
      "\n",
      "   team_defense_rating  team_spi_rating  \n",
      "0                  0.3             93.5  \n",
      "1                  0.4             92.8  \n",
      "2                  0.4             92.1  \n",
      "3                  0.5             91.7  \n",
      "4                  0.5             89.4  \n",
      "   Unnamed: 0  id  team_api_id  team_fifa_api_id     team_long_name  \\\n",
      "0           0   1         9987             673.0           KRC Genk   \n",
      "1           1   2         9993             675.0       Beerschot AC   \n",
      "2           2   3        10000           15005.0   SV Zulte-Waregem   \n",
      "3           3   4         9994            2007.0   Sporting Lokeren   \n",
      "4           4   5         9984            1750.0  KSV Cercle Brugge   \n",
      "\n",
      "  team_short_name  \n",
      "0             GEN  \n",
      "1             BAC  \n",
      "2             ZUL  \n",
      "3             LOK  \n",
      "4             CEB  \n"
     ]
    }
   ],
   "source": [
    "#data=pd.read_csv('.\\csv files\\Season 1993_1994\\D1.csv', header=0, index_col=0)\n",
    "#data.head()\n",
    "df = load_merge_data()"
   ]
  },
  {
   "cell_type": "markdown",
   "metadata": {},
   "source": [
    "#### Scrape Data For Features \n"
   ]
  },
  {
   "cell_type": "code",
   "execution_count": 4,
   "metadata": {},
   "outputs": [
    {
     "name": "stdout",
     "output_type": "stream",
     "text": [
      "   id  team_api_id  team_fifa_api_id     team_long_name team_short_name\n",
      "0   1         9987             673.0           KRC Genk             GEN\n",
      "1   2         9993             675.0       Beerschot AC             BAC\n",
      "2   3        10000           15005.0   SV Zulte-Waregem             ZUL\n",
      "3   4         9994            2007.0   Sporting Lokeren             LOK\n",
      "4   5         9984            1750.0  KSV Cercle Brugge             CEB\n"
     ]
    }
   ],
   "source": [
    "import sqlite3\n",
    "\n",
    "database = sqlite3.connect('database.sqlite')\n",
    "\n",
    "#look up table names\n",
    "all_tables = pd.read_sql(\"SELECT * FROM sqlite_master;\", database)\n",
    "#print(all_tables)\n",
    "\n",
    "players = all_tables.get(4)\n",
    "players = pd.read_sql(\"SELECT * FROM Player;\", database)\n",
    "matches = pd.read_sql(\"SELECT * FROM Match;\", database)\n",
    "leagues = pd.read_sql(\"SELECT * FROM League;\", database)\n",
    "countries = pd.read_sql(\"SELECT * FROM Country;\", database)\n",
    "teams = pd.read_sql(\"SELECT * FROM Team;\", database)\n",
    "team_attributes = pd.read_sql(\"SELECT * FROM Team_Attributes;\", database)\n",
    "player_attributes = pd.read_sql(\"SELECT * FROM Player_Attributes;\",database)\n",
    "\n",
    "table_list = [players, matches, leagues, countries, teams, team_attributes, player_attributes]\n",
    "total_list = pd.DataFrame()\n",
    "#for table in table_list:\n",
    "#   print '\\n',table.info(),table.head()\n",
    "    \n",
    "total_list = pd.concat(table_list, axis=1, keys=['players','matches','leagues','countries','teams','team_attributes','player_attributes'])\n",
    "\n",
    "print teams.head()"
   ]
  },
  {
   "cell_type": "code",
   "execution_count": 5,
   "metadata": {},
   "outputs": [
    {
     "name": "stdout",
     "output_type": "stream",
     "text": [
      "        id  team_api_id  team_fifa_api_id team_long_name team_short_name\n",
      "258  43042         8634             241.0   FC Barcelona             BAR\n",
      "8634\n"
     ]
    }
   ],
   "source": [
    "# total_list.to_csv('mergedlist.csv', encoding='utf-8')\n",
    "\n",
    "team_barcelona = teams.loc[teams['team_long_name'] == 'FC Barcelona']\n",
    "\n",
    "print team_barcelona.loc[:'team_api_id']\n",
    "print team_barcelona.iloc[0]['team_api_id']\n",
    "\n",
    "teams.to_csv('teams.csv', encoding='utf-8')\n"
   ]
  },
  {
   "cell_type": "markdown",
   "metadata": {
    "collapsed": true
   },
   "source": [
    "### Team Rating Scrapping\n",
    "- Team fifa ratings\n",
    "- NLP team sentiment"
   ]
  },
  {
   "cell_type": "code",
   "execution_count": 6,
   "metadata": {},
   "outputs": [
    {
     "name": "stdout",
     "output_type": "stream",
     "text": [
      "   id  team_api_id  team_fifa_api_id     team_long_name team_short_name\n",
      "0   1         9987             673.0           KRC Genk             GEN\n",
      "1   2         9993             675.0       Beerschot AC             BAC\n",
      "2   3        10000           15005.0   SV Zulte-Waregem             ZUL\n",
      "3   4         9994            2007.0   Sporting Lokeren             LOK\n",
      "4   5         9984            1750.0  KSV Cercle Brugge             CEB\n"
     ]
    }
   ],
   "source": [
    "from bs4 import BeautifulSoup\n",
    "import GetOldTweets\n",
    "import requests\n",
    "import urllib, json\n",
    "\n",
    "print teams.head()"
   ]
  },
  {
   "cell_type": "code",
   "execution_count": 9,
   "metadata": {},
   "outputs": [
    {
     "name": "stdout",
     "output_type": "stream",
     "text": [
      "SPI Ratings\n",
      "\n",
      "4    8456\n",
      "Name: team_api_id, dtype: int64\n",
      "12    10260\n",
      "Name: team_api_id, dtype: int64\n"
     ]
    }
   ],
   "source": [
    "team_name = teams.loc[teams['team_api_id'] == 9987]\n",
    "\n",
    "name = team_name['team_long_name']\n",
    "\n",
    "# tweet_criteria = GetOldTweets.got.manager.TweetCriteria().setQuerySearch(name.get(0)).setSince(\"2010-01-01\").setMaxTweets(100)\n",
    "\n",
    "dataframe = pd.DataFrame(columns=dataframeColumns())\n",
    "webpage = \"Global Club Soccer Rankings _ FiveThirtyEight.htm\"\n",
    "#page = urllib.urlopen('https://projects.fivethirtyeight.com/global-club-soccer-rankings/')\n",
    "\n",
    "with open(webpage) as fp:\n",
    "    soup = BeautifulSoup(fp, 'lxml')\n",
    "    \n",
    "team_names =  soup.find_all('div', attrs={'class':'name'})\n",
    "    \n",
    "team_offense_ratings = soup.find_all('td', attrs={'class':'num rating offense drop-6'})\n",
    "\n",
    "#for b in team_offense_ratings:\n",
    "    #print b.text\n",
    "    \n",
    "team_defense_ratings = soup.find_all('td', attrs={'class':\"num rating defense drop-6\"})\n",
    "team_spi_ratings = soup.find_all('td', attrs={'class':\"num\"})\n",
    "\n",
    "team_spi_parsed = []\n",
    "print 'SPI Ratings\\n'\n",
    "for c in range(3, len(team_spi_ratings), 4):\n",
    "    team_spi_parsed.append(float(team_spi_ratings[c].contents[0]))\n",
    "\n",
    "\n",
    "team_ranking = soup.find_all('td', attrs={'class':'num ranking'})\n",
    "\n",
    "for i in range(len(team_names)):\n",
    "    team_api_id = getTeamId(team_names[i].text, teams)\n",
    "    dataframe.loc[len(dataframe)] = [team_api_id, team_ranking[i].text, team_names[i].text, team_offense_ratings[i].text, team_defense_ratings[i].text, team_spi_parsed[i]]\n",
    "\n",
    "\n",
    "team_manchester = teams.loc[teams['team_long_name'] == 'Manchester City']\n",
    "\n",
    "api_id = teams.iloc[team_manchester.index]['team_api_id']\n",
    "api = api_id.get_values()\n",
    "\n",
    "man_loc = dataframe.loc[dataframe['team_long_name'] == 'Man. City']\n",
    "\n",
    "dataframe.loc[man_loc.index,'team_api_id'] = api[0]\n",
    "\n",
    "print dataframe.loc[dataframe['team_long_name'] == 'Man. City']['team_api_id']\n",
    "\n",
    "\n",
    "team_united = teams.loc[teams['team_long_name'] == 'Manchester United']\n",
    "api_id = teams.iloc[team_united.index]['team_api_id']\n",
    "api = api_id.get_values()\n",
    "united_loc = dataframe.loc[dataframe['team_long_name'] == 'Man. United']\n",
    "dataframe.loc[united_loc.index,'team_api_id'] = api[0]\n",
    "print dataframe.loc[dataframe['team_long_name'] == 'Man. United']['team_api_id']\n",
    "\n",
    "dataframe.to_csv('team_rankings.csv', encoding='utf-8')\n",
    "\n"
   ]
  },
  {
   "cell_type": "code",
   "execution_count": 10,
   "metadata": {},
   "outputs": [],
   "source": [
    "def dataframeColumns():\n",
    "    return [\"team_api_id\",\"team_rank\",\"team_long_name\",\"team_offense_rating\",\"team_defense_rating\",\"team_spi_rating\"]\n",
    "\n",
    "def getTeamId(team_name, teams_csv):\n",
    "    returned_id = teams_csv.loc[teams_csv['team_short_name'].str.contains(team_name)]\n",
    "    if (returned_id.empty):\n",
    "        returned_id = teams_csv.loc[teams_csv['team_long_name'].str.contains(team_name)]\n",
    "    if (returned_id.empty):\n",
    "        return 0\n",
    "    else:\n",
    "        return returned_id.iloc[0]['team_api_id']\n",
    "    "
   ]
  },
  {
   "cell_type": "markdown",
   "metadata": {},
   "source": [
    "### Adding New Features To Large Dataset"
   ]
  },
  {
   "cell_type": "code",
   "execution_count": null,
   "metadata": {},
   "outputs": [
    {
     "name": "stdout",
     "output_type": "stream",
     "text": [
      "    team_api_id team_rank team_long_name team_offense_rating  \\\n",
      "85         8635        86     Anderlecht                 1.7   \n",
      "\n",
      "   team_defense_rating  team_spi_rating  \n",
      "85                 1.1             59.3  \n",
      "8635\n"
     ]
    }
   ],
   "source": [
    "final_csv = pd.read_csv('FINAL_ALL_FEATURES_NO_NAN_final.csv')\n",
    "\n",
    "new_cols = ['home_team_rating','away_team_rating','home_team_offensive_rating','away_team_offensive_rating','home_team_defensive_rating','away_team_defensive_rating']\n",
    "for col in new_cols:\n",
    "    final_csv[col] = 0\n",
    "i = 0;\n",
    "first_col_id = final_csv.loc[i,'home_team_api_id']\n",
    "first_col_matching = dataframe.loc[dataframe['team_api_id'] == first_col_id]\n",
    "print first_col_matching\n",
    "print first_col_id\n",
    "\n",
    "for index in final_csv.index:\n",
    "    row_home_id = final_csv.loc[index,'home_team_api_id']\n",
    "    home_col_matching = dataframe.loc[dataframe['team_api_id'] == row_home_id]\n",
    "    if (home_col_matching.empty):\n",
    "        final_csv.loc[index,'home_team_rating'] = 0\n",
    "        final_csv.loc[index, 'home_team_offensive_rating'] = 0\n",
    "        final_csv.loc[index, 'home_team_defensive_rating'] = 0\n",
    "    else:\n",
    "        final_csv[index, 'home_team_rating'] = dataframe.loc[dataframe['team_api_id']==row_home_id, 'team_spi_rating']\n",
    "        final_csv[index, 'home_team_offensive_rating'] = dataframe.loc[dataframe['team_api_id']==row_home_id, 'team_offense_rating']\n",
    "        final_csv[index, 'home_team_defensive_rating'] = dataframe.loc[dataframe['team_api_id']==row_home_id, 'team_defense_rating']\n",
    "    row_away_id = final_csv.loc[index,'away_team_api_id']\n",
    "    away_col_matching = dataframe.loc[dataframe['team_api_id'] == row_away_id]\n",
    "    if (away_col_matching.empty):\n",
    "        final_csv.loc[index,'away_team_rating'] = 0\n",
    "        final_csv.loc[index, 'away_team_offensive_rating'] = 0\n",
    "        final_csv.loc[index, 'away_team_defensive_rating'] = 0\n",
    "    else:\n",
    "        final_csv[index, 'away_team_rating'] = dataframe.loc[dataframe['team_api_id']==row_away_id, 'team_spi_rating']\n",
    "        final_csv[index, 'away_team_offensive_rating'] = dataframe.loc[dataframe['team_api_id']==row_away_id, 'team_offense_rating']\n",
    "        final_csv[index, 'away_team_defensive_rating'] = dataframe.loc[dataframe['team_api_id']==row_away_id, 'team_defense_rating']\n",
    "        \n",
    "final_csv.head()\n"
   ]
  },
  {
   "cell_type": "code",
   "execution_count": null,
   "metadata": {
    "collapsed": true
   },
   "outputs": [],
   "source": [
    "final_csv['shot_success_rate'] = 0\n",
    "\n",
    "for index in final_csv.index:\n",
    "    final_csv[index, 'home_shot_success_rate'] = \n",
    "    final_csv[index, 'away_shot_success_rate'] = "
   ]
  },
  {
   "cell_type": "code",
   "execution_count": null,
   "metadata": {
    "collapsed": true
   },
   "outputs": [],
   "source": []
  }
 ],
 "metadata": {
  "kernelspec": {
   "display_name": "Python 2",
   "language": "python",
   "name": "python2"
  },
  "language_info": {
   "codemirror_mode": {
    "name": "ipython",
    "version": 2
   },
   "file_extension": ".py",
   "mimetype": "text/x-python",
   "name": "python",
   "nbconvert_exporter": "python",
   "pygments_lexer": "ipython2",
   "version": "2.7.12"
  }
 },
 "nbformat": 4,
 "nbformat_minor": 2
}
