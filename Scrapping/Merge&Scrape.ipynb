{
 "cells": [
  {
   "cell_type": "markdown",
   "metadata": {},
   "source": [
    "Merging divisions per season and saving in csv fil"
   ]
  },
  {
   "cell_type": "code",
   "execution_count": 1,
   "metadata": {
    "collapsed": true
   },
   "outputs": [],
   "source": [
    "import pandas as pd\n",
    "import os\n",
    "import numpy as np"
   ]
  },
  {
   "cell_type": "code",
   "execution_count": 7,
   "metadata": {
    "collapsed": true
   },
   "outputs": [],
   "source": [
    "def load_merge_data():\n",
    "    df = pd.DataFrame()\n",
    "    bool=False\n",
    "    for subdir, dirs, files in os.walk('.'):\n",
    "        #print(subdir)\n",
    "        for file in files:\n",
    "            #print(file)\n",
    "            ext = os.path.splitext(file)[-1].lower()\n",
    "            if ext == \".csv\":\n",
    "                datapath=os.path.join(subdir, file)\n",
    "                #print(datapath)\n",
    "                try:\n",
    "                    data=pd.read_csv(datapath, header=0)\n",
    "                    print(data.head())\n",
    "                    #print(data)\n",
    "                    df=pd.concat([df, data], axis=0, ignore_index=True)\n",
    "                    bool=True\n",
    "                    #print(d)\n",
    "                    #print(datapath)\n",
    "                except Exception:\n",
    "                    print(\"Cannot read files: \",datapath)\n",
    "        if bool:\n",
    "            df.to_csv(subdir + '.csv')\n",
    "        df = pd.DataFrame()\n",
    "        \n",
    "        return df\n",
    "        "
   ]
  },
  {
   "cell_type": "code",
   "execution_count": 9,
   "metadata": {
    "scrolled": false
   },
   "outputs": [
    {
     "name": "stdout",
     "output_type": "stream",
     "text": [
      "Empty DataFrame\n",
      "Columns: [Unnamed: 0]\n",
      "Index: []\n",
      "Empty DataFrame\n",
      "Columns: [Unnamed: 0]\n",
      "Index: []\n",
      "   Unnamed: 0  ABP  AC  AF  AHW  AO  AR  AS  AST   AT  ...   Unnamed: 62  \\\n",
      "0           0  NaN NaN NaN  NaN NaN NaN NaN  NaN  NaN  ...           NaN   \n",
      "1           1  NaN NaN NaN  NaN NaN NaN NaN  NaN  NaN  ...           NaN   \n",
      "2           2  NaN NaN NaN  NaN NaN NaN NaN  NaN  NaN  ...           NaN   \n",
      "3           3  NaN NaN NaN  NaN NaN NaN NaN  NaN  NaN  ...           NaN   \n",
      "4           4  NaN NaN NaN  NaN NaN NaN NaN  NaN  NaN  ...           NaN   \n",
      "\n",
      "   Unnamed: 70 Unnamed: 71  Unnamed: 72  VCA  VCD  VCH  WHA  WHD   WHH  \n",
      "0          NaN         NaN          NaN  NaN  NaN  NaN  2.9  3.4  2.00  \n",
      "1          NaN         NaN          NaN  NaN  NaN  NaN  2.4  3.3  2.40  \n",
      "2          NaN         NaN          NaN  NaN  NaN  NaN  2.4  3.3  2.40  \n",
      "3          NaN         NaN          NaN  NaN  NaN  NaN  NaN  NaN   NaN  \n",
      "4          NaN         NaN          NaN  NaN  NaN  NaN  4.2  3.6  1.61  \n",
      "\n",
      "[5 rows x 152 columns]\n"
     ]
    }
   ],
   "source": [
    "#data=pd.read_csv('.\\csv files\\Season 1993_1994\\D1.csv', header=0, index_col=0)\n",
    "#data.head()\n",
    "df = load_merge_data()"
   ]
  },
  {
   "cell_type": "markdown",
   "metadata": {},
   "source": [
    "#### Scrape Data For Features \n"
   ]
  },
  {
   "cell_type": "code",
   "execution_count": 58,
   "metadata": {},
   "outputs": [
    {
     "name": "stdout",
     "output_type": "stream",
     "text": [
      "     type                        name           tbl_name  rootpage  \\\n",
      "0   table             sqlite_sequence    sqlite_sequence         4   \n",
      "1   table           Player_Attributes  Player_Attributes        11   \n",
      "2   table                      Player             Player        14   \n",
      "3   index   sqlite_autoindex_Player_1             Player        15   \n",
      "4   index   sqlite_autoindex_Player_2             Player        17   \n",
      "5   table                       Match              Match        18   \n",
      "6   index    sqlite_autoindex_Match_1              Match        19   \n",
      "7   table                      League             League        24   \n",
      "8   index   sqlite_autoindex_League_1             League        25   \n",
      "9   table                     Country            Country        26   \n",
      "10  index  sqlite_autoindex_Country_1            Country        28   \n",
      "11  table                        Team               Team        29   \n",
      "12  index     sqlite_autoindex_Team_1               Team        30   \n",
      "13  table             Team_Attributes    Team_Attributes         2   \n",
      "\n",
      "                                                  sql  \n",
      "0              CREATE TABLE sqlite_sequence(name,seq)  \n",
      "1   CREATE TABLE \"Player_Attributes\" (\\n\\t`id`\\tIN...  \n",
      "2   CREATE TABLE `Player` (\\n\\t`id`\\tINTEGER PRIMA...  \n",
      "3                                                None  \n",
      "4                                                None  \n",
      "5   CREATE TABLE `Match` (\\n\\t`id`\\tINTEGER PRIMAR...  \n",
      "6                                                None  \n",
      "7   CREATE TABLE `League` (\\n\\t`id`\\tINTEGER PRIMA...  \n",
      "8                                                None  \n",
      "9   CREATE TABLE `Country` (\\n\\t`id`\\tINTEGER PRIM...  \n",
      "10                                               None  \n",
      "11  CREATE TABLE \"Team\" (\\n\\t`id`\\tINTEGER PRIMARY...  \n",
      "12                                               None  \n",
      "13  CREATE TABLE `Team_Attributes` (\\n\\t`id`\\tINTE...  \n",
      "    id  player_api_id         player_name  player_fifa_api_id  \\\n",
      "0  1.0       505942.0  Aaron Appindangoye            218353.0   \n",
      "1  2.0       155782.0     Aaron Cresswell            189615.0   \n",
      "2  3.0       162549.0         Aaron Doran            186170.0   \n",
      "3  4.0        30572.0       Aaron Galindo            140161.0   \n",
      "4  5.0        23780.0        Aaron Hughes             17725.0   \n",
      "\n",
      "              birthday  height  weight   id  country_id  league_id  \\\n",
      "0  1992-02-29 00:00:00  182.88   187.0  1.0         1.0        1.0   \n",
      "1  1989-12-15 00:00:00  170.18   146.0  2.0         1.0        1.0   \n",
      "2  1991-05-13 00:00:00  170.18   163.0  3.0         1.0        1.0   \n",
      "3  1982-05-08 00:00:00  182.88   198.0  4.0         1.0        1.0   \n",
      "4  1979-11-08 00:00:00  182.88   154.0  5.0         1.0        1.0   \n",
      "\n",
      "      ...      vision  penalties marking  standing_tackle  sliding_tackle  \\\n",
      "0     ...        54.0       48.0    65.0             69.0            69.0   \n",
      "1     ...        54.0       48.0    65.0             69.0            69.0   \n",
      "2     ...        54.0       48.0    65.0             66.0            69.0   \n",
      "3     ...        53.0       47.0    62.0             63.0            66.0   \n",
      "4     ...        53.0       47.0    62.0             63.0            66.0   \n",
      "\n",
      "   gk_diving  gk_handling  gk_kicking  gk_positioning  gk_reflexes  \n",
      "0        6.0         11.0        10.0             8.0          8.0  \n",
      "1        6.0         11.0        10.0             8.0          8.0  \n",
      "2        6.0         11.0        10.0             8.0          8.0  \n",
      "3        5.0         10.0         9.0             7.0          7.0  \n",
      "4        5.0         10.0         9.0             7.0          7.0  \n",
      "\n",
      "[5 rows x 199 columns]\n",
      "<class 'pandas.core.frame.DataFrame'>\n",
      "RangeIndex: 183978 entries, 0 to 183977\n",
      "Columns: 199 entries, id to gk_reflexes\n",
      "dtypes: float64(163), int64(3), object(33)\n",
      "memory usage: 279.3+ MB\n",
      "None\n"
     ]
    }
   ],
   "source": [
    "import sqlite3\n",
    "\n",
    "database = sqlite3.connect('database.sqlite')\n",
    "\n",
    "#look up table names\n",
    "all_tables = pd.read_sql(\"SELECT * FROM sqlite_master;\", database)\n",
    "print(all_tables)\n",
    "\n",
    "players = all_tables.get(4)\n",
    "players = pd.read_sql(\"SELECT * FROM Player;\", database)\n",
    "matches = pd.read_sql(\"SELECT * FROM Match;\", database)\n",
    "leagues = pd.read_sql(\"SELECT * FROM League;\", database)\n",
    "countries = pd.read_sql(\"SELECT * FROM Country;\", database)\n",
    "teams = pd.read_sql(\"SELECT * FROM Team;\", database)\n",
    "team_attributes = pd.read_sql(\"SELECT * FROM Team_Attributes;\", database)\n",
    "player_attributes = pd.read_sql(\"SELECT * FROM Player_Attributes;\",database)\n",
    "\n",
    "table_list = [players, matches, leagues, countries, teams, team_attributes, player_attributes]\n",
    "total_list = pd.DataFrame()\n",
    "#for table in table_list:\n",
    "#   print '\\n',table.info(),table.head()\n",
    "    \n",
    "total_list = pd.concat(table_list, axis=1)\n",
    "\n",
    "print total_list.head()\n",
    "print total_list.info()"
   ]
  },
  {
   "cell_type": "code",
   "execution_count": 60,
   "metadata": {},
   "outputs": [],
   "source": [
    "total_list.to_csv('mergedlist.csv', encoding='utf-8')"
   ]
  },
  {
   "cell_type": "code",
   "execution_count": null,
   "metadata": {
    "collapsed": true
   },
   "outputs": [],
   "source": []
  }
 ],
 "metadata": {
  "kernelspec": {
   "display_name": "Python 2",
   "language": "python",
   "name": "python2"
  },
  "language_info": {
   "codemirror_mode": {
    "name": "ipython",
    "version": 2
   },
   "file_extension": ".py",
   "mimetype": "text/x-python",
   "name": "python",
   "nbconvert_exporter": "python",
   "pygments_lexer": "ipython2",
   "version": "2.7.13"
  }
 },
 "nbformat": 4,
 "nbformat_minor": 2
}
