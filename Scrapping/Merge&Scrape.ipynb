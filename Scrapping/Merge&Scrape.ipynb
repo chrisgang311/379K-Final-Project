{
 "cells": [
  {
   "cell_type": "markdown",
   "metadata": {},
   "source": [
    "Merging divisions per season and saving in csv fil"
   ]
  },
  {
   "cell_type": "code",
   "execution_count": 1,
   "metadata": {},
   "outputs": [],
   "source": [
    "import pandas as pd\n",
    "import os\n",
    "import numpy as np"
   ]
  },
  {
   "cell_type": "code",
   "execution_count": 2,
   "metadata": {},
   "outputs": [],
   "source": [
    "def load_merge_data():\n",
    "    df = pd.DataFrame()\n",
    "    bool=False\n",
    "    for subdir, dirs, files in os.walk('.'):\n",
    "        #print(subdir)\n",
    "        for file in files:\n",
    "            #print(file)\n",
    "            ext = os.path.splitext(file)[-1].lower()\n",
    "            if ext == \".csv\":\n",
    "                datapath=os.path.join(subdir, file)\n",
    "                #print(datapath)\n",
    "                try:\n",
    "                    data=pd.read_csv(datapath, header=0)\n",
    "                    print(data.head())\n",
    "                    #print(data)\n",
    "                    df=pd.concat([df, data], axis=0, ignore_index=True)\n",
    "                    bool=True\n",
    "                    #print(d)\n",
    "                    #print(datapath)\n",
    "                except Exception:\n",
    "                    print(\"Cannot read files: \",datapath)\n",
    "        if bool:\n",
    "            df.to_csv(subdir + '.csv')\n",
    "        df = pd.DataFrame()\n",
    "        \n",
    "        return df\n",
    "        "
   ]
  },
  {
   "cell_type": "code",
   "execution_count": 3,
   "metadata": {
    "scrolled": false
   },
   "outputs": [
    {
     "name": "stdout",
     "output_type": "stream",
     "text": [
      "   Unnamed: 0   id  match_api_id  home_team_api_id  away_team_api_id  \\\n",
      "0         145  540        838599              8635             10001   \n",
      "1         153  549        838622              9991              8203   \n",
      "2         155  552        838625             10000              9994   \n",
      "3         162  563        838646              9984              9991   \n",
      "4         168  569        838658              9986             10001   \n",
      "\n",
      "      season        date result_label  away_Defender_rating  \\\n",
      "0  2010/2011  2010-10-24     HOME_WIN             64.500000   \n",
      "1  2010/2011  2010-10-30     HOME_WIN             64.600000   \n",
      "2  2010/2011  2010-10-30         DRAW             64.000000   \n",
      "3  2010/2011  2010-11-07     AWAY_WIN             63.000000   \n",
      "4  2010/2011  2010-11-13     AWAY_WIN             64.666667   \n",
      "\n",
      "   home_Defender_rating              ...                home_Midfielder_bmi  \\\n",
      "0             72.666667              ...                          21.744214   \n",
      "1             65.666667              ...                          23.044354   \n",
      "2             64.333333              ...                          23.684403   \n",
      "3             64.750000              ...                          23.244094   \n",
      "4             61.000000              ...                          22.591388   \n",
      "\n",
      "   shoton_home  shoton_away  shotoff_home  shotoff_away  HOME_DRAW_RATE  \\\n",
      "0          0.0          0.0           0.0           0.0        0.142857   \n",
      "1          0.0          0.0           0.0           0.0        0.117647   \n",
      "2          0.0          0.0           0.0           0.0        0.375000   \n",
      "3          0.0          0.0           0.0           0.0        0.136364   \n",
      "4          0.0          0.0           0.0           0.0        0.000000   \n",
      "\n",
      "   HOME_DRAW_RATE_THIS_SEASON  AWAY_DRAW_RATE  AWAY_DRAW_RATE_THIS_SEASON  \\\n",
      "0                    0.200000        0.181818                        0.25   \n",
      "1                    0.000000        0.066667                        0.20   \n",
      "2                    0.200000        0.153846                        0.50   \n",
      "3                    0.166667        0.200000                        0.00   \n",
      "4                    0.000000        0.166667                        0.20   \n",
      "\n",
      "   AWAY_DRAW_RATE_AT_THIS_GROUND  \n",
      "0                       0.000000  \n",
      "1                       0.000000  \n",
      "2                       0.145833  \n",
      "3                       1.000000  \n",
      "4                       1.000000  \n",
      "\n",
      "[5 rows x 55 columns]\n",
      "   Unnamed: 0  team_api_id  team_rank team_long_name  team_offense_rating  \\\n",
      "0           0         8634          1      Barcelona                  3.3   \n",
      "1           1         8633          2    Real Madrid                  3.4   \n",
      "2           2         9823          3  Bayern Munich                  3.2   \n",
      "3           3         9847          4            PSG                  3.2   \n",
      "4           4         8456          5      Man. City                  3.0   \n",
      "\n",
      "   team_defense_rating  team_spi_rating  \n",
      "0                  0.3             93.5  \n",
      "1                  0.4             92.8  \n",
      "2                  0.4             92.1  \n",
      "3                  0.5             91.7  \n",
      "4                  0.5             89.4  \n",
      "   Unnamed: 0  id  team_api_id  team_fifa_api_id     team_long_name  \\\n",
      "0           0   1         9987             673.0           KRC Genk   \n",
      "1           1   2         9993             675.0       Beerschot AC   \n",
      "2           2   3        10000           15005.0   SV Zulte-Waregem   \n",
      "3           3   4         9994            2007.0   Sporting Lokeren   \n",
      "4           4   5         9984            1750.0  KSV Cercle Brugge   \n",
      "\n",
      "  team_short_name  \n",
      "0             GEN  \n",
      "1             BAC  \n",
      "2             ZUL  \n",
      "3             LOK  \n",
      "4             CEB  \n"
     ]
    },
    {
     "ename": "KeyboardInterrupt",
     "evalue": "",
     "output_type": "error",
     "traceback": [
      "\u001b[0;31m---------------------------------------------------------------------------\u001b[0m",
      "\u001b[0;31mKeyboardInterrupt\u001b[0m                         Traceback (most recent call last)",
      "\u001b[0;32m<ipython-input-3-cc52a7064554>\u001b[0m in \u001b[0;36m<module>\u001b[0;34m()\u001b[0m\n\u001b[1;32m      1\u001b[0m \u001b[0;31m#data=pd.read_csv('.\\csv files\\Season 1993_1994\\D1.csv', header=0, index_col=0)\u001b[0m\u001b[0;34m\u001b[0m\u001b[0;34m\u001b[0m\u001b[0m\n\u001b[1;32m      2\u001b[0m \u001b[0;31m#data.head()\u001b[0m\u001b[0;34m\u001b[0m\u001b[0;34m\u001b[0m\u001b[0m\n\u001b[0;32m----> 3\u001b[0;31m \u001b[0mdf\u001b[0m \u001b[0;34m=\u001b[0m \u001b[0mload_merge_data\u001b[0m\u001b[0;34m(\u001b[0m\u001b[0;34m)\u001b[0m\u001b[0;34m\u001b[0m\u001b[0m\n\u001b[0m",
      "\u001b[0;32m<ipython-input-2-e029d5297f4f>\u001b[0m in \u001b[0;36mload_merge_data\u001b[0;34m()\u001b[0m\n\u001b[1;32m     11\u001b[0m                 \u001b[0;31m#print(datapath)\u001b[0m\u001b[0;34m\u001b[0m\u001b[0;34m\u001b[0m\u001b[0m\n\u001b[1;32m     12\u001b[0m                 \u001b[0;32mtry\u001b[0m\u001b[0;34m:\u001b[0m\u001b[0;34m\u001b[0m\u001b[0m\n\u001b[0;32m---> 13\u001b[0;31m                     \u001b[0mdata\u001b[0m\u001b[0;34m=\u001b[0m\u001b[0mpd\u001b[0m\u001b[0;34m.\u001b[0m\u001b[0mread_csv\u001b[0m\u001b[0;34m(\u001b[0m\u001b[0mdatapath\u001b[0m\u001b[0;34m,\u001b[0m \u001b[0mheader\u001b[0m\u001b[0;34m=\u001b[0m\u001b[0;36m0\u001b[0m\u001b[0;34m)\u001b[0m\u001b[0;34m\u001b[0m\u001b[0m\n\u001b[0m\u001b[1;32m     14\u001b[0m                     \u001b[0;32mprint\u001b[0m\u001b[0;34m(\u001b[0m\u001b[0mdata\u001b[0m\u001b[0;34m.\u001b[0m\u001b[0mhead\u001b[0m\u001b[0;34m(\u001b[0m\u001b[0;34m)\u001b[0m\u001b[0;34m)\u001b[0m\u001b[0;34m\u001b[0m\u001b[0m\n\u001b[1;32m     15\u001b[0m                     \u001b[0;31m#print(data)\u001b[0m\u001b[0;34m\u001b[0m\u001b[0;34m\u001b[0m\u001b[0m\n",
      "\u001b[0;32m/usr/local/lib/python2.7/dist-packages/pandas/io/parsers.pyc\u001b[0m in \u001b[0;36mparser_f\u001b[0;34m(filepath_or_buffer, sep, delimiter, header, names, index_col, usecols, squeeze, prefix, mangle_dupe_cols, dtype, engine, converters, true_values, false_values, skipinitialspace, skiprows, nrows, na_values, keep_default_na, na_filter, verbose, skip_blank_lines, parse_dates, infer_datetime_format, keep_date_col, date_parser, dayfirst, iterator, chunksize, compression, thousands, decimal, lineterminator, quotechar, quoting, escapechar, comment, encoding, dialect, tupleize_cols, error_bad_lines, warn_bad_lines, skipfooter, skip_footer, doublequote, delim_whitespace, as_recarray, compact_ints, use_unsigned, low_memory, buffer_lines, memory_map, float_precision)\u001b[0m\n\u001b[1;32m    703\u001b[0m                     skip_blank_lines=skip_blank_lines)\n\u001b[1;32m    704\u001b[0m \u001b[0;34m\u001b[0m\u001b[0m\n\u001b[0;32m--> 705\u001b[0;31m         \u001b[0;32mreturn\u001b[0m \u001b[0m_read\u001b[0m\u001b[0;34m(\u001b[0m\u001b[0mfilepath_or_buffer\u001b[0m\u001b[0;34m,\u001b[0m \u001b[0mkwds\u001b[0m\u001b[0;34m)\u001b[0m\u001b[0;34m\u001b[0m\u001b[0m\n\u001b[0m\u001b[1;32m    706\u001b[0m \u001b[0;34m\u001b[0m\u001b[0m\n\u001b[1;32m    707\u001b[0m     \u001b[0mparser_f\u001b[0m\u001b[0;34m.\u001b[0m\u001b[0m__name__\u001b[0m \u001b[0;34m=\u001b[0m \u001b[0mname\u001b[0m\u001b[0;34m\u001b[0m\u001b[0m\n",
      "\u001b[0;32m/usr/local/lib/python2.7/dist-packages/pandas/io/parsers.pyc\u001b[0m in \u001b[0;36m_read\u001b[0;34m(filepath_or_buffer, kwds)\u001b[0m\n\u001b[1;32m    449\u001b[0m \u001b[0;34m\u001b[0m\u001b[0m\n\u001b[1;32m    450\u001b[0m     \u001b[0;32mtry\u001b[0m\u001b[0;34m:\u001b[0m\u001b[0;34m\u001b[0m\u001b[0m\n\u001b[0;32m--> 451\u001b[0;31m         \u001b[0mdata\u001b[0m \u001b[0;34m=\u001b[0m \u001b[0mparser\u001b[0m\u001b[0;34m.\u001b[0m\u001b[0mread\u001b[0m\u001b[0;34m(\u001b[0m\u001b[0mnrows\u001b[0m\u001b[0;34m)\u001b[0m\u001b[0;34m\u001b[0m\u001b[0m\n\u001b[0m\u001b[1;32m    452\u001b[0m     \u001b[0;32mfinally\u001b[0m\u001b[0;34m:\u001b[0m\u001b[0;34m\u001b[0m\u001b[0m\n\u001b[1;32m    453\u001b[0m         \u001b[0mparser\u001b[0m\u001b[0;34m.\u001b[0m\u001b[0mclose\u001b[0m\u001b[0;34m(\u001b[0m\u001b[0;34m)\u001b[0m\u001b[0;34m\u001b[0m\u001b[0m\n",
      "\u001b[0;32m/usr/local/lib/python2.7/dist-packages/pandas/io/parsers.pyc\u001b[0m in \u001b[0;36mread\u001b[0;34m(self, nrows)\u001b[0m\n\u001b[1;32m   1063\u001b[0m                 \u001b[0;32mraise\u001b[0m \u001b[0mValueError\u001b[0m\u001b[0;34m(\u001b[0m\u001b[0;34m'skipfooter not supported for iteration'\u001b[0m\u001b[0;34m)\u001b[0m\u001b[0;34m\u001b[0m\u001b[0m\n\u001b[1;32m   1064\u001b[0m \u001b[0;34m\u001b[0m\u001b[0m\n\u001b[0;32m-> 1065\u001b[0;31m         \u001b[0mret\u001b[0m \u001b[0;34m=\u001b[0m \u001b[0mself\u001b[0m\u001b[0;34m.\u001b[0m\u001b[0m_engine\u001b[0m\u001b[0;34m.\u001b[0m\u001b[0mread\u001b[0m\u001b[0;34m(\u001b[0m\u001b[0mnrows\u001b[0m\u001b[0;34m)\u001b[0m\u001b[0;34m\u001b[0m\u001b[0m\n\u001b[0m\u001b[1;32m   1066\u001b[0m \u001b[0;34m\u001b[0m\u001b[0m\n\u001b[1;32m   1067\u001b[0m         \u001b[0;32mif\u001b[0m \u001b[0mself\u001b[0m\u001b[0;34m.\u001b[0m\u001b[0moptions\u001b[0m\u001b[0;34m.\u001b[0m\u001b[0mget\u001b[0m\u001b[0;34m(\u001b[0m\u001b[0;34m'as_recarray'\u001b[0m\u001b[0;34m)\u001b[0m\u001b[0;34m:\u001b[0m\u001b[0;34m\u001b[0m\u001b[0m\n",
      "\u001b[0;32m/usr/local/lib/python2.7/dist-packages/pandas/io/parsers.pyc\u001b[0m in \u001b[0;36mread\u001b[0;34m(self, nrows)\u001b[0m\n\u001b[1;32m   1826\u001b[0m     \u001b[0;32mdef\u001b[0m \u001b[0mread\u001b[0m\u001b[0;34m(\u001b[0m\u001b[0mself\u001b[0m\u001b[0;34m,\u001b[0m \u001b[0mnrows\u001b[0m\u001b[0;34m=\u001b[0m\u001b[0mNone\u001b[0m\u001b[0;34m)\u001b[0m\u001b[0;34m:\u001b[0m\u001b[0;34m\u001b[0m\u001b[0m\n\u001b[1;32m   1827\u001b[0m         \u001b[0;32mtry\u001b[0m\u001b[0;34m:\u001b[0m\u001b[0;34m\u001b[0m\u001b[0m\n\u001b[0;32m-> 1828\u001b[0;31m             \u001b[0mdata\u001b[0m \u001b[0;34m=\u001b[0m \u001b[0mself\u001b[0m\u001b[0;34m.\u001b[0m\u001b[0m_reader\u001b[0m\u001b[0;34m.\u001b[0m\u001b[0mread\u001b[0m\u001b[0;34m(\u001b[0m\u001b[0mnrows\u001b[0m\u001b[0;34m)\u001b[0m\u001b[0;34m\u001b[0m\u001b[0m\n\u001b[0m\u001b[1;32m   1829\u001b[0m         \u001b[0;32mexcept\u001b[0m \u001b[0mStopIteration\u001b[0m\u001b[0;34m:\u001b[0m\u001b[0;34m\u001b[0m\u001b[0m\n\u001b[1;32m   1830\u001b[0m             \u001b[0;32mif\u001b[0m \u001b[0mself\u001b[0m\u001b[0;34m.\u001b[0m\u001b[0m_first_chunk\u001b[0m\u001b[0;34m:\u001b[0m\u001b[0;34m\u001b[0m\u001b[0m\n",
      "\u001b[0;32mpandas/_libs/parsers.pyx\u001b[0m in \u001b[0;36mpandas._libs.parsers.TextReader.read\u001b[0;34m()\u001b[0m\n",
      "\u001b[0;32mpandas/_libs/parsers.pyx\u001b[0m in \u001b[0;36mpandas._libs.parsers.TextReader._read_low_memory\u001b[0;34m()\u001b[0m\n",
      "\u001b[0;32mpandas/_libs/parsers.pyx\u001b[0m in \u001b[0;36mpandas._libs.parsers.TextReader._read_rows\u001b[0;34m()\u001b[0m\n",
      "\u001b[0;32mpandas/_libs/parsers.pyx\u001b[0m in \u001b[0;36mpandas._libs.parsers.TextReader._convert_column_data\u001b[0;34m()\u001b[0m\n",
      "\u001b[0;32mpandas/_libs/parsers.pyx\u001b[0m in \u001b[0;36mpandas._libs.parsers.TextReader._convert_tokens\u001b[0;34m()\u001b[0m\n",
      "\u001b[0;32mpandas/_libs/parsers.pyx\u001b[0m in \u001b[0;36mpandas._libs.parsers.TextReader._convert_with_dtype\u001b[0;34m()\u001b[0m\n",
      "\u001b[0;32m/usr/local/lib/python2.7/dist-packages/pandas/core/dtypes/common.pyc\u001b[0m in \u001b[0;36mis_integer_dtype\u001b[0;34m(arr_or_dtype)\u001b[0m\n\u001b[1;32m    775\u001b[0m \u001b[0;34m\u001b[0m\u001b[0m\n\u001b[1;32m    776\u001b[0m \u001b[0;34m\u001b[0m\u001b[0m\n\u001b[0;32m--> 777\u001b[0;31m \u001b[0;32mdef\u001b[0m \u001b[0mis_integer_dtype\u001b[0m\u001b[0;34m(\u001b[0m\u001b[0marr_or_dtype\u001b[0m\u001b[0;34m)\u001b[0m\u001b[0;34m:\u001b[0m\u001b[0;34m\u001b[0m\u001b[0m\n\u001b[0m\u001b[1;32m    778\u001b[0m     \"\"\"\n\u001b[1;32m    779\u001b[0m     \u001b[0mCheck\u001b[0m \u001b[0mwhether\u001b[0m \u001b[0mthe\u001b[0m \u001b[0mprovided\u001b[0m \u001b[0marray\u001b[0m \u001b[0;32mor\u001b[0m \u001b[0mdtype\u001b[0m \u001b[0;32mis\u001b[0m \u001b[0mof\u001b[0m \u001b[0man\u001b[0m \u001b[0minteger\u001b[0m \u001b[0mdtype\u001b[0m\u001b[0;34m.\u001b[0m\u001b[0;34m\u001b[0m\u001b[0m\n",
      "\u001b[0;31mKeyboardInterrupt\u001b[0m: "
     ]
    }
   ],
   "source": [
    "#data=pd.read_csv('.\\csv files\\Season 1993_1994\\D1.csv', header=0, index_col=0)\n",
    "#data.head()\n",
    "df = load_merge_data()"
   ]
  },
  {
   "cell_type": "markdown",
   "metadata": {},
   "source": [
    "#### Scrape Data For Features \n"
   ]
  },
  {
   "cell_type": "code",
   "execution_count": 4,
   "metadata": {},
   "outputs": [
    {
     "name": "stdout",
     "output_type": "stream",
     "text": [
      "   id  team_api_id  team_fifa_api_id     team_long_name team_short_name\n",
      "0   1         9987             673.0           KRC Genk             GEN\n",
      "1   2         9993             675.0       Beerschot AC             BAC\n",
      "2   3        10000           15005.0   SV Zulte-Waregem             ZUL\n",
      "3   4         9994            2007.0   Sporting Lokeren             LOK\n",
      "4   5         9984            1750.0  KSV Cercle Brugge             CEB\n"
     ]
    }
   ],
   "source": [
    "import sqlite3\n",
    "\n",
    "database = sqlite3.connect('database.sqlite')\n",
    "\n",
    "#look up table names\n",
    "all_tables = pd.read_sql(\"SELECT * FROM sqlite_master;\", database)\n",
    "#print(all_tables)\n",
    "\n",
    "players = all_tables.get(4)\n",
    "players = pd.read_sql(\"SELECT * FROM Player;\", database)\n",
    "matches = pd.read_sql(\"SELECT * FROM Match;\", database)\n",
    "leagues = pd.read_sql(\"SELECT * FROM League;\", database)\n",
    "countries = pd.read_sql(\"SELECT * FROM Country;\", database)\n",
    "teams = pd.read_sql(\"SELECT * FROM Team;\", database)\n",
    "team_attributes = pd.read_sql(\"SELECT * FROM Team_Attributes;\", database)\n",
    "player_attributes = pd.read_sql(\"SELECT * FROM Player_Attributes;\",database)\n",
    "\n",
    "table_list = [players, matches, leagues, countries, teams, team_attributes, player_attributes]\n",
    "total_list = pd.DataFrame()\n",
    "#for table in table_list:\n",
    "#   print '\\n',table.info(),table.head()\n",
    "    \n",
    "total_list = pd.concat(table_list, axis=1, keys=['players','matches','leagues','countries','teams','team_attributes','player_attributes'])\n",
    "\n",
    "print teams.head()"
   ]
  },
  {
   "cell_type": "code",
   "execution_count": 5,
   "metadata": {},
   "outputs": [
    {
     "name": "stdout",
     "output_type": "stream",
     "text": [
      "        id  team_api_id  team_fifa_api_id team_long_name team_short_name\n",
      "258  43042         8634             241.0   FC Barcelona             BAR\n",
      "8634\n"
     ]
    }
   ],
   "source": [
    "# total_list.to_csv('mergedlist.csv', encoding='utf-8')\n",
    "\n",
    "team_barcelona = teams.loc[teams['team_long_name'] == 'FC Barcelona']\n",
    "\n",
    "print team_barcelona.loc[:'team_api_id']\n",
    "print team_barcelona.iloc[0]['team_api_id']\n",
    "\n",
    "teams.to_csv('teams.csv', encoding='utf-8')\n"
   ]
  },
  {
   "cell_type": "markdown",
   "metadata": {
    "collapsed": true
   },
   "source": [
    "### Team Rating Scrapping\n",
    "- Team fifa ratings\n",
    "- NLP team sentiment"
   ]
  },
  {
   "cell_type": "code",
   "execution_count": 6,
   "metadata": {},
   "outputs": [
    {
     "name": "stdout",
     "output_type": "stream",
     "text": [
      "   id  team_api_id  team_fifa_api_id     team_long_name team_short_name\n",
      "0   1         9987             673.0           KRC Genk             GEN\n",
      "1   2         9993             675.0       Beerschot AC             BAC\n",
      "2   3        10000           15005.0   SV Zulte-Waregem             ZUL\n",
      "3   4         9994            2007.0   Sporting Lokeren             LOK\n",
      "4   5         9984            1750.0  KSV Cercle Brugge             CEB\n"
     ]
    }
   ],
   "source": [
    "from bs4 import BeautifulSoup\n",
    "import GetOldTweets\n",
    "import requests\n",
    "import urllib, json\n",
    "\n",
    "print teams.head()"
   ]
  },
  {
   "cell_type": "code",
   "execution_count": 9,
   "metadata": {},
   "outputs": [
    {
     "name": "stdout",
     "output_type": "stream",
     "text": [
      "SPI Ratings\n",
      "\n",
      "4    8456\n",
      "Name: team_api_id, dtype: int64\n",
      "12    10260\n",
      "Name: team_api_id, dtype: int64\n"
     ]
    }
   ],
   "source": [
    "team_name = teams.loc[teams['team_api_id'] == 9987]\n",
    "\n",
    "name = team_name['team_long_name']\n",
    "\n",
    "# tweet_criteria = GetOldTweets.got.manager.TweetCriteria().setQuerySearch(name.get(0)).setSince(\"2010-01-01\").setMaxTweets(100)\n",
    "\n",
    "dataframe = pd.DataFrame(columns=dataframeColumns())\n",
    "webpage = \"Global Club Soccer Rankings _ FiveThirtyEight.htm\"\n",
    "#page = urllib.urlopen('https://projects.fivethirtyeight.com/global-club-soccer-rankings/')\n",
    "\n",
    "with open(webpage) as fp:\n",
    "    soup = BeautifulSoup(fp, 'lxml')\n",
    "    \n",
    "team_names =  soup.find_all('div', attrs={'class':'name'})\n",
    "    \n",
    "team_offense_ratings = soup.find_all('td', attrs={'class':'num rating offense drop-6'})\n",
    "\n",
    "#for b in team_offense_ratings:\n",
    "    #print b.text\n",
    "    \n",
    "team_defense_ratings = soup.find_all('td', attrs={'class':\"num rating defense drop-6\"})\n",
    "team_spi_ratings = soup.find_all('td', attrs={'class':\"num\"})\n",
    "\n",
    "team_spi_parsed = []\n",
    "print 'SPI Ratings\\n'\n",
    "for c in range(3, len(team_spi_ratings), 4):\n",
    "    team_spi_parsed.append(float(team_spi_ratings[c].contents[0]))\n",
    "\n",
    "\n",
    "team_ranking = soup.find_all('td', attrs={'class':'num ranking'})\n",
    "\n",
    "for i in range(len(team_names)):\n",
    "    team_api_id = getTeamId(team_names[i].text, teams)\n",
    "    dataframe.loc[len(dataframe)] = [team_api_id, team_ranking[i].text, team_names[i].text, team_offense_ratings[i].text, team_defense_ratings[i].text, team_spi_parsed[i]]\n",
    "\n",
    "\n",
    "team_manchester = teams.loc[teams['team_long_name'] == 'Manchester City']\n",
    "\n",
    "api_id = teams.iloc[team_manchester.index]['team_api_id']\n",
    "api = api_id.get_values()\n",
    "\n",
    "man_loc = dataframe.loc[dataframe['team_long_name'] == 'Man. City']\n",
    "\n",
    "dataframe.loc[man_loc.index,'team_api_id'] = api[0]\n",
    "\n",
    "print dataframe.loc[dataframe['team_long_name'] == 'Man. City']['team_api_id']\n",
    "\n",
    "\n",
    "team_united = teams.loc[teams['team_long_name'] == 'Manchester United']\n",
    "api_id = teams.iloc[team_united.index]['team_api_id']\n",
    "api = api_id.get_values()\n",
    "united_loc = dataframe.loc[dataframe['team_long_name'] == 'Man. United']\n",
    "dataframe.loc[united_loc.index,'team_api_id'] = api[0]\n",
    "print dataframe.loc[dataframe['team_long_name'] == 'Man. United']['team_api_id']\n",
    "\n",
    "dataframe.to_csv('team_rankings.csv', encoding='utf-8')\n",
    "\n"
   ]
  },
  {
   "cell_type": "code",
   "execution_count": 8,
   "metadata": {},
   "outputs": [],
   "source": [
    "def dataframeColumns():\n",
    "    return [\"team_api_id\",\"team_rank\",\"team_long_name\",\"team_offense_rating\",\"team_defense_rating\",\"team_spi_rating\"]\n",
    "\n",
    "def getTeamId(team_name, teams_csv):\n",
    "    returned_id = teams_csv.loc[teams_csv['team_short_name'].str.contains(team_name)]\n",
    "    if (returned_id.empty):\n",
    "        returned_id = teams_csv.loc[teams_csv['team_long_name'].str.contains(team_name)]\n",
    "    if (returned_id.empty):\n",
    "        return 0\n",
    "    else:\n",
    "        return returned_id.iloc[0]['team_api_id']\n",
    "    "
   ]
  },
  {
   "cell_type": "markdown",
   "metadata": {},
   "source": [
    "### Adding New Features To Large Dataset"
   ]
  },
  {
   "cell_type": "code",
   "execution_count": 12,
   "metadata": {},
   "outputs": [
    {
     "name": "stdout",
     "output_type": "stream",
     "text": [
      "Int64Index([85], dtype='int64')\n",
      "59.3\n",
      "8635\n",
      "RangeIndex(start=0, stop=17369, step=1)\n"
     ]
    }
   ],
   "source": [
    "final_csv = pd.read_csv('FINAL_ALL_FEATURES_NO_NAN_final.csv')\n",
    "\n",
    "new_cols = ['home_team_rating','away_team_rating','home_team_offensive_rating','away_team_offensive_rating','home_team_defensive_rating','away_team_defensive_rating']\n",
    "for col in new_cols:\n",
    "    final_csv[col] = 0\n",
    "final_csv = final_csv.drop('Unnamed: 0',axis=1)\n",
    "i = 0;\n",
    "first_col_id = final_csv.loc[i,'home_team_api_id']\n",
    "first_col_matching = dataframe.loc[dataframe['team_api_id'] == first_col_id]\n",
    "\n",
    "print first_col_matching.index\n",
    "print first_col_matching['team_spi_rating'].values[0]\n",
    "print first_col_id\n",
    "print final_csv.index\n"
   ]
  },
  {
   "cell_type": "code",
   "execution_count": null,
   "metadata": {},
   "outputs": [
    {
     "name": "stdout",
     "output_type": "stream",
     "text": [
      "Working...  0\n",
      "Working...  1000\n",
      "Working...  2000\n"
     ]
    }
   ],
   "source": [
    "for index in final_csv.index:\n",
    "    row_home_id = final_csv.iloc[index, final_csv.columns.get_loc('home_team_api_id')]\n",
    "    home_col_matching = dataframe.loc[dataframe['team_api_id'] == row_home_id]\n",
    "    if (home_col_matching.empty):\n",
    "        final_csv.iloc[index, final_csv.columns.get_loc('home_team_rating')] = 0\n",
    "        final_csv.iloc[index, final_csv.columns.get_loc('home_team_offensive_rating')] = 0\n",
    "        final_csv.iloc[index, final_csv.columns.get_loc('home_team_defensive_rating')] = 0\n",
    "    else:\n",
    "        final_csv.iloc[index, final_csv.columns.get_loc('home_team_defensive_rating')] = home_col_matching['team_spi_rating'].values[0]\n",
    "        final_csv.iloc[index, final_csv.columns.get_loc('home_team_defensive_rating')] = home_col_matching['team_offense_rating'].values[0]\n",
    "        final_csv.iloc[index, final_csv.columns.get_loc('home_team_defensive_rating')] = home_col_matching['team_defense_rating'].values[0]\n",
    "    row_away_id = final_csv.iloc[index, final_csv.columns.get_loc('away_team_api_id')]\n",
    "    away_col_matching = dataframe.loc[dataframe['team_api_id'] == row_away_id]\n",
    "    if (away_col_matching.empty):\n",
    "        final_csv.iloc[index, final_csv.columns.get_loc('away_team_rating')] = 0\n",
    "        final_csv.iloc[index, final_csv.columns.get_loc('away_team_offensive_rating')] = 0\n",
    "        final_csv.iloc[index, final_csv.columns.get_loc('away_team_defensive_rating')] = 0\n",
    "    else:\n",
    "        final_csv.iloc[index, final_csv.columns.get_loc('away_team_rating')] = away_col_matching['team_spi_rating'].values[0]\n",
    "        final_csv.iloc[index, final_csv.columns.get_loc('away_team_offensive_rating')] = away_col_matching['team_offense_rating'].values[0]\n",
    "        final_csv.iloc[index, final_csv.columns.get_loc('away_team_defensive_rating')] = away_col_matching['team_defense_rating'].values[0]\n",
    "    if ((index%1000) == 0):\n",
    "        print 'Working... ',index\n",
    "\n",
    "final_csv.head()\n"
   ]
  },
  {
   "cell_type": "code",
   "execution_count": null,
   "metadata": {},
   "outputs": [],
   "source": [
    "final_csv['shot_success_rate'] = 0\n",
    "\n",
    "for index in final_csv.index:\n",
    "    final_csv[index, 'home_shot_success_rate']  \n",
    "    final_csv[index, 'away_shot_success_rate'] "
   ]
  },
  {
   "cell_type": "code",
   "execution_count": null,
   "metadata": {},
   "outputs": [],
   "source": []
  }
 ],
 "metadata": {
  "kernelspec": {
   "display_name": "Python 2",
   "language": "python",
   "name": "python2"
  },
  "language_info": {
   "codemirror_mode": {
    "name": "ipython",
    "version": 2
   },
   "file_extension": ".py",
   "mimetype": "text/x-python",
   "name": "python",
   "nbconvert_exporter": "python",
   "pygments_lexer": "ipython2",
   "version": "2.7.12"
  },
  "widgets": {
   "application/vnd.jupyter.widget-state+json": {
    "state": {},
    "version_major": 2,
    "version_minor": 0
   }
  }
 },
 "nbformat": 4,
 "nbformat_minor": 2
}
