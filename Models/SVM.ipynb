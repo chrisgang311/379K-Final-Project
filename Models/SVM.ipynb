{
 "cells": [
  {
   "cell_type": "code",
   "execution_count": 1,
   "metadata": {
    "collapsed": true
   },
   "outputs": [],
   "source": [
    "import json\n",
    "import lightgbm as lgb\n",
    "import pandas as pd\n",
    "import numpy as np\n",
    "from sklearn.metrics import mean_squared_error, confusion_matrix, f1_score, accuracy_score\n",
    "from sklearn.model_selection import GridSearchCV\n",
    "import matplotlib.pyplot as plt\n",
    "from sklearn.preprocessing import MinMaxScaler, StandardScaler, MaxAbsScaler, RobustScaler, LabelEncoder\n",
    "from sklearn.decomposition import PCA\n",
    "from sklearn.svm import *\n",
    "import itertools"
   ]
  },
  {
   "cell_type": "code",
   "execution_count": 4,
   "metadata": {},
   "outputs": [],
   "source": [
    "#dataset = \"FINAL_BASE_DATASET_WITH_BETS_WITH_SEASON\"\n",
    "#dataset = \"FINAL_BASE_DATASET_TEAM_RATINGS_WITH_NO_ZEROS_ADDED_NO_BETS_AGE_BMI_ZEROS_NOT_REMOVED_WITH_SEASON\"\n",
    "dataset = \"FINAL_BASE_DATASET_WITH_BETS_ZEROS_REMOVED_WITH_SEASON\"\n",
    "#dataset = \"FINAL_BASE_DATASET_WITH_SEASON\"\n",
    "\n",
    "data = pd.read_csv(\"./../Preprocessing/Data_Structures/{}.csv\".format(dataset), index_col=0)\n",
    "\n",
    "\n",
    "#data_train = data[(data[\"season\"] == \"2014/2015\")|(data[\"season\"] == \"2013/2014\")|(data[\"season\"] == \"2012/2013\")|(data[\"season\"] == \"2011/2012\")|(data[\"season\"] == \"2010/2011\")]#|(data[\"season\"] == \"2009/2010\")]\n",
    "data_train = data[data[\"season\"] != \"2015/2016\"]\n",
    "data_test = data[data[\"season\"] == \"2015/2016\"]\n",
    "\n",
    "data.head()\n",
    "y_train = data_train.Label\n",
    "X_train = data_train.drop(\"Label\", axis = 1)\n",
    "X_train = X_train.drop(\"season\", axis = 1)\n",
    "y_test = data_test.Label\n",
    "X_test = data_test.drop(\"Label\", axis = 1)\n",
    "X_test = X_test.drop(\"season\", axis = 1)\n",
    "\n",
    "scaler = RobustScaler().fit(X_train)\n",
    "X_train = scaler.transform(X_train)\n",
    "X_test = scaler.transform(X_test)\n",
    "\n",
    "pca = PCA(n_components=4).fit(X_train)\n",
    "X_train = pca.transform(X_train)\n",
    "X_test = pca.transform(X_test)"
   ]
  },
  {
   "cell_type": "code",
   "execution_count": 5,
   "metadata": {
    "collapsed": true
   },
   "outputs": [],
   "source": [
    "clf = SVC().fit(X_train, y_train)"
   ]
  },
  {
   "cell_type": "code",
   "execution_count": 6,
   "metadata": {},
   "outputs": [
    {
     "name": "stdout",
     "output_type": "stream",
     "text": [
      "[[311   1 359]\n",
      " [155   2 399]\n",
      " [149   0 830]]\n",
      "0.435906849756\n",
      "0.518132366274\n"
     ]
    }
   ],
   "source": [
    "y_pred = clf.predict(X_test)\n",
    "\n",
    "print confusion_matrix(y_pred=y_pred, y_true=y_test)\n",
    "print f1_score(y_test, y_pred, average='weighted')\n",
    "print accuracy_score(y_true=y_test, y_pred=y_pred)"
   ]
  },
  {
   "cell_type": "code",
   "execution_count": 7,
   "metadata": {},
   "outputs": [
    {
     "name": "stdout",
     "output_type": "stream",
     "text": [
      "1 StandardScaler(copy=True, with_mean=True, with_std=True) 0.503626473255\n",
      "2 StandardScaler(copy=True, with_mean=True, with_std=True) 0.505893019039\n",
      "3 StandardScaler(copy=True, with_mean=True, with_std=True) 0.510879419764\n",
      "4 StandardScaler(copy=True, with_mean=True, with_std=True) 0.505439709882\n",
      "5 StandardScaler(copy=True, with_mean=True, with_std=True) 0.503173164098\n",
      "6 StandardScaler(copy=True, with_mean=True, with_std=True) 0.506346328196\n",
      "7 StandardScaler(copy=True, with_mean=True, with_std=True) 0.501359927471\n",
      "8 StandardScaler(copy=True, with_mean=True, with_std=True) 0.498186763373\n",
      "9 StandardScaler(copy=True, with_mean=True, with_std=True) 0.493653671804\n",
      "10 StandardScaler(copy=True, with_mean=True, with_std=True) 0.495013599275\n",
      "1 RobustScaler(copy=True, quantile_range=(25.0, 75.0), with_centering=True,\n",
      "       with_scaling=True) 0.509972801451\n",
      "2 RobustScaler(copy=True, quantile_range=(25.0, 75.0), with_centering=True,\n",
      "       with_scaling=True) 0.509972801451\n",
      "3 RobustScaler(copy=True, quantile_range=(25.0, 75.0), with_centering=True,\n",
      "       with_scaling=True) 0.510426110607\n",
      "4 RobustScaler(copy=True, quantile_range=(25.0, 75.0), with_centering=True,\n",
      "       with_scaling=True) 0.516772438803\n",
      "5 RobustScaler(copy=True, quantile_range=(25.0, 75.0), with_centering=True,\n",
      "       with_scaling=True) 0.515412511333\n",
      "6 RobustScaler(copy=True, quantile_range=(25.0, 75.0), with_centering=True,\n",
      "       with_scaling=True) 0.512692656392\n",
      "7 RobustScaler(copy=True, quantile_range=(25.0, 75.0), with_centering=True,\n",
      "       with_scaling=True) 0.513145965549\n",
      "8 RobustScaler(copy=True, quantile_range=(25.0, 75.0), with_centering=True,\n",
      "       with_scaling=True) 0.510879419764\n",
      "9 RobustScaler(copy=True, quantile_range=(25.0, 75.0), with_centering=True,\n",
      "       with_scaling=True) 0.504986400725\n",
      "10 RobustScaler(copy=True, quantile_range=(25.0, 75.0), with_centering=True,\n",
      "       with_scaling=True) 0.504533091568\n",
      "FINAL_BASE_DATASET_WITH_BETS_ZEROS_REMOVED_WITH_SEASON.csv, 0.516772\n"
     ]
    }
   ],
   "source": [
    "#for file_name in [\"FINAL_BASE_DATASET_TEAM_RATINGS_WITH_NO_ZEROS_ADDED_NO_BETS_AGE_BMI_ZEROS_NOT_REMOVED_WITH_SEASON.csv\", \"FINAL_BASE_DATASET_WITH_BETS_WITH_SEASON.csv\", \"FINAL_BASE_DATASET_WITH_BETS_ZEROS_REMOVED_WITH_SEASON.csv\", \"FINAL_BASE_DATASET_WITH_SEASON.csv\"]:\n",
    "#for file_name in [\"FINAL_BASE_DATASET_TEAM_RATINGS_WITH_NO_ZEROS_ADDED_NO_BETS_AGE_BMI_ZEROS_NOT_REMOVED_WITH_SEASON.csv\", \"FINAL_BASE_DATASET_WITH_BETS_WITH_SEASON.csv\", \"FINAL_BASE_DATASET_WITH_BETS_ZEROS_REMOVED_WITH_SEASON.csv\"]:\n",
    "for file_name in [\"FINAL_BASE_DATASET_WITH_BETS_ZEROS_REMOVED_WITH_SEASON.csv\"]:\n",
    "\n",
    "    data = pd.read_csv(file_name, index_col=0)\n",
    "    \n",
    "    #for season in [\"2008/2009\", \"2009/2010\", \"2010/2011\", \"2011/2012\", \"2012/2013\", \"2013/2014\", \"2014/2015\"]:\n",
    "    #data_train = data[data[\"season\"] != \"2015/2016\"]\n",
    "    data_train = data[(data[\"season\"] == \"2014/2015\")|(data[\"season\"] == \"2013/2014\")|(data[\"season\"] == \"2012/2013\")|(data[\"season\"] == \"2011/2012\")|(data[\"season\"] == \"2010/2011\")]#|(data[\"season\"] == \"2009/2010\")]\n",
    "    data_test = data[data[\"season\"] == \"2015/2016\"]\n",
    "\n",
    "    X_train = data_train.drop(\"Label\", axis = 1) # to fit the scaler\n",
    "    X_train = X_train.drop(\"season\", axis = 1)\n",
    "    X_test = data_test.drop(\"Label\", axis = 1)\n",
    "    X_test = X_test.drop(\"season\", axis = 1)\n",
    "    y_train = data_train.Label\n",
    "    y_test = data_test.Label\n",
    "\n",
    "    max_val = 0\n",
    "\n",
    "    for scaler in [StandardScaler(), RobustScaler()]: #tried with Standard Scaler, Robust Scaler, MaxAbsScaler and MinMaxScaler\n",
    "        scaler.fit(X_train)\n",
    "        X_train_scaled = scaler.transform(X_train)\n",
    "        X_test_scaled = scaler.transform(X_test)\n",
    "        for n_columns in range(1,11): #range(1, X_train.shape[1] + 1): #the best value occurs when using just a part of all the PCA Columns, so we don't have to go through all of them          \n",
    "            pca = PCA(n_components=n_columns).fit(X_train_scaled)\n",
    "            X_train_pca = pca.transform(X_train_scaled)\n",
    "            X_test_pca = pca.transform(X_test_scaled)\n",
    "\n",
    "            clf = SVC()\n",
    "            clf.fit(X_train_pca, y_train)\n",
    "            y_pred = clf.predict(X_test_pca)\n",
    "            #y_pred_proba = clf.predict_proba(X_test_pca)\n",
    "\n",
    "            #print confusion_matrix(y_pred=y_pred_g, y_true=y_test)\n",
    "            #print f1_score(y_test, y_pred_g, average='weighted')\n",
    "            acc_score = accuracy_score(y_true=y_test, y_pred=y_pred)\n",
    "            print n_columns, scaler, acc_score\n",
    "            #print acc_score\n",
    "            if acc_score > max_val:\n",
    "                max_val = acc_score\n",
    "            #if acc_score > 0.51:\n",
    "             #   print file_name, season, scaler, n_columns\n",
    "    print \"%s, %f\" % (file_name, max_val)"
   ]
  },
  {
   "cell_type": "markdown",
   "metadata": {},
   "source": [
    "# Results\n",
    "- 50.59% with Season 2014/15 as Training and 2015/16 as Prediction\n",
    "FINAL_BASE_DATASET_WITH_BETS_ZEROS_REMOVED_WITH_SEASON, RobustScaler, PCA = 5\n",
    "- 51.31% with Season 2013/14 and 2014/15 as Training and 2015/16 as Prediction\n",
    "FINAL_BASE_DATASET_WITH_BETS_ZEROS_REMOVED_WITH_SEASON, RobustScaler, PCA = 6\n",
    "- 51.50% with Season 2012/2013, 2013/2014 and 2014/15 as Training and 2015/16 as Prediction\n",
    "FINAL_BASE_DATASET_WITH_BETS_ZEROS_REMOVED_WITH_SEASON, RobustScaler, PCA = 4\n",
    "- 51.81% with all Data and 2015/16 as Prediction\n",
    "FINAL_BASE_DATASET_WITH_BETS_ZEROS_REMOVED_WITH_SEASON, RobustScaler, PCA = 4\n",
    "\n"
   ]
  },
  {
   "cell_type": "code",
   "execution_count": 22,
   "metadata": {},
   "outputs": [
    {
     "name": "stdout",
     "output_type": "stream",
     "text": [
      "Confusion matrix, without normalization\n",
      "[[311   1 359]\n",
      " [155   2 399]\n",
      " [149   0 830]]\n"
     ]
    },
    {
     "data": {
      "image/png": "[encoded data removed]",
      "text/plain": [
       "<matplotlib.figure.Figure at 0x7fc01c240290>"
      ]
     },
     "metadata": {},
     "output_type": "display_data"
    }
   ],
   "source": [
    "def plot_confusion_matrix(cm, classes,\n",
    "                          normalize=False,\n",
    "                          title='Confusion matrix',\n",
    "                          cmap=plt.cm.Blues):\n",
    "    \"\"\"\n",
    "    This function prints and plots the confusion matrix.\n",
    "    Normalization can be applied by setting `normalize=True`.\n",
    "    \"\"\"\n",
    "    if normalize:\n",
    "        cm = cm.astype('float') / cm.sum(axis=1)[:, np.newaxis]\n",
    "        print(\"Normalized confusion matrix\")\n",
    "    else:\n",
    "        print('Confusion matrix, without normalization')\n",
    "\n",
    "    print(cm)\n",
    "\n",
    "    plt.imshow(cm, interpolation='nearest', cmap=cmap)\n",
    "    plt.title(title)\n",
    "    plt.colorbar()\n",
    "    tick_marks = np.arange(len(classes))\n",
    "    plt.xticks(tick_marks, classes, rotation=45)\n",
    "    plt.yticks(tick_marks, classes)\n",
    "\n",
    "    fmt = '.2f' if normalize else 'd'\n",
    "    thresh = cm.max() / 2.\n",
    "    for i, j in itertools.product(range(cm.shape[0]), range(cm.shape[1])):\n",
    "        plt.text(j, i, format(cm[i, j], fmt),\n",
    "                 horizontalalignment=\"center\",\n",
    "                 color=\"white\" if cm[i, j] > thresh else \"black\")\n",
    "\n",
    "    plt.tight_layout()\n",
    "    plt.ylabel('True label')\n",
    "    plt.xlabel('Predicted label')\n",
    "    \n",
    "    \n",
    "le = LabelEncoder()\n",
    "\n",
    "LABELS = ['HOME_WIN', 'AWAY_WIN', 'DRAW']\n",
    "le.fit(LABELS)\n",
    "CLASSES_NAME = le.inverse_transform([0,1,2])\n",
    "plot_confusion_matrix(confusion_matrix(y_pred=y_pred, y_true=y_test), CLASSES_NAME, False)\n",
    "plt.show()"
   ]
  },
  {
   "cell_type": "code",
   "execution_count": null,
   "metadata": {
    "collapsed": true
   },
   "outputs": [],
   "source": []
  }
 ],
 "metadata": {
  "kernelspec": {
   "display_name": "Python 2",
   "language": "python",
   "name": "python2"
  }
 },
 "nbformat": 4,
 "nbformat_minor": 2
}
