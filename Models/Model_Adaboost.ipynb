{
 "cells": [
  {
   "cell_type": "markdown",
   "metadata": {},
   "source": [
    "## Adaboost Model on Dataset with Bets"
   ]
  },
  {
   "cell_type": "code",
   "execution_count": 1,
   "metadata": {},
   "outputs": [
    {
     "name": "stderr",
     "output_type": "stream",
     "text": [
      "D:\\Users\\karel\\Anaconda3\\lib\\site-packages\\sklearn\\cross_validation.py:41: DeprecationWarning: This module was deprecated in version 0.18 in favor of the model_selection module into which all the refactored classes and functions are moved. Also note that the interface of the new CV iterators are different from that of this module. This module will be removed in 0.20.\n",
      "  \"This module will be removed in 0.20.\", DeprecationWarning)\n"
     ]
    }
   ],
   "source": [
    "import numpy as np\n",
    "import pandas as pd\n",
    "from time import time\n",
    "from IPython.display import display # Allows the use of display() for DataFrames\n",
    "\n",
    "# Import train_test_split\n",
    "from sklearn.cross_validation import train_test_split\n",
    "from sklearn.model_selection import StratifiedShuffleSplit\n",
    "from sklearn import tree\n",
    "from sklearn.ensemble import AdaBoostClassifier\n",
    "from importlib import reload\n"
   ]
  },
  {
   "cell_type": "code",
   "execution_count": 82,
   "metadata": {
    "collapsed": true
   },
   "outputs": [],
   "source": [
    "data = pd.read_csv('Data_Structures/FINAL_BASE_DATASET_WITH_BETS.csv',index_col=0)"
   ]
  },
  {
   "cell_type": "code",
   "execution_count": 83,
   "metadata": {},
   "outputs": [
    {
     "name": "stdout",
     "output_type": "stream",
     "text": [
      "Training set has 12613 samples.\n",
      "Testing set has 3154 samples.\n"
     ]
    }
   ],
   "source": [
    "\n",
    "X_data=data.drop(['Label'],axis=1)\n",
    "Y_data=data['Label']\n",
    "\n",
    "s = StratifiedShuffleSplit(n_splits=2, test_size = 0.2, random_state=0)\n",
    "for train_index, test_index in s.split(X_data, Y_data):\n",
    "    #print(\"TRAIN:\", train_index, \"TEST:\", test_index)\n",
    "    X_train_b, X_test_b = X_data.iloc[train_index], X_data.iloc[test_index]\n",
    "    y_train_b, y_test_b = Y_data.iloc[train_index], Y_data.iloc[test_index]\n",
    "\n",
    "\n",
    "# Show the results of the split\n",
    "print (\"Training set has {} samples.\".format(X_train_b.shape[0]))\n",
    "print (\"Testing set has {} samples.\".format(X_test_b.shape[0]))"
   ]
  },
  {
   "cell_type": "code",
   "execution_count": 6,
   "metadata": {
    "collapsed": true
   },
   "outputs": [],
   "source": [
    "# TODO: Import two metrics from sklearn - fbeta_score and accuracy_score\n",
    "from sklearn.metrics import f1_score\n",
    "from sklearn.metrics import accuracy_score\n",
    "\n",
    "def train_predict(learner, X_train, y_train, X_test, y_test): \n",
    "    '''\n",
    "    inputs:\n",
    "       - learner: the learning algorithm to be trained and predicted on\n",
    "       - sample_size: the size of samples (number) to be drawn from training set\n",
    "       - X_train: features training set\n",
    "       - y_train: income training set\n",
    "       - X_test: features testing set\n",
    "       - y_test: income testing set\n",
    "    '''\n",
    "    \n",
    "    results = {}\n",
    "    \n",
    "    start = time() # Get start time\n",
    "    learner = learner.fit(X_train, y_train)\n",
    "    end = time() # Get end time\n",
    "    \n",
    "    # Calculate the training time\n",
    "    results['train_time'] = end - start\n",
    "        \n",
    "    # Get the predictions on the test set(X_test),\n",
    "    #       then get predictions on the first 300 training samples(X_train) using .predict()\n",
    "    predictions_test = learner.predict(X_test)\n",
    "    predictions_train = learner.predict(X_train[:300])    \n",
    "            \n",
    "    # Compute accuracy on the first 300 training samples which is y_train[:300]\n",
    "    results['acc_train'] = accuracy_score(y_train[:300], predictions_train)\n",
    "        \n",
    "    # Compute accuracy on test set using accuracy_score()\n",
    "    results['acc_test'] = accuracy_score(y_test, predictions_test)\n",
    "    \n",
    "    \n",
    "    # Compute F-score on the the first 300 training samples using fbeta_score()\n",
    "    results['f_train'] = f1_score(y_train[:300], predictions_train,\n",
    "                                     average='micro')\n",
    "    # Compute F-score on the test set which is y_test\n",
    "    results['f_test'] = f1_score(y_test, predictions_test, \n",
    "                                    average='micro')  \n",
    "    # Success\n",
    "    print (\"{} trained.\".format(learner.__class__.__name__))\n",
    "        \n",
    "    # Return the results\n",
    "    return results"
   ]
  },
  {
   "cell_type": "code",
   "execution_count": 84,
   "metadata": {
    "collapsed": true
   },
   "outputs": [],
   "source": [
    "clf = AdaBoostClassifier(base_estimator=tree.DecisionTreeClassifier(max_depth=1),\n",
    "                         algorithm=\"SAMME.R\",\n",
    "                         n_estimators=1000, random_state = 1)"
   ]
  },
  {
   "cell_type": "code",
   "execution_count": 85,
   "metadata": {},
   "outputs": [
    {
     "name": "stdout",
     "output_type": "stream",
     "text": [
      "AdaBoostClassifier trained.\n"
     ]
    }
   ],
   "source": [
    "results = train_predict(clf, X_train_b, y_train_b, X_test_b, y_test_b)"
   ]
  },
  {
   "cell_type": "code",
   "execution_count": 86,
   "metadata": {},
   "outputs": [
    {
     "data": {
      "text/plain": [
       "{'acc_test': 0.53424223208623967,\n",
       " 'acc_train': 0.62666666666666671,\n",
       " 'f_test': 0.53424223208623967,\n",
       " 'f_train': 0.62666666666666671,\n",
       " 'train_time': 38.7236602306366}"
      ]
     },
     "execution_count": 86,
     "metadata": {},
     "output_type": "execute_result"
    }
   ],
   "source": [
    "results"
   ]
  },
  {
   "cell_type": "code",
   "execution_count": 87,
   "metadata": {
    "collapsed": true
   },
   "outputs": [],
   "source": [
    "import itertools"
   ]
  },
  {
   "cell_type": "code",
   "execution_count": 88,
   "metadata": {},
   "outputs": [
    {
     "name": "stdout",
     "output_type": "stream",
     "text": [
      "******************************************************************\n",
      "Confusion matrix for AdaBoost classifier\n",
      "Normalized confusion matrix\n",
      "[[ 0.49  0.14  0.37]\n",
      " [ 0.25  0.18  0.58]\n",
      " [ 0.14  0.1   0.76]]\n"
     ]
    },
    {
     "data": {
      "image/png": "[encoded data removed]",
      "text/plain": [
       "<matplotlib.figure.Figure at 0x27be7921ba8>"
      ]
     },
     "metadata": {},
     "output_type": "display_data"
    }
   ],
   "source": [
    "from sklearn.metrics import confusion_matrix\n",
    "import matplotlib.pyplot as plt\n",
    "from sklearn import preprocessing\n",
    "\n",
    "le = preprocessing.LabelEncoder()\n",
    "\n",
    "LABELS = ['HOME_WIN', 'AWAY_WIN', 'DRAW']\n",
    "le.fit(LABELS)\n",
    "\n",
    "def plot_confusion_matrix(cm, classes,\n",
    "                          normalize=False,\n",
    "                          title='Confusion matrix',\n",
    "                          cmap=plt.cm.Blues):\n",
    "    \"\"\"\n",
    "    This function prints and plots the confusion matrix.\n",
    "    Normalization can be applied by setting `normalize=True`.\n",
    "    \"\"\"\n",
    "    if normalize:\n",
    "        cm = cm.astype('float') / cm.sum(axis=1)[:, np.newaxis]\n",
    "        print(\"Normalized confusion matrix\")\n",
    "    else:\n",
    "        print('Confusion matrix, without normalization')\n",
    "\n",
    "    print(cm)\n",
    "\n",
    "    plt.imshow(cm, interpolation='nearest', cmap=cmap)\n",
    "    plt.title(title)\n",
    "    plt.colorbar()\n",
    "    tick_marks = np.arange(len(classes))\n",
    "    plt.xticks(tick_marks, classes, rotation=45)\n",
    "    plt.yticks(tick_marks, classes)\n",
    "\n",
    "    fmt = '.2f' if normalize else 'd'\n",
    "    thresh = cm.max() / 2.\n",
    "    for i, j in itertools.product(range(cm.shape[0]), range(cm.shape[1])):\n",
    "        plt.text(j, i, format(cm[i, j], fmt),\n",
    "                 horizontalalignment=\"center\",\n",
    "                 color=\"white\" if cm[i, j] > thresh else \"black\")\n",
    "\n",
    "    plt.tight_layout()\n",
    "    plt.ylabel('True label')\n",
    "    plt.xlabel('Predicted label')\n",
    "\n",
    "\n",
    "'''\n",
    "CONFUSIOM MATRIX FOR ADABOOST\n",
    "'''\n",
    "y_pred = clf.predict(X_test_b)\n",
    "cnf_matrix_adaboost = confusion_matrix(y_test_b, y_pred)\n",
    "np.set_printoptions(precision=2)\n",
    "\n",
    "\n",
    "CLASSES_NAME = le.inverse_transform([0,1,2])\n",
    "\n",
    "print (\"******************************************************************\")\n",
    "print (\"Confusion matrix for AdaBoost classifier\")\n",
    "plt.figure()\n",
    "plot_confusion_matrix(cnf_matrix_adaboost, classes=CLASSES_NAME, normalize=True,\n",
    "                      title='Normalized confusion matrix AdaBoost')\n",
    "plt.show()\n"
   ]
  },
  {
   "cell_type": "markdown",
   "metadata": {},
   "source": [
    "### Hyperparameter tuning\n"
   ]
  },
  {
   "cell_type": "code",
   "execution_count": 89,
   "metadata": {
    "scrolled": true
   },
   "outputs": [
    {
     "name": "stdout",
     "output_type": "stream",
     "text": [
      "Fitting 3 folds for each of 4 candidates, totalling 12 fits\n",
      "[CV] algorithm=SAMME, base_estimator=DecisionTreeClassifier(class_weight=None, criterion='gini', max_depth=1,\n",
      "            max_features=None, max_leaf_nodes=None,\n",
      "            min_impurity_decrease=0.0, min_impurity_split=None,\n",
      "            min_samples_leaf=1, min_samples_split=2,\n",
      "            min_weight_fraction_leaf=0.0, presort=False, random_state=None,\n",
      "            splitter='best'), n_estimators=1000, random_state=1 \n",
      "[CV]  algorithm=SAMME, base_estimator=DecisionTreeClassifier(class_weight=None, criterion='gini', max_depth=1,\n",
      "            max_features=None, max_leaf_nodes=None,\n",
      "            min_impurity_decrease=0.0, min_impurity_split=None,\n",
      "            min_samples_leaf=1, min_samples_split=2,\n",
      "            min_weight_fraction_leaf=0.0, presort=False, random_state=None,\n",
      "            splitter='best'), n_estimators=1000, random_state=1, score=0.5412604042806183, total=  26.6s\n",
      "[CV] algorithm=SAMME, base_estimator=DecisionTreeClassifier(class_weight=None, criterion='gini', max_depth=1,\n",
      "            max_features=None, max_leaf_nodes=None,\n",
      "            min_impurity_decrease=0.0, min_impurity_split=None,\n",
      "            min_samples_leaf=1, min_samples_split=2,\n",
      "            min_weight_fraction_leaf=0.0, presort=False, random_state=None,\n",
      "            splitter='best'), n_estimators=1000, random_state=1 \n"
     ]
    },
    {
     "name": "stderr",
     "output_type": "stream",
     "text": [
      "[Parallel(n_jobs=1)]: Done   1 out of   1 | elapsed:   27.0s remaining:    0.0s\n"
     ]
    },
    {
     "name": "stdout",
     "output_type": "stream",
     "text": [
      "[CV]  algorithm=SAMME, base_estimator=DecisionTreeClassifier(class_weight=None, criterion='gini', max_depth=1,\n",
      "            max_features=None, max_leaf_nodes=None,\n",
      "            min_impurity_decrease=0.0, min_impurity_split=None,\n",
      "            min_samples_leaf=1, min_samples_split=2,\n",
      "            min_weight_fraction_leaf=0.0, presort=False, random_state=None,\n",
      "            splitter='best'), n_estimators=1000, random_state=1, score=0.5434007134363853, total=  25.8s\n",
      "[CV] algorithm=SAMME, base_estimator=DecisionTreeClassifier(class_weight=None, criterion='gini', max_depth=1,\n",
      "            max_features=None, max_leaf_nodes=None,\n",
      "            min_impurity_decrease=0.0, min_impurity_split=None,\n",
      "            min_samples_leaf=1, min_samples_split=2,\n",
      "            min_weight_fraction_leaf=0.0, presort=False, random_state=None,\n",
      "            splitter='best'), n_estimators=1000, random_state=1 \n"
     ]
    },
    {
     "name": "stderr",
     "output_type": "stream",
     "text": [
      "[Parallel(n_jobs=1)]: Done   2 out of   2 | elapsed:   53.3s remaining:    0.0s\n"
     ]
    },
    {
     "name": "stdout",
     "output_type": "stream",
     "text": [
      "[CV]  algorithm=SAMME, base_estimator=DecisionTreeClassifier(class_weight=None, criterion='gini', max_depth=1,\n",
      "            max_features=None, max_leaf_nodes=None,\n",
      "            min_impurity_decrease=0.0, min_impurity_split=None,\n",
      "            min_samples_leaf=1, min_samples_split=2,\n",
      "            min_weight_fraction_leaf=0.0, presort=False, random_state=None,\n",
      "            splitter='best'), n_estimators=1000, random_state=1, score=0.5255769688317868, total=  25.1s\n",
      "[CV] algorithm=SAMME, base_estimator=DecisionTreeClassifier(class_weight=None, criterion='gini', max_depth=2,\n",
      "            max_features=None, max_leaf_nodes=None,\n",
      "            min_impurity_decrease=0.0, min_impurity_split=None,\n",
      "            min_samples_leaf=1, min_samples_split=2,\n",
      "            min_weight_fraction_leaf=0.0, presort=False, random_state=None,\n",
      "            splitter='best'), n_estimators=1000, random_state=1 \n"
     ]
    },
    {
     "name": "stderr",
     "output_type": "stream",
     "text": [
      "[Parallel(n_jobs=1)]: Done   3 out of   3 | elapsed:  1.3min remaining:    0.0s\n"
     ]
    },
    {
     "name": "stdout",
     "output_type": "stream",
     "text": [
      "[CV]  algorithm=SAMME, base_estimator=DecisionTreeClassifier(class_weight=None, criterion='gini', max_depth=2,\n",
      "            max_features=None, max_leaf_nodes=None,\n",
      "            min_impurity_decrease=0.0, min_impurity_split=None,\n",
      "            min_samples_leaf=1, min_samples_split=2,\n",
      "            min_weight_fraction_leaf=0.0, presort=False, random_state=None,\n",
      "            splitter='best'), n_estimators=1000, random_state=1, score=0.5348394768133174, total=  48.0s\n",
      "[CV] algorithm=SAMME, base_estimator=DecisionTreeClassifier(class_weight=None, criterion='gini', max_depth=2,\n",
      "            max_features=None, max_leaf_nodes=None,\n",
      "            min_impurity_decrease=0.0, min_impurity_split=None,\n",
      "            min_samples_leaf=1, min_samples_split=2,\n",
      "            min_weight_fraction_leaf=0.0, presort=False, random_state=None,\n",
      "            splitter='best'), n_estimators=1000, random_state=1 \n"
     ]
    },
    {
     "name": "stderr",
     "output_type": "stream",
     "text": [
      "[Parallel(n_jobs=1)]: Done   4 out of   4 | elapsed:  2.1min remaining:    0.0s\n"
     ]
    },
    {
     "name": "stdout",
     "output_type": "stream",
     "text": [
      "[CV]  algorithm=SAMME, base_estimator=DecisionTreeClassifier(class_weight=None, criterion='gini', max_depth=2,\n",
      "            max_features=None, max_leaf_nodes=None,\n",
      "            min_impurity_decrease=0.0, min_impurity_split=None,\n",
      "            min_samples_leaf=1, min_samples_split=2,\n",
      "            min_weight_fraction_leaf=0.0, presort=False, random_state=None,\n",
      "            splitter='best'), n_estimators=1000, random_state=1, score=0.5395957193816885, total=  48.3s\n",
      "[CV] algorithm=SAMME, base_estimator=DecisionTreeClassifier(class_weight=None, criterion='gini', max_depth=2,\n",
      "            max_features=None, max_leaf_nodes=None,\n",
      "            min_impurity_decrease=0.0, min_impurity_split=None,\n",
      "            min_samples_leaf=1, min_samples_split=2,\n",
      "            min_weight_fraction_leaf=0.0, presort=False, random_state=None,\n",
      "            splitter='best'), n_estimators=1000, random_state=1 \n",
      "[CV]  algorithm=SAMME, base_estimator=DecisionTreeClassifier(class_weight=None, criterion='gini', max_depth=2,\n",
      "            max_features=None, max_leaf_nodes=None,\n",
      "            min_impurity_decrease=0.0, min_impurity_split=None,\n",
      "            min_samples_leaf=1, min_samples_split=2,\n",
      "            min_weight_fraction_leaf=0.0, presort=False, random_state=None,\n",
      "            splitter='best'), n_estimators=1000, random_state=1, score=0.5315251011182489, total=  48.2s\n",
      "[CV] algorithm=SAMME.R, base_estimator=DecisionTreeClassifier(class_weight=None, criterion='gini', max_depth=1,\n",
      "            max_features=None, max_leaf_nodes=None,\n",
      "            min_impurity_decrease=0.0, min_impurity_split=None,\n",
      "            min_samples_leaf=1, min_samples_split=2,\n",
      "            min_weight_fraction_leaf=0.0, presort=False, random_state=None,\n",
      "            splitter='best'), n_estimators=1000, random_state=1 \n",
      "[CV]  algorithm=SAMME.R, base_estimator=DecisionTreeClassifier(class_weight=None, criterion='gini', max_depth=1,\n",
      "            max_features=None, max_leaf_nodes=None,\n",
      "            min_impurity_decrease=0.0, min_impurity_split=None,\n",
      "            min_samples_leaf=1, min_samples_split=2,\n",
      "            min_weight_fraction_leaf=0.0, presort=False, random_state=None,\n",
      "            splitter='best'), n_estimators=1000, random_state=1, score=0.5058263971462544, total=  26.1s\n",
      "[CV] algorithm=SAMME.R, base_estimator=DecisionTreeClassifier(class_weight=None, criterion='gini', max_depth=1,\n",
      "            max_features=None, max_leaf_nodes=None,\n",
      "            min_impurity_decrease=0.0, min_impurity_split=None,\n",
      "            min_samples_leaf=1, min_samples_split=2,\n",
      "            min_weight_fraction_leaf=0.0, presort=False, random_state=None,\n",
      "            splitter='best'), n_estimators=1000, random_state=1 \n",
      "[CV]  algorithm=SAMME.R, base_estimator=DecisionTreeClassifier(class_weight=None, criterion='gini', max_depth=1,\n",
      "            max_features=None, max_leaf_nodes=None,\n",
      "            min_impurity_decrease=0.0, min_impurity_split=None,\n",
      "            min_samples_leaf=1, min_samples_split=2,\n",
      "            min_weight_fraction_leaf=0.0, presort=False, random_state=None,\n",
      "            splitter='best'), n_estimators=1000, random_state=1, score=0.5162901307966706, total=  26.2s\n",
      "[CV] algorithm=SAMME.R, base_estimator=DecisionTreeClassifier(class_weight=None, criterion='gini', max_depth=1,\n",
      "            max_features=None, max_leaf_nodes=None,\n",
      "            min_impurity_decrease=0.0, min_impurity_split=None,\n",
      "            min_samples_leaf=1, min_samples_split=2,\n",
      "            min_weight_fraction_leaf=0.0, presort=False, random_state=None,\n",
      "            splitter='best'), n_estimators=1000, random_state=1 \n",
      "[CV]  algorithm=SAMME.R, base_estimator=DecisionTreeClassifier(class_weight=None, criterion='gini', max_depth=1,\n",
      "            max_features=None, max_leaf_nodes=None,\n",
      "            min_impurity_decrease=0.0, min_impurity_split=None,\n",
      "            min_samples_leaf=1, min_samples_split=2,\n",
      "            min_weight_fraction_leaf=0.0, presort=False, random_state=None,\n",
      "            splitter='best'), n_estimators=1000, random_state=1, score=0.5115393766357363, total=  26.1s\n",
      "[CV] algorithm=SAMME.R, base_estimator=DecisionTreeClassifier(class_weight=None, criterion='gini', max_depth=2,\n",
      "            max_features=None, max_leaf_nodes=None,\n",
      "            min_impurity_decrease=0.0, min_impurity_split=None,\n",
      "            min_samples_leaf=1, min_samples_split=2,\n",
      "            min_weight_fraction_leaf=0.0, presort=False, random_state=None,\n",
      "            splitter='best'), n_estimators=1000, random_state=1 \n",
      "[CV]  algorithm=SAMME.R, base_estimator=DecisionTreeClassifier(class_weight=None, criterion='gini', max_depth=2,\n",
      "            max_features=None, max_leaf_nodes=None,\n",
      "            min_impurity_decrease=0.0, min_impurity_split=None,\n",
      "            min_samples_leaf=1, min_samples_split=2,\n",
      "            min_weight_fraction_leaf=0.0, presort=False, random_state=None,\n",
      "            splitter='best'), n_estimators=1000, random_state=1, score=0.4834720570749108, total=  50.0s\n",
      "[CV] algorithm=SAMME.R, base_estimator=DecisionTreeClassifier(class_weight=None, criterion='gini', max_depth=2,\n",
      "            max_features=None, max_leaf_nodes=None,\n",
      "            min_impurity_decrease=0.0, min_impurity_split=None,\n",
      "            min_samples_leaf=1, min_samples_split=2,\n",
      "            min_weight_fraction_leaf=0.0, presort=False, random_state=None,\n",
      "            splitter='best'), n_estimators=1000, random_state=1 \n",
      "[CV]  algorithm=SAMME.R, base_estimator=DecisionTreeClassifier(class_weight=None, criterion='gini', max_depth=2,\n",
      "            max_features=None, max_leaf_nodes=None,\n",
      "            min_impurity_decrease=0.0, min_impurity_split=None,\n",
      "            min_samples_leaf=1, min_samples_split=2,\n",
      "            min_weight_fraction_leaf=0.0, presort=False, random_state=None,\n",
      "            splitter='best'), n_estimators=1000, random_state=1, score=0.4920332936979786, total=  48.9s\n",
      "[CV] algorithm=SAMME.R, base_estimator=DecisionTreeClassifier(class_weight=None, criterion='gini', max_depth=2,\n",
      "            max_features=None, max_leaf_nodes=None,\n",
      "            min_impurity_decrease=0.0, min_impurity_split=None,\n",
      "            min_samples_leaf=1, min_samples_split=2,\n",
      "            min_weight_fraction_leaf=0.0, presort=False, random_state=None,\n",
      "            splitter='best'), n_estimators=1000, random_state=1 \n",
      "[CV]  algorithm=SAMME.R, base_estimator=DecisionTreeClassifier(class_weight=None, criterion='gini', max_depth=2,\n",
      "            max_features=None, max_leaf_nodes=None,\n",
      "            min_impurity_decrease=0.0, min_impurity_split=None,\n",
      "            min_samples_leaf=1, min_samples_split=2,\n",
      "            min_weight_fraction_leaf=0.0, presort=False, random_state=None,\n",
      "            splitter='best'), n_estimators=1000, random_state=1, score=0.48441589340946944, total=  49.4s\n"
     ]
    },
    {
     "name": "stderr",
     "output_type": "stream",
     "text": [
      "[Parallel(n_jobs=1)]: Done  12 out of  12 | elapsed:  7.6min finished\n"
     ]
    }
   ],
   "source": [
    "#from sklearn.metrics import make_scorer\n",
    "from sklearn.model_selection import GridSearchCV\n",
    "#from sklearn.metrics import fbeta_score\n",
    "from sklearn.metrics import accuracy_score\n",
    "\n",
    "# Initialize the classifier\n",
    "clf = AdaBoostClassifier()\n",
    "\n",
    "\n",
    "'''\n",
    "MY BASE CLASSIFIER\n",
    "clf = AdaBoostClassifier(base_estimator=tree.DecisionTreeClassifier(max_depth=1),\n",
    "                         algorithm=\"SAMME.R\",\n",
    "                         n_estimators=1000, random_state = 1)\n",
    "                         \n",
    "'''\n",
    "parameters = {'base_estimator': [tree.DecisionTreeClassifier(max_depth=1),\n",
    "                                tree.DecisionTreeClassifier(max_depth=2)], \n",
    "              'n_estimators': [1000], \n",
    "              'algorithm' : ['SAMME', 'SAMME.R'],\n",
    "              'random_state' : [1]}\n",
    "\n",
    "# Make an fbeta_score scoring object using make_scorer()\n",
    "#scorer = make_scorer(fbeta_score, beta=0.5, average='weighted')\n",
    "\n",
    "# Perform grid search on the classifier using 'scorer' as the scoring method using GridSearchCV()\n",
    "\n",
    "grid_obj = GridSearchCV(clf, parameters, scoring = \"accuracy\", verbose = 5)\n",
    "\n",
    "#Fit the grid search object to the training data and find the optimal parameters using fit()\n",
    "grid_fit = grid_obj.fit(X_train_b, y_train_b)\n"
   ]
  },
  {
   "cell_type": "code",
   "execution_count": 90,
   "metadata": {},
   "outputs": [
    {
     "name": "stdout",
     "output_type": "stream",
     "text": [
      "AdaBoostClassifier(algorithm='SAMME',\n",
      "          base_estimator=DecisionTreeClassifier(class_weight=None, criterion='gini', max_depth=1,\n",
      "            max_features=None, max_leaf_nodes=None,\n",
      "            min_impurity_decrease=0.0, min_impurity_split=None,\n",
      "            min_samples_leaf=1, min_samples_split=2,\n",
      "            min_weight_fraction_leaf=0.0, presort=False, random_state=None,\n",
      "            splitter='best'),\n",
      "          learning_rate=1.0, n_estimators=1000, random_state=1)\n",
      "Unoptimized model\n",
      "------\n",
      "AdaBoostClassifier trained.\n",
      "{'train_time': 38.96136498451233, 'acc_train': 0.62666666666666671, 'acc_test': 0.53424223208623967, 'f_train': 0.62666666666666671, 'f_test': 0.53424223208623967}\n",
      "\n",
      "Optimized Model\n",
      "------\n",
      "AdaBoostClassifier trained.\n",
      "{'train_time': 37.22106051445007, 'acc_train': 0.56666666666666665, 'acc_test': 0.53931515535827523, 'f_train': 0.56666666666666665, 'f_test': 0.53931515535827523}\n"
     ]
    }
   ],
   "source": [
    "## Unoptimized Model\n",
    "clf = AdaBoostClassifier(base_estimator=tree.DecisionTreeClassifier(max_depth=1),\n",
    "                         algorithm=\"SAMME.R\",\n",
    "                         n_estimators=1000, random_state = 1)\n",
    "\n",
    "# Get the estimator\n",
    "best_clf = grid_fit.best_estimator_\n",
    "print (best_clf)\n",
    "\n",
    "# Make predictions using the unoptimized and model\n",
    "print (\"Unoptimized model\\n------\")\n",
    "results = train_predict(clf, X_train_b, y_train_b, X_test_b, y_test_b)\n",
    "print(results)\n",
    "print (\"\\nOptimized Model\\n------\")\n",
    "results = train_predict(best_clf, X_train_b, y_train_b, X_test_b, y_test_b)\n",
    "print(results)\n"
   ]
  },
  {
   "cell_type": "markdown",
   "metadata": {},
   "source": [
    "## Some observations "
   ]
  },
  {
   "cell_type": "code",
   "execution_count": 91,
   "metadata": {},
   "outputs": [
    {
     "name": "stdout",
     "output_type": "stream",
     "text": [
      "Home_Win Percentage : 46.01382634616604\n",
      "Away_Win Percentage : 25.331388342741167\n",
      "Draw Percentage : 28.65478531109279\n"
     ]
    }
   ],
   "source": [
    "from collections import Counter\n",
    "c=Counter(Y_data)\n",
    "\n",
    "print (\"Home_Win Percentage :\", c[2]/Y_data.shape[0]*100)\n",
    "print (\"Away_Win Percentage :\", c[1]/Y_data.shape[0]*100)\n",
    "print (\"Draw Percentage :\", c[0]/Y_data.shape[0]*100)\n"
   ]
  },
  {
   "cell_type": "code",
   "execution_count": 92,
   "metadata": {},
   "outputs": [
    {
     "name": "stdout",
     "output_type": "stream",
     "text": [
      "******************************************************************\n",
      "Confusion matrix for AdaBoost classifier\n",
      "Normalized confusion matrix\n",
      "[[ 0.53  0.04  0.43]\n",
      " [ 0.29  0.05  0.66]\n",
      " [ 0.16  0.03  0.82]]\n"
     ]
    },
    {
     "data": {
      "image/png": "[encoded data removed]",
      "text/plain": [
       "<matplotlib.figure.Figure at 0x27be79cd710>"
      ]
     },
     "metadata": {},
     "output_type": "display_data"
    }
   ],
   "source": [
    "'''\n",
    "CONFUSIOM MATRIX FOR ADABOOST\n",
    "'''\n",
    "y_pred = best_clf.predict(X_test_b)\n",
    "cnf_matrix_adaboost = confusion_matrix(y_test_b, y_pred)\n",
    "np.set_printoptions(precision=2)\n",
    "\n",
    "\n",
    "CLASSES_NAME = le.inverse_transform([0,1,2])\n",
    "\n",
    "print (\"******************************************************************\")\n",
    "print (\"Confusion matrix for AdaBoost classifier\")\n",
    "plt.figure()\n",
    "plot_confusion_matrix(cnf_matrix_adaboost, classes=CLASSES_NAME, normalize=True,\n",
    "                      title='Normalized confusion matrix AdaBoost')\n",
    "plt.show()\n"
   ]
  },
  {
   "cell_type": "markdown",
   "metadata": {},
   "source": [
    "#### Home Wins\n",
    "Based on the confusion matrix for the best classifier, it is pretty good at predicting home wins. Through statistics, home wins occur 46% of the time; so predicting 82% is really good.\n",
    "\n",
    "#### Away Wins\n",
    "Away wins statistically occur 25% of the time, the model predicts the correct result for an away win 53% of the time.\n",
    "\n",
    "#### Draw\n",
    "Draws occur 28% of the time, the model predicts the correct result for a draw only 5%. We can see that the model is bad at predicting draws"
   ]
  },
  {
   "cell_type": "markdown",
   "metadata": {},
   "source": [
    "### Let's do some more tuning"
   ]
  },
  {
   "cell_type": "code",
   "execution_count": 93,
   "metadata": {},
   "outputs": [
    {
     "data": {
      "text/plain": [
       "AdaBoostClassifier(algorithm='SAMME.R',\n",
       "          base_estimator=DecisionTreeClassifier(class_weight=None, criterion='gini', max_depth=1,\n",
       "            max_features=None, max_leaf_nodes=None,\n",
       "            min_impurity_decrease=0.0, min_impurity_split=None,\n",
       "            min_samples_leaf=1, min_samples_split=2,\n",
       "            min_weight_fraction_leaf=0.0, presort=False, random_state=None,\n",
       "            splitter='best'),\n",
       "          learning_rate=1.0, n_estimators=1000, random_state=1)"
      ]
     },
     "execution_count": 93,
     "metadata": {},
     "output_type": "execute_result"
    }
   ],
   "source": [
    "clf"
   ]
  },
  {
   "cell_type": "code",
   "execution_count": 94,
   "metadata": {},
   "outputs": [
    {
     "name": "stderr",
     "output_type": "stream",
     "text": [
      "D:\\Users\\karel\\Anaconda3\\lib\\site-packages\\sklearn\\model_selection\\_search.py:761: DeprecationWarning: The grid_scores_ attribute was deprecated in version 0.18 in favor of the more elaborate cv_results_ attribute. The grid_scores_ attribute will not be available from 0.20\n",
      "  DeprecationWarning)\n"
     ]
    },
    {
     "data": {
      "text/plain": [
       "([mean: 0.51122, std: 0.00428, params: {'algorithm': 'SAMME.R'},\n",
       "  mean: 0.53675, std: 0.00795, params: {'algorithm': 'SAMME'}],\n",
       " {'algorithm': 'SAMME'},\n",
       " 0.53674602884959677)"
      ]
     },
     "execution_count": 94,
     "metadata": {},
     "output_type": "execute_result"
    }
   ],
   "source": [
    "\n",
    "param_test1 = {\n",
    "    'algorithm': ['SAMME.R','SAMME']\n",
    "}\n",
    "gsearch1 = GridSearchCV(estimator = clf, param_grid = param_test1, scoring='accuracy',n_jobs=4,iid=False)\n",
    "\n",
    "gsearch1.fit(X_train_b,y_train_b)\n",
    "gsearch1.grid_scores_, gsearch1.best_params_, gsearch1.best_score_\n",
    "\n"
   ]
  },
  {
   "cell_type": "code",
   "execution_count": 95,
   "metadata": {},
   "outputs": [
    {
     "name": "stderr",
     "output_type": "stream",
     "text": [
      "D:\\Users\\karel\\Anaconda3\\lib\\site-packages\\sklearn\\model_selection\\_search.py:761: DeprecationWarning: The grid_scores_ attribute was deprecated in version 0.18 in favor of the more elaborate cv_results_ attribute. The grid_scores_ attribute will not be available from 0.20\n",
      "  DeprecationWarning)\n"
     ]
    },
    {
     "data": {
      "text/plain": [
       "([mean: 0.53675, std: 0.00795, params: {'base_estimator': DecisionTreeClassifier(class_weight=None, criterion='gini', max_depth=1,\n",
       "            max_features=None, max_leaf_nodes=None,\n",
       "            min_impurity_decrease=0.0, min_impurity_split=None,\n",
       "            min_samples_leaf=1, min_samples_split=2,\n",
       "            min_weight_fraction_leaf=0.0, presort=False, random_state=None,\n",
       "            splitter='best')},\n",
       "  mean: 0.53532, std: 0.00331, params: {'base_estimator': DecisionTreeClassifier(class_weight=None, criterion='gini', max_depth=2,\n",
       "            max_features=None, max_leaf_nodes=None,\n",
       "            min_impurity_decrease=0.0, min_impurity_split=None,\n",
       "            min_samples_leaf=1, min_samples_split=2,\n",
       "            min_weight_fraction_leaf=0.0, presort=False, random_state=None,\n",
       "            splitter='best')},\n",
       "  mean: 0.52271, std: 0.00459, params: {'base_estimator': DecisionTreeClassifier(class_weight=None, criterion='gini', max_depth=3,\n",
       "            max_features=None, max_leaf_nodes=None,\n",
       "            min_impurity_decrease=0.0, min_impurity_split=None,\n",
       "            min_samples_leaf=1, min_samples_split=2,\n",
       "            min_weight_fraction_leaf=0.0, presort=False, random_state=None,\n",
       "            splitter='best')},\n",
       "  mean: 0.51074, std: 0.00389, params: {'base_estimator': DecisionTreeClassifier(class_weight=None, criterion='gini', max_depth=4,\n",
       "            max_features=None, max_leaf_nodes=None,\n",
       "            min_impurity_decrease=0.0, min_impurity_split=None,\n",
       "            min_samples_leaf=1, min_samples_split=2,\n",
       "            min_weight_fraction_leaf=0.0, presort=False, random_state=None,\n",
       "            splitter='best')}],\n",
       " {'base_estimator': DecisionTreeClassifier(class_weight=None, criterion='gini', max_depth=1,\n",
       "              max_features=None, max_leaf_nodes=None,\n",
       "              min_impurity_decrease=0.0, min_impurity_split=None,\n",
       "              min_samples_leaf=1, min_samples_split=2,\n",
       "              min_weight_fraction_leaf=0.0, presort=False, random_state=None,\n",
       "              splitter='best')},\n",
       " 0.53674602884959677)"
      ]
     },
     "execution_count": 95,
     "metadata": {},
     "output_type": "execute_result"
    }
   ],
   "source": [
    "clf_1 = AdaBoostClassifier(base_estimator=tree.DecisionTreeClassifier(max_depth=1),\n",
    "                         algorithm=\"SAMME\",\n",
    "                         n_estimators=1000, random_state = 1)\n",
    "param_test1 = {\n",
    "    'base_estimator': [tree.DecisionTreeClassifier(max_depth=x) for x in range(1,5)]\n",
    "}\n",
    "gsearch1 = GridSearchCV(estimator = clf_1, param_grid = param_test1, scoring='accuracy',n_jobs=4,iid=False)\n",
    "\n",
    "gsearch1.fit(X_train_b,y_train_b)\n",
    "gsearch1.grid_scores_, gsearch1.best_params_, gsearch1.best_score_\n",
    "\n"
   ]
  },
  {
   "cell_type": "code",
   "execution_count": 96,
   "metadata": {},
   "outputs": [
    {
     "name": "stderr",
     "output_type": "stream",
     "text": [
      "D:\\Users\\karel\\Anaconda3\\lib\\site-packages\\sklearn\\model_selection\\_search.py:761: DeprecationWarning: The grid_scores_ attribute was deprecated in version 0.18 in favor of the more elaborate cv_results_ attribute. The grid_scores_ attribute will not be available from 0.20\n",
      "  DeprecationWarning)\n"
     ]
    },
    {
     "data": {
      "text/plain": [
       "([mean: 0.53587, std: 0.00950, params: {'learning_rate': 0.001},\n",
       "  mean: 0.53833, std: 0.00701, params: {'learning_rate': 0.006},\n",
       "  mean: 0.54222, std: 0.00706, params: {'learning_rate': 0.011},\n",
       "  mean: 0.54230, std: 0.00711, params: {'learning_rate': 0.016},\n",
       "  mean: 0.54198, std: 0.00689, params: {'learning_rate': 0.021},\n",
       "  mean: 0.54127, std: 0.00639, params: {'learning_rate': 0.026},\n",
       "  mean: 0.54158, std: 0.00661, params: {'learning_rate': 0.031},\n",
       "  mean: 0.54111, std: 0.00532, params: {'learning_rate': 0.036},\n",
       "  mean: 0.54158, std: 0.00529, params: {'learning_rate': 0.041},\n",
       "  mean: 0.54119, std: 0.00565, params: {'learning_rate': 0.046}],\n",
       " {'learning_rate': 0.016},\n",
       " 0.54229603470106891)"
      ]
     },
     "execution_count": 96,
     "metadata": {},
     "output_type": "execute_result"
    }
   ],
   "source": [
    "\n",
    "param_test1 = {\n",
    "    'learning_rate': [i/1000.0 for i in range(1,50,5)]\n",
    "}\n",
    "gsearch1 = GridSearchCV(estimator = clf_1, param_grid = param_test1, scoring='accuracy',n_jobs=4,iid=False)\n",
    "\n",
    "gsearch1.fit(X_train_b,y_train_b)\n",
    "gsearch1.grid_scores_, gsearch1.best_params_, gsearch1.best_score_\n",
    "\n"
   ]
  },
  {
   "cell_type": "code",
   "execution_count": 97,
   "metadata": {},
   "outputs": [
    {
     "name": "stderr",
     "output_type": "stream",
     "text": [
      "D:\\Users\\karel\\Anaconda3\\lib\\site-packages\\sklearn\\model_selection\\_search.py:761: DeprecationWarning: The grid_scores_ attribute was deprecated in version 0.18 in favor of the more elaborate cv_results_ attribute. The grid_scores_ attribute will not be available from 0.20\n",
      "  DeprecationWarning)\n"
     ]
    },
    {
     "data": {
      "text/plain": [
       "([mean: 0.54230, std: 0.00711, params: {'learning_rate': 0.016},\n",
       "  mean: 0.54206, std: 0.00695, params: {'learning_rate': 0.017},\n",
       "  mean: 0.54222, std: 0.00706, params: {'learning_rate': 0.018},\n",
       "  mean: 0.54198, std: 0.00689, params: {'learning_rate': 0.019},\n",
       "  mean: 0.54190, std: 0.00683, params: {'learning_rate': 0.02}],\n",
       " {'learning_rate': 0.016},\n",
       " 0.54229603470106891)"
      ]
     },
     "execution_count": 97,
     "metadata": {},
     "output_type": "execute_result"
    }
   ],
   "source": [
    "\n",
    "param_test1 = {\n",
    "    'learning_rate': [i/1000.0 for i in range(16,21)]\n",
    "}\n",
    "gsearch1 = GridSearchCV(estimator = clf_1, param_grid = param_test1, scoring='accuracy',n_jobs=4,iid=False)\n",
    "\n",
    "gsearch1.fit(X_train_b,y_train_b)\n",
    "gsearch1.grid_scores_, gsearch1.best_params_, gsearch1.best_score_\n",
    "\n"
   ]
  },
  {
   "cell_type": "code",
   "execution_count": 98,
   "metadata": {},
   "outputs": [
    {
     "name": "stderr",
     "output_type": "stream",
     "text": [
      "D:\\Users\\karel\\Anaconda3\\lib\\site-packages\\sklearn\\model_selection\\_search.py:761: DeprecationWarning: The grid_scores_ attribute was deprecated in version 0.18 in favor of the more elaborate cv_results_ attribute. The grid_scores_ attribute will not be available from 0.20\n",
      "  DeprecationWarning)\n"
     ]
    },
    {
     "data": {
      "text/plain": [
       "([mean: 0.53849, std: 0.00950, params: {'n_estimators': 100},\n",
       "  mean: 0.53294, std: 0.01215, params: {'n_estimators': 200},\n",
       "  mean: 0.53817, std: 0.00710, params: {'n_estimators': 300},\n",
       "  mean: 0.53802, std: 0.00672, params: {'n_estimators': 400},\n",
       "  mean: 0.54158, std: 0.00665, params: {'n_estimators': 500},\n",
       "  mean: 0.54230, std: 0.00712, params: {'n_estimators': 600},\n",
       "  mean: 0.54222, std: 0.00706, params: {'n_estimators': 700},\n",
       "  mean: 0.54222, std: 0.00706, params: {'n_estimators': 800},\n",
       "  mean: 0.54222, std: 0.00706, params: {'n_estimators': 900},\n",
       "  mean: 0.54230, std: 0.00711, params: {'n_estimators': 1000},\n",
       "  mean: 0.54214, std: 0.00700, params: {'n_estimators': 1100},\n",
       "  mean: 0.54214, std: 0.00700, params: {'n_estimators': 1200},\n",
       "  mean: 0.54182, std: 0.00678, params: {'n_estimators': 1300},\n",
       "  mean: 0.54174, std: 0.00672, params: {'n_estimators': 1400}],\n",
       " {'n_estimators': 600},\n",
       " 0.54229603470106902)"
      ]
     },
     "execution_count": 98,
     "metadata": {},
     "output_type": "execute_result"
    }
   ],
   "source": [
    "clf_2 = AdaBoostClassifier(base_estimator=tree.DecisionTreeClassifier(max_depth=1),\n",
    "                         algorithm=\"SAMME\",\n",
    "                         n_estimators=1000, random_state = 1,learning_rate=0.016)\n",
    "param_test1 = {\n",
    "    'n_estimators': [i for i in range(100,1500,100)]\n",
    "}\n",
    "gsearch1 = GridSearchCV(estimator = clf_2, param_grid = param_test1, scoring='accuracy',n_jobs=4,iid=False)\n",
    "\n",
    "gsearch1.fit(X_train_b,y_train_b)\n",
    "gsearch1.grid_scores_, gsearch1.best_params_, gsearch1.best_score_\n",
    "\n"
   ]
  },
  {
   "cell_type": "code",
   "execution_count": 99,
   "metadata": {},
   "outputs": [
    {
     "name": "stderr",
     "output_type": "stream",
     "text": [
      "D:\\Users\\karel\\Anaconda3\\lib\\site-packages\\sklearn\\model_selection\\_search.py:761: DeprecationWarning: The grid_scores_ attribute was deprecated in version 0.18 in favor of the more elaborate cv_results_ attribute. The grid_scores_ attribute will not be available from 0.20\n",
      "  DeprecationWarning)\n"
     ]
    },
    {
     "data": {
      "text/plain": [
       "([mean: 0.54230, std: 0.00712, params: {'n_estimators': 600},\n",
       "  mean: 0.54230, std: 0.00712, params: {'n_estimators': 610},\n",
       "  mean: 0.54230, std: 0.00712, params: {'n_estimators': 620},\n",
       "  mean: 0.54222, std: 0.00706, params: {'n_estimators': 630},\n",
       "  mean: 0.54222, std: 0.00706, params: {'n_estimators': 640},\n",
       "  mean: 0.54222, std: 0.00706, params: {'n_estimators': 650},\n",
       "  mean: 0.54222, std: 0.00706, params: {'n_estimators': 660},\n",
       "  mean: 0.54222, std: 0.00706, params: {'n_estimators': 670},\n",
       "  mean: 0.54222, std: 0.00706, params: {'n_estimators': 680},\n",
       "  mean: 0.54222, std: 0.00706, params: {'n_estimators': 690}],\n",
       " {'n_estimators': 600},\n",
       " 0.54229603470106902)"
      ]
     },
     "execution_count": 99,
     "metadata": {},
     "output_type": "execute_result"
    }
   ],
   "source": [
    "\n",
    "param_test1 = {\n",
    "    'n_estimators': [i for i in range(600,700,10)]\n",
    "}\n",
    "gsearch1 = GridSearchCV(estimator = clf_2, param_grid = param_test1, scoring='accuracy',n_jobs=4,iid=False)\n",
    "\n",
    "gsearch1.fit(X_train_b,y_train_b)\n",
    "gsearch1.grid_scores_, gsearch1.best_params_, gsearch1.best_score_\n",
    "\n"
   ]
  },
  {
   "cell_type": "code",
   "execution_count": 102,
   "metadata": {},
   "outputs": [
    {
     "name": "stdout",
     "output_type": "stream",
     "text": [
      "AdaBoostClassifier trained.\n"
     ]
    }
   ],
   "source": [
    "clf_3 = AdaBoostClassifier(base_estimator=tree.DecisionTreeClassifier(max_depth=1),\n",
    "                         algorithm=\"SAMME.R\",\n",
    "                         n_estimators=600, random_state = 1,learning_rate=0.016)\n",
    "\n",
    "results = train_predict(clf_3, X_train_b, y_train_b, X_test_b, y_test_b)"
   ]
  },
  {
   "cell_type": "code",
   "execution_count": 103,
   "metadata": {},
   "outputs": [
    {
     "data": {
      "text/plain": [
       "{'acc_test': 0.54977805960684845,\n",
       " 'acc_train': 0.56999999999999995,\n",
       " 'f_test': 0.54977805960684845,\n",
       " 'f_train': 0.56999999999999995,\n",
       " 'train_time': 23.1489520072937}"
      ]
     },
     "execution_count": 103,
     "metadata": {},
     "output_type": "execute_result"
    }
   ],
   "source": [
    "results"
   ]
  },
  {
   "cell_type": "markdown",
   "metadata": {},
   "source": [
    "After tuning some parameters, we were able to reach an accuracy of 54.8% on this dataset! Let's try adding the team ratings features and removing the Betting features."
   ]
  },
  {
   "cell_type": "markdown",
   "metadata": {},
   "source": [
    "## Adaboost Model on Dataset with Team Ratings and No Bets"
   ]
  },
  {
   "cell_type": "code",
   "execution_count": 73,
   "metadata": {
    "collapsed": true
   },
   "outputs": [],
   "source": [
    "data = pd.read_csv('Data_Structures/FINAL_BASE_DATASET_TEAM_RATINGS_ADDED_NO_BETS_ZEROS_NOT_REMOVED.csv',index_col=0)"
   ]
  },
  {
   "cell_type": "code",
   "execution_count": 74,
   "metadata": {},
   "outputs": [
    {
     "name": "stdout",
     "output_type": "stream",
     "text": [
      "Training set has 13887 samples.\n",
      "Testing set has 3472 samples.\n"
     ]
    }
   ],
   "source": [
    "\n",
    "X_data=data.drop(['Label'],axis=1)\n",
    "Y_data=data['Label']\n",
    "\n",
    "s = StratifiedShuffleSplit(n_splits=2, test_size = 0.2, random_state=0)\n",
    "for train_index, test_index in s.split(X_data, Y_data):\n",
    "    #print(\"TRAIN:\", train_index, \"TEST:\", test_index)\n",
    "    X_train_b, X_test_b = X_data.iloc[train_index], X_data.iloc[test_index]\n",
    "    y_train_b, y_test_b = Y_data.iloc[train_index], Y_data.iloc[test_index]\n",
    "\n",
    "\n",
    "# Show the results of the split\n",
    "print (\"Training set has {} samples.\".format(X_train_b.shape[0]))\n",
    "print (\"Testing set has {} samples.\".format(X_test_b.shape[0]))"
   ]
  },
  {
   "cell_type": "code",
   "execution_count": 45,
   "metadata": {
    "collapsed": true
   },
   "outputs": [],
   "source": [
    "clf = AdaBoostClassifier(base_estimator=tree.DecisionTreeClassifier(max_depth=1),\n",
    "                         algorithm=\"SAMME.R\",\n",
    "                         n_estimators=1000, random_state = 1)"
   ]
  },
  {
   "cell_type": "code",
   "execution_count": 46,
   "metadata": {},
   "outputs": [
    {
     "name": "stdout",
     "output_type": "stream",
     "text": [
      "AdaBoostClassifier trained.\n"
     ]
    }
   ],
   "source": [
    "results = train_predict(clf, X_train_b, y_train_b, X_test_b, y_test_b)"
   ]
  },
  {
   "cell_type": "code",
   "execution_count": 47,
   "metadata": {},
   "outputs": [
    {
     "data": {
      "text/plain": [
       "{'acc_test': 0.52880184331797231,\n",
       " 'acc_train': 0.57333333333333336,\n",
       " 'f_test': 0.52880184331797231,\n",
       " 'f_train': 0.57333333333333336,\n",
       " 'train_time': 44.221764087677}"
      ]
     },
     "execution_count": 47,
     "metadata": {},
     "output_type": "execute_result"
    }
   ],
   "source": [
    "results"
   ]
  },
  {
   "cell_type": "code",
   "execution_count": 48,
   "metadata": {},
   "outputs": [
    {
     "name": "stdout",
     "output_type": "stream",
     "text": [
      "******************************************************************\n",
      "Confusion matrix for AdaBoost classifier\n",
      "Normalized confusion matrix\n",
      "[[ 0.46  0.11  0.44]\n",
      " [ 0.23  0.16  0.61]\n",
      " [ 0.13  0.09  0.78]]\n"
     ]
    },
    {
     "data": {
      "image/png": "[encoded data removed]",
      "text/plain": [
       "<matplotlib.figure.Figure at 0x27be9bfd160>"
      ]
     },
     "metadata": {},
     "output_type": "display_data"
    }
   ],
   "source": [
    "'''\n",
    "CONFUSIOM MATRIX FOR ADABOOST\n",
    "'''\n",
    "y_pred = clf.predict(X_test_b)\n",
    "cnf_matrix_adaboost = confusion_matrix(y_test_b, y_pred)\n",
    "np.set_printoptions(precision=2)\n",
    "\n",
    "\n",
    "CLASSES_NAME = le.inverse_transform([0,1,2])\n",
    "\n",
    "print (\"******************************************************************\")\n",
    "print (\"Confusion matrix for AdaBoost classifier\")\n",
    "plt.figure()\n",
    "plot_confusion_matrix(cnf_matrix_adaboost, classes=CLASSES_NAME, normalize=True,\n",
    "                      title='Normalized confusion matrix AdaBoost')\n",
    "plt.show()\n"
   ]
  },
  {
   "cell_type": "code",
   "execution_count": 49,
   "metadata": {},
   "outputs": [
    {
     "name": "stdout",
     "output_type": "stream",
     "text": [
      "Fitting 3 folds for each of 4 candidates, totalling 12 fits\n",
      "[CV] algorithm=SAMME, base_estimator=DecisionTreeClassifier(class_weight=None, criterion='gini', max_depth=1,\n",
      "            max_features=None, max_leaf_nodes=None,\n",
      "            min_impurity_decrease=0.0, min_impurity_split=None,\n",
      "            min_samples_leaf=1, min_samples_split=2,\n",
      "            min_weight_fraction_leaf=0.0, presort=False, random_state=None,\n",
      "            splitter='best'), n_estimators=1000, random_state=1 \n",
      "[CV]  algorithm=SAMME, base_estimator=DecisionTreeClassifier(class_weight=None, criterion='gini', max_depth=1,\n",
      "            max_features=None, max_leaf_nodes=None,\n",
      "            min_impurity_decrease=0.0, min_impurity_split=None,\n",
      "            min_samples_leaf=1, min_samples_split=2,\n",
      "            min_weight_fraction_leaf=0.0, presort=False, random_state=None,\n",
      "            splitter='best'), n_estimators=1000, random_state=1, score=0.5295896328293737, total=  29.0s\n",
      "[CV] algorithm=SAMME, base_estimator=DecisionTreeClassifier(class_weight=None, criterion='gini', max_depth=1,\n",
      "            max_features=None, max_leaf_nodes=None,\n",
      "            min_impurity_decrease=0.0, min_impurity_split=None,\n",
      "            min_samples_leaf=1, min_samples_split=2,\n",
      "            min_weight_fraction_leaf=0.0, presort=False, random_state=None,\n",
      "            splitter='best'), n_estimators=1000, random_state=1 \n"
     ]
    },
    {
     "name": "stderr",
     "output_type": "stream",
     "text": [
      "[Parallel(n_jobs=1)]: Done   1 out of   1 | elapsed:   29.5s remaining:    0.0s\n"
     ]
    },
    {
     "name": "stdout",
     "output_type": "stream",
     "text": [
      "[CV]  algorithm=SAMME, base_estimator=DecisionTreeClassifier(class_weight=None, criterion='gini', max_depth=1,\n",
      "            max_features=None, max_leaf_nodes=None,\n",
      "            min_impurity_decrease=0.0, min_impurity_split=None,\n",
      "            min_samples_leaf=1, min_samples_split=2,\n",
      "            min_weight_fraction_leaf=0.0, presort=False, random_state=None,\n",
      "            splitter='best'), n_estimators=1000, random_state=1, score=0.5222462203023758, total=  28.6s\n",
      "[CV] algorithm=SAMME, base_estimator=DecisionTreeClassifier(class_weight=None, criterion='gini', max_depth=1,\n",
      "            max_features=None, max_leaf_nodes=None,\n",
      "            min_impurity_decrease=0.0, min_impurity_split=None,\n",
      "            min_samples_leaf=1, min_samples_split=2,\n",
      "            min_weight_fraction_leaf=0.0, presort=False, random_state=None,\n",
      "            splitter='best'), n_estimators=1000, random_state=1 \n"
     ]
    },
    {
     "name": "stderr",
     "output_type": "stream",
     "text": [
      "[Parallel(n_jobs=1)]: Done   2 out of   2 | elapsed:   58.7s remaining:    0.0s\n"
     ]
    },
    {
     "name": "stdout",
     "output_type": "stream",
     "text": [
      "[CV]  algorithm=SAMME, base_estimator=DecisionTreeClassifier(class_weight=None, criterion='gini', max_depth=1,\n",
      "            max_features=None, max_leaf_nodes=None,\n",
      "            min_impurity_decrease=0.0, min_impurity_split=None,\n",
      "            min_samples_leaf=1, min_samples_split=2,\n",
      "            min_weight_fraction_leaf=0.0, presort=False, random_state=None,\n",
      "            splitter='best'), n_estimators=1000, random_state=1, score=0.5390101577696131, total=  28.2s\n",
      "[CV] algorithm=SAMME, base_estimator=DecisionTreeClassifier(class_weight=None, criterion='gini', max_depth=2,\n",
      "            max_features=None, max_leaf_nodes=None,\n",
      "            min_impurity_decrease=0.0, min_impurity_split=None,\n",
      "            min_samples_leaf=1, min_samples_split=2,\n",
      "            min_weight_fraction_leaf=0.0, presort=False, random_state=None,\n",
      "            splitter='best'), n_estimators=1000, random_state=1 \n"
     ]
    },
    {
     "name": "stderr",
     "output_type": "stream",
     "text": [
      "[Parallel(n_jobs=1)]: Done   3 out of   3 | elapsed:  1.5min remaining:    0.0s\n"
     ]
    },
    {
     "name": "stdout",
     "output_type": "stream",
     "text": [
      "[CV]  algorithm=SAMME, base_estimator=DecisionTreeClassifier(class_weight=None, criterion='gini', max_depth=2,\n",
      "            max_features=None, max_leaf_nodes=None,\n",
      "            min_impurity_decrease=0.0, min_impurity_split=None,\n",
      "            min_samples_leaf=1, min_samples_split=2,\n",
      "            min_weight_fraction_leaf=0.0, presort=False, random_state=None,\n",
      "            splitter='best'), n_estimators=1000, random_state=1, score=0.5205183585313174, total=  54.4s\n",
      "[CV] algorithm=SAMME, base_estimator=DecisionTreeClassifier(class_weight=None, criterion='gini', max_depth=2,\n",
      "            max_features=None, max_leaf_nodes=None,\n",
      "            min_impurity_decrease=0.0, min_impurity_split=None,\n",
      "            min_samples_leaf=1, min_samples_split=2,\n",
      "            min_weight_fraction_leaf=0.0, presort=False, random_state=None,\n",
      "            splitter='best'), n_estimators=1000, random_state=1 \n"
     ]
    },
    {
     "name": "stderr",
     "output_type": "stream",
     "text": [
      "[Parallel(n_jobs=1)]: Done   4 out of   4 | elapsed:  2.4min remaining:    0.0s\n"
     ]
    },
    {
     "name": "stdout",
     "output_type": "stream",
     "text": [
      "[CV]  algorithm=SAMME, base_estimator=DecisionTreeClassifier(class_weight=None, criterion='gini', max_depth=2,\n",
      "            max_features=None, max_leaf_nodes=None,\n",
      "            min_impurity_decrease=0.0, min_impurity_split=None,\n",
      "            min_samples_leaf=1, min_samples_split=2,\n",
      "            min_weight_fraction_leaf=0.0, presort=False, random_state=None,\n",
      "            splitter='best'), n_estimators=1000, random_state=1, score=0.5287257019438445, total=  54.1s\n",
      "[CV] algorithm=SAMME, base_estimator=DecisionTreeClassifier(class_weight=None, criterion='gini', max_depth=2,\n",
      "            max_features=None, max_leaf_nodes=None,\n",
      "            min_impurity_decrease=0.0, min_impurity_split=None,\n",
      "            min_samples_leaf=1, min_samples_split=2,\n",
      "            min_weight_fraction_leaf=0.0, presort=False, random_state=None,\n",
      "            splitter='best'), n_estimators=1000, random_state=1 \n",
      "[CV]  algorithm=SAMME, base_estimator=DecisionTreeClassifier(class_weight=None, criterion='gini', max_depth=2,\n",
      "            max_features=None, max_leaf_nodes=None,\n",
      "            min_impurity_decrease=0.0, min_impurity_split=None,\n",
      "            min_samples_leaf=1, min_samples_split=2,\n",
      "            min_weight_fraction_leaf=0.0, presort=False, random_state=None,\n",
      "            splitter='best'), n_estimators=1000, random_state=1, score=0.5314458612491896, total=  54.2s\n",
      "[CV] algorithm=SAMME.R, base_estimator=DecisionTreeClassifier(class_weight=None, criterion='gini', max_depth=1,\n",
      "            max_features=None, max_leaf_nodes=None,\n",
      "            min_impurity_decrease=0.0, min_impurity_split=None,\n",
      "            min_samples_leaf=1, min_samples_split=2,\n",
      "            min_weight_fraction_leaf=0.0, presort=False, random_state=None,\n",
      "            splitter='best'), n_estimators=1000, random_state=1 \n",
      "[CV]  algorithm=SAMME.R, base_estimator=DecisionTreeClassifier(class_weight=None, criterion='gini', max_depth=1,\n",
      "            max_features=None, max_leaf_nodes=None,\n",
      "            min_impurity_decrease=0.0, min_impurity_split=None,\n",
      "            min_samples_leaf=1, min_samples_split=2,\n",
      "            min_weight_fraction_leaf=0.0, presort=False, random_state=None,\n",
      "            splitter='best'), n_estimators=1000, random_state=1, score=0.5086393088552916, total=  29.6s\n",
      "[CV] algorithm=SAMME.R, base_estimator=DecisionTreeClassifier(class_weight=None, criterion='gini', max_depth=1,\n",
      "            max_features=None, max_leaf_nodes=None,\n",
      "            min_impurity_decrease=0.0, min_impurity_split=None,\n",
      "            min_samples_leaf=1, min_samples_split=2,\n",
      "            min_weight_fraction_leaf=0.0, presort=False, random_state=None,\n",
      "            splitter='best'), n_estimators=1000, random_state=1 \n",
      "[CV]  algorithm=SAMME.R, base_estimator=DecisionTreeClassifier(class_weight=None, criterion='gini', max_depth=1,\n",
      "            max_features=None, max_leaf_nodes=None,\n",
      "            min_impurity_decrease=0.0, min_impurity_split=None,\n",
      "            min_samples_leaf=1, min_samples_split=2,\n",
      "            min_weight_fraction_leaf=0.0, presort=False, random_state=None,\n",
      "            splitter='best'), n_estimators=1000, random_state=1, score=0.5086393088552916, total=  29.4s\n",
      "[CV] algorithm=SAMME.R, base_estimator=DecisionTreeClassifier(class_weight=None, criterion='gini', max_depth=1,\n",
      "            max_features=None, max_leaf_nodes=None,\n",
      "            min_impurity_decrease=0.0, min_impurity_split=None,\n",
      "            min_samples_leaf=1, min_samples_split=2,\n",
      "            min_weight_fraction_leaf=0.0, presort=False, random_state=None,\n",
      "            splitter='best'), n_estimators=1000, random_state=1 \n",
      "[CV]  algorithm=SAMME.R, base_estimator=DecisionTreeClassifier(class_weight=None, criterion='gini', max_depth=1,\n",
      "            max_features=None, max_leaf_nodes=None,\n",
      "            min_impurity_decrease=0.0, min_impurity_split=None,\n",
      "            min_samples_leaf=1, min_samples_split=2,\n",
      "            min_weight_fraction_leaf=0.0, presort=False, random_state=None,\n",
      "            splitter='best'), n_estimators=1000, random_state=1, score=0.5048627620488437, total=  29.4s\n",
      "[CV] algorithm=SAMME.R, base_estimator=DecisionTreeClassifier(class_weight=None, criterion='gini', max_depth=2,\n",
      "            max_features=None, max_leaf_nodes=None,\n",
      "            min_impurity_decrease=0.0, min_impurity_split=None,\n",
      "            min_samples_leaf=1, min_samples_split=2,\n",
      "            min_weight_fraction_leaf=0.0, presort=False, random_state=None,\n",
      "            splitter='best'), n_estimators=1000, random_state=1 \n",
      "[CV]  algorithm=SAMME.R, base_estimator=DecisionTreeClassifier(class_weight=None, criterion='gini', max_depth=2,\n",
      "            max_features=None, max_leaf_nodes=None,\n",
      "            min_impurity_decrease=0.0, min_impurity_split=None,\n",
      "            min_samples_leaf=1, min_samples_split=2,\n",
      "            min_weight_fraction_leaf=0.0, presort=False, random_state=None,\n",
      "            splitter='best'), n_estimators=1000, random_state=1, score=0.4742980561555076, total=  55.3s\n",
      "[CV] algorithm=SAMME.R, base_estimator=DecisionTreeClassifier(class_weight=None, criterion='gini', max_depth=2,\n",
      "            max_features=None, max_leaf_nodes=None,\n",
      "            min_impurity_decrease=0.0, min_impurity_split=None,\n",
      "            min_samples_leaf=1, min_samples_split=2,\n",
      "            min_weight_fraction_leaf=0.0, presort=False, random_state=None,\n",
      "            splitter='best'), n_estimators=1000, random_state=1 \n",
      "[CV]  algorithm=SAMME.R, base_estimator=DecisionTreeClassifier(class_weight=None, criterion='gini', max_depth=2,\n",
      "            max_features=None, max_leaf_nodes=None,\n",
      "            min_impurity_decrease=0.0, min_impurity_split=None,\n",
      "            min_samples_leaf=1, min_samples_split=2,\n",
      "            min_weight_fraction_leaf=0.0, presort=False, random_state=None,\n",
      "            splitter='best'), n_estimators=1000, random_state=1, score=0.4663066954643629, total=  55.3s\n",
      "[CV] algorithm=SAMME.R, base_estimator=DecisionTreeClassifier(class_weight=None, criterion='gini', max_depth=2,\n",
      "            max_features=None, max_leaf_nodes=None,\n",
      "            min_impurity_decrease=0.0, min_impurity_split=None,\n",
      "            min_samples_leaf=1, min_samples_split=2,\n",
      "            min_weight_fraction_leaf=0.0, presort=False, random_state=None,\n",
      "            splitter='best'), n_estimators=1000, random_state=1 \n",
      "[CV]  algorithm=SAMME.R, base_estimator=DecisionTreeClassifier(class_weight=None, criterion='gini', max_depth=2,\n",
      "            max_features=None, max_leaf_nodes=None,\n",
      "            min_impurity_decrease=0.0, min_impurity_split=None,\n",
      "            min_samples_leaf=1, min_samples_split=2,\n",
      "            min_weight_fraction_leaf=0.0, presort=False, random_state=None,\n",
      "            splitter='best'), n_estimators=1000, random_state=1, score=0.46531229738491464, total=  55.2s\n"
     ]
    },
    {
     "name": "stderr",
     "output_type": "stream",
     "text": [
      "[Parallel(n_jobs=1)]: Done  12 out of  12 | elapsed:  8.6min finished\n"
     ]
    }
   ],
   "source": [
    "# Initialize the classifier\n",
    "clf = AdaBoostClassifier()\n",
    "\n",
    "\n",
    "'''\n",
    "MY BASE CLASSIFIER\n",
    "clf = AdaBoostClassifier(base_estimator=tree.DecisionTreeClassifier(max_depth=1),\n",
    "                         algorithm=\"SAMME.R\",\n",
    "                         n_estimators=1000, random_state = 1)\n",
    "                         \n",
    "'''\n",
    "parameters = {'base_estimator': [tree.DecisionTreeClassifier(max_depth=1),\n",
    "                                tree.DecisionTreeClassifier(max_depth=2)], \n",
    "              'n_estimators': [1000], \n",
    "              'algorithm' : ['SAMME', 'SAMME.R'],\n",
    "              'random_state' : [1]}\n",
    "\n",
    "# Make an fbeta_score scoring object using make_scorer()\n",
    "#scorer = make_scorer(fbeta_score, beta=0.5, average='weighted')\n",
    "\n",
    "# Perform grid search on the classifier using 'scorer' as the scoring method using GridSearchCV()\n",
    "\n",
    "grid_obj = GridSearchCV(clf, parameters, scoring = \"accuracy\", verbose = 5)\n",
    "\n",
    "#Fit the grid search object to the training data and find the optimal parameters using fit()\n",
    "grid_fit = grid_obj.fit(X_train_b, y_train_b)\n"
   ]
  },
  {
   "cell_type": "code",
   "execution_count": 50,
   "metadata": {},
   "outputs": [
    {
     "name": "stdout",
     "output_type": "stream",
     "text": [
      "AdaBoostClassifier(algorithm='SAMME',\n",
      "          base_estimator=DecisionTreeClassifier(class_weight=None, criterion='gini', max_depth=1,\n",
      "            max_features=None, max_leaf_nodes=None,\n",
      "            min_impurity_decrease=0.0, min_impurity_split=None,\n",
      "            min_samples_leaf=1, min_samples_split=2,\n",
      "            min_weight_fraction_leaf=0.0, presort=False, random_state=None,\n",
      "            splitter='best'),\n",
      "          learning_rate=1.0, n_estimators=1000, random_state=1)\n",
      "Unoptimized model\n",
      "------\n",
      "AdaBoostClassifier trained.\n",
      "{'train_time': 43.68955445289612, 'acc_train': 0.57333333333333336, 'acc_test': 0.52880184331797231, 'f_train': 0.57333333333333336, 'f_test': 0.52880184331797231}\n",
      "\n",
      "Optimized Model\n",
      "------\n",
      "AdaBoostClassifier trained.\n",
      "{'train_time': 42.29925179481506, 'acc_train': 0.53666666666666663, 'acc_test': 0.5429147465437788, 'f_train': 0.53666666666666663, 'f_test': 0.5429147465437788}\n"
     ]
    }
   ],
   "source": [
    "## Unoptimized Model\n",
    "clf = AdaBoostClassifier(base_estimator=tree.DecisionTreeClassifier(max_depth=1),\n",
    "                         algorithm=\"SAMME.R\",\n",
    "                         n_estimators=1000, random_state = 1)\n",
    "\n",
    "# Get the estimator\n",
    "best_clf = grid_fit.best_estimator_\n",
    "print (best_clf)\n",
    "\n",
    "# Make predictions using the unoptimized and model\n",
    "print (\"Unoptimized model\\n------\")\n",
    "results = train_predict(clf, X_train_b, y_train_b, X_test_b, y_test_b)\n",
    "print(results)\n",
    "print (\"\\nOptimized Model\\n------\")\n",
    "results = train_predict(best_clf, X_train_b, y_train_b, X_test_b, y_test_b)\n",
    "print(results)\n"
   ]
  },
  {
   "cell_type": "markdown",
   "metadata": {},
   "source": [
    "### Let's do some more tuning"
   ]
  },
  {
   "cell_type": "code",
   "execution_count": 72,
   "metadata": {
    "collapsed": true
   },
   "outputs": [],
   "source": [
    "## Unoptimized Model\n",
    "clf = AdaBoostClassifier(base_estimator=tree.DecisionTreeClassifier(max_depth=1),\n",
    "                         algorithm=\"SAMME.R\",\n",
    "                         n_estimators=1000, random_state = 1)"
   ]
  },
  {
   "cell_type": "code",
   "execution_count": 75,
   "metadata": {},
   "outputs": [
    {
     "name": "stderr",
     "output_type": "stream",
     "text": [
      "D:\\Users\\karel\\Anaconda3\\lib\\site-packages\\sklearn\\model_selection\\_search.py:761: DeprecationWarning: The grid_scores_ attribute was deprecated in version 0.18 in favor of the more elaborate cv_results_ attribute. The grid_scores_ attribute will not be available from 0.20\n",
      "  DeprecationWarning)\n"
     ]
    },
    {
     "data": {
      "text/plain": [
       "([mean: 0.50738, std: 0.00178, params: {'algorithm': 'SAMME.R'},\n",
       "  mean: 0.53028, std: 0.00686, params: {'algorithm': 'SAMME'}],\n",
       " {'algorithm': 'SAMME'},\n",
       " 0.53028200363378752)"
      ]
     },
     "execution_count": 75,
     "metadata": {},
     "output_type": "execute_result"
    }
   ],
   "source": [
    "\n",
    "param_test1 = {\n",
    "    'algorithm': ['SAMME.R','SAMME']\n",
    "}\n",
    "gsearch1 = GridSearchCV(estimator = clf, param_grid = param_test1, scoring='accuracy',n_jobs=4,iid=False)\n",
    "\n",
    "gsearch1.fit(X_train_b,y_train_b)\n",
    "gsearch1.grid_scores_, gsearch1.best_params_, gsearch1.best_score_\n",
    "\n"
   ]
  },
  {
   "cell_type": "code",
   "execution_count": 107,
   "metadata": {},
   "outputs": [
    {
     "name": "stderr",
     "output_type": "stream",
     "text": [
      "D:\\Users\\karel\\Anaconda3\\lib\\site-packages\\sklearn\\model_selection\\_search.py:761: DeprecationWarning: The grid_scores_ attribute was deprecated in version 0.18 in favor of the more elaborate cv_results_ attribute. The grid_scores_ attribute will not be available from 0.20\n",
      "  DeprecationWarning)\n"
     ]
    },
    {
     "data": {
      "text/plain": [
       "([mean: 0.53675, std: 0.00795, params: {'base_estimator': DecisionTreeClassifier(class_weight=None, criterion='gini', max_depth=1,\n",
       "            max_features=None, max_leaf_nodes=None,\n",
       "            min_impurity_decrease=0.0, min_impurity_split=None,\n",
       "            min_samples_leaf=1, min_samples_split=2,\n",
       "            min_weight_fraction_leaf=0.0, presort=False, random_state=None,\n",
       "            splitter='best')},\n",
       "  mean: 0.53532, std: 0.00331, params: {'base_estimator': DecisionTreeClassifier(class_weight=None, criterion='gini', max_depth=2,\n",
       "            max_features=None, max_leaf_nodes=None,\n",
       "            min_impurity_decrease=0.0, min_impurity_split=None,\n",
       "            min_samples_leaf=1, min_samples_split=2,\n",
       "            min_weight_fraction_leaf=0.0, presort=False, random_state=None,\n",
       "            splitter='best')},\n",
       "  mean: 0.52271, std: 0.00459, params: {'base_estimator': DecisionTreeClassifier(class_weight=None, criterion='gini', max_depth=3,\n",
       "            max_features=None, max_leaf_nodes=None,\n",
       "            min_impurity_decrease=0.0, min_impurity_split=None,\n",
       "            min_samples_leaf=1, min_samples_split=2,\n",
       "            min_weight_fraction_leaf=0.0, presort=False, random_state=None,\n",
       "            splitter='best')},\n",
       "  mean: 0.51074, std: 0.00389, params: {'base_estimator': DecisionTreeClassifier(class_weight=None, criterion='gini', max_depth=4,\n",
       "            max_features=None, max_leaf_nodes=None,\n",
       "            min_impurity_decrease=0.0, min_impurity_split=None,\n",
       "            min_samples_leaf=1, min_samples_split=2,\n",
       "            min_weight_fraction_leaf=0.0, presort=False, random_state=None,\n",
       "            splitter='best')}],\n",
       " {'base_estimator': DecisionTreeClassifier(class_weight=None, criterion='gini', max_depth=1,\n",
       "              max_features=None, max_leaf_nodes=None,\n",
       "              min_impurity_decrease=0.0, min_impurity_split=None,\n",
       "              min_samples_leaf=1, min_samples_split=2,\n",
       "              min_weight_fraction_leaf=0.0, presort=False, random_state=None,\n",
       "              splitter='best')},\n",
       " 0.53674602884959677)"
      ]
     },
     "execution_count": 107,
     "metadata": {},
     "output_type": "execute_result"
    }
   ],
   "source": [
    "clf_1 = AdaBoostClassifier(base_estimator=tree.DecisionTreeClassifier(max_depth=1),\n",
    "                         algorithm=\"SAMME\",\n",
    "                         n_estimators=1000, random_state = 1)\n",
    "param_test1 = {\n",
    "    'base_estimator': [tree.DecisionTreeClassifier(max_depth=x) for x in range(1,5)]\n",
    "}\n",
    "gsearch1 = GridSearchCV(estimator = clf_1, param_grid = param_test1, scoring='accuracy',n_jobs=4,iid=False)\n",
    "\n",
    "gsearch1.fit(X_train_b,y_train_b)\n",
    "gsearch1.grid_scores_, gsearch1.best_params_, gsearch1.best_score_\n",
    "\n"
   ]
  },
  {
   "cell_type": "code",
   "execution_count": 77,
   "metadata": {},
   "outputs": [
    {
     "name": "stderr",
     "output_type": "stream",
     "text": [
      "D:\\Users\\karel\\Anaconda3\\lib\\site-packages\\sklearn\\model_selection\\_search.py:761: DeprecationWarning: The grid_scores_ attribute was deprecated in version 0.18 in favor of the more elaborate cv_results_ attribute. The grid_scores_ attribute will not be available from 0.20\n",
      "  DeprecationWarning)\n"
     ]
    },
    {
     "data": {
      "text/plain": [
       "([mean: 0.51725, std: 0.00548, params: {'learning_rate': 0.001},\n",
       "  mean: 0.52783, std: 0.00544, params: {'learning_rate': 0.006},\n",
       "  mean: 0.52877, std: 0.00613, params: {'learning_rate': 0.011},\n",
       "  mean: 0.52999, std: 0.00619, params: {'learning_rate': 0.016},\n",
       "  mean: 0.53057, std: 0.00507, params: {'learning_rate': 0.021},\n",
       "  mean: 0.53194, std: 0.00570, params: {'learning_rate': 0.026},\n",
       "  mean: 0.53215, std: 0.00561, params: {'learning_rate': 0.031},\n",
       "  mean: 0.53223, std: 0.00492, params: {'learning_rate': 0.036},\n",
       "  mean: 0.53215, std: 0.00544, params: {'learning_rate': 0.041},\n",
       "  mean: 0.53165, std: 0.00593, params: {'learning_rate': 0.046}],\n",
       " {'learning_rate': 0.036},\n",
       " 0.53222561473232133)"
      ]
     },
     "execution_count": 77,
     "metadata": {},
     "output_type": "execute_result"
    }
   ],
   "source": [
    "\n",
    "param_test1 = {\n",
    "    'learning_rate': [i/1000.0 for i in range(1,50,5)]\n",
    "}\n",
    "gsearch1 = GridSearchCV(estimator = clf_1, param_grid = param_test1, scoring='accuracy',n_jobs=4,iid=False)\n",
    "\n",
    "gsearch1.fit(X_train_b,y_train_b)\n",
    "gsearch1.grid_scores_, gsearch1.best_params_, gsearch1.best_score_\n",
    "\n"
   ]
  },
  {
   "cell_type": "code",
   "execution_count": 78,
   "metadata": {},
   "outputs": [
    {
     "name": "stderr",
     "output_type": "stream",
     "text": [
      "D:\\Users\\karel\\Anaconda3\\lib\\site-packages\\sklearn\\model_selection\\_search.py:761: DeprecationWarning: The grid_scores_ attribute was deprecated in version 0.18 in favor of the more elaborate cv_results_ attribute. The grid_scores_ attribute will not be available from 0.20\n",
      "  DeprecationWarning)\n"
     ]
    },
    {
     "data": {
      "text/plain": [
       "([mean: 0.52308, std: 0.00639, params: {'n_estimators': 100},\n",
       "  mean: 0.52884, std: 0.00546, params: {'n_estimators': 200},\n",
       "  mean: 0.52877, std: 0.00599, params: {'n_estimators': 300},\n",
       "  mean: 0.52992, std: 0.00590, params: {'n_estimators': 400},\n",
       "  mean: 0.53028, std: 0.00578, params: {'n_estimators': 500},\n",
       "  mean: 0.53100, std: 0.00492, params: {'n_estimators': 600},\n",
       "  mean: 0.53136, std: 0.00561, params: {'n_estimators': 700},\n",
       "  mean: 0.53244, std: 0.00618, params: {'n_estimators': 800},\n",
       "  mean: 0.53223, std: 0.00538, params: {'n_estimators': 900},\n",
       "  mean: 0.53223, std: 0.00492, params: {'n_estimators': 1000},\n",
       "  mean: 0.53208, std: 0.00508, params: {'n_estimators': 1100},\n",
       "  mean: 0.53251, std: 0.00553, params: {'n_estimators': 1200},\n",
       "  mean: 0.53237, std: 0.00536, params: {'n_estimators': 1300},\n",
       "  mean: 0.53251, std: 0.00513, params: {'n_estimators': 1400}],\n",
       " {'n_estimators': 1200},\n",
       " 0.532513918445634)"
      ]
     },
     "execution_count": 78,
     "metadata": {},
     "output_type": "execute_result"
    }
   ],
   "source": [
    "clf_2 = AdaBoostClassifier(base_estimator=tree.DecisionTreeClassifier(max_depth=1),\n",
    "                         algorithm=\"SAMME\",\n",
    "                         n_estimators=1000, random_state = 1,learning_rate=0.036)\n",
    "param_test1 = {\n",
    "    'n_estimators': [i for i in range(100,1500,100)]\n",
    "}\n",
    "gsearch1 = GridSearchCV(estimator = clf_2, param_grid = param_test1, scoring='accuracy',n_jobs=4,iid=False)\n",
    "\n",
    "gsearch1.fit(X_train_b,y_train_b)\n",
    "gsearch1.grid_scores_, gsearch1.best_params_, gsearch1.best_score_\n",
    "\n"
   ]
  },
  {
   "cell_type": "code",
   "execution_count": 79,
   "metadata": {},
   "outputs": [
    {
     "name": "stderr",
     "output_type": "stream",
     "text": [
      "D:\\Users\\karel\\Anaconda3\\lib\\site-packages\\sklearn\\model_selection\\_search.py:761: DeprecationWarning: The grid_scores_ attribute was deprecated in version 0.18 in favor of the more elaborate cv_results_ attribute. The grid_scores_ attribute will not be available from 0.20\n",
      "  DeprecationWarning)\n"
     ]
    },
    {
     "data": {
      "text/plain": [
       "([mean: 0.53251, std: 0.00553, params: {'n_estimators': 1200},\n",
       "  mean: 0.53251, std: 0.00517, params: {'n_estimators': 1210},\n",
       "  mean: 0.53266, std: 0.00556, params: {'n_estimators': 1220},\n",
       "  mean: 0.53266, std: 0.00538, params: {'n_estimators': 1230},\n",
       "  mean: 0.53259, std: 0.00547, params: {'n_estimators': 1240},\n",
       "  mean: 0.53223, std: 0.00521, params: {'n_estimators': 1250},\n",
       "  mean: 0.53251, std: 0.00527, params: {'n_estimators': 1260},\n",
       "  mean: 0.53273, std: 0.00537, params: {'n_estimators': 1270},\n",
       "  mean: 0.53259, std: 0.00536, params: {'n_estimators': 1280},\n",
       "  mean: 0.53251, std: 0.00535, params: {'n_estimators': 1290}],\n",
       " {'n_estimators': 1270},\n",
       " 0.53272994784579752)"
      ]
     },
     "execution_count": 79,
     "metadata": {},
     "output_type": "execute_result"
    }
   ],
   "source": [
    "param_test1 = {\n",
    "    'n_estimators': [i for i in range(1200,1300,10)]\n",
    "}\n",
    "gsearch1 = GridSearchCV(estimator = clf_2, param_grid = param_test1, scoring='accuracy',n_jobs=4,iid=False)\n",
    "\n",
    "gsearch1.fit(X_train_b,y_train_b)\n",
    "gsearch1.grid_scores_, gsearch1.best_params_, gsearch1.best_score_\n",
    "\n"
   ]
  },
  {
   "cell_type": "code",
   "execution_count": 104,
   "metadata": {},
   "outputs": [
    {
     "name": "stdout",
     "output_type": "stream",
     "text": [
      "AdaBoostClassifier trained.\n"
     ]
    }
   ],
   "source": [
    "clf_3 = AdaBoostClassifier(base_estimator=tree.DecisionTreeClassifier(max_depth=1),\n",
    "                         algorithm=\"SAMME.R\",\n",
    "                         n_estimators=1270, random_state = 1,learning_rate=0.036)\n",
    "\n",
    "results = train_predict(clf_3, X_train_b, y_train_b, X_test_b, y_test_b)"
   ]
  },
  {
   "cell_type": "code",
   "execution_count": 105,
   "metadata": {},
   "outputs": [
    {
     "data": {
      "text/plain": [
       "{'acc_test': 0.55041217501585293,\n",
       " 'acc_train': 0.57333333333333336,\n",
       " 'f_test': 0.55041217501585293,\n",
       " 'f_train': 0.57333333333333336,\n",
       " 'train_time': 49.015647411346436}"
      ]
     },
     "execution_count": 105,
     "metadata": {},
     "output_type": "execute_result"
    }
   ],
   "source": [
    "results"
   ]
  },
  {
   "cell_type": "markdown",
   "metadata": {},
   "source": [
    "#### With this dataset and after tuning, we were able to reach an accuracy of 55.04%"
   ]
  },
  {
   "cell_type": "markdown",
   "metadata": {},
   "source": [
    "## Let's try now taking the latest season (15/16) as test data and the previous seasons as training data and rerun our models! \n",
    "\n",
    "### Our aim is to have a model that can predict the outcome of matches in the next season given information from previous seasons"
   ]
  },
  {
   "cell_type": "code",
   "execution_count": 3,
   "metadata": {
    "collapsed": true
   },
   "outputs": [],
   "source": [
    "final_dataset=pd.read_csv('FINAL_BASE_DATASET_TEAM_RATINGS_WITH_NO_ZEROS_ADDED_NO_BETS_AGE_BMI_ZEROS_NOT_REMOVED_WITH_SEASON.csv')"
   ]
  },
  {
   "cell_type": "code",
   "execution_count": 4,
   "metadata": {
    "collapsed": true
   },
   "outputs": [],
   "source": [
    "## Extract season 2015/2016 matches as test data\n",
    "this_season='2015/2016'\n",
    "test_data=final_dataset[final_dataset['season']==this_season]\n",
    "train_data=final_dataset.drop(test_data.index)\n",
    "\n",
    "X_train=train_data.drop(['season','Label'],axis=1)\n",
    "Y_train=train_data['Label']\n",
    "\n",
    "X_test=test_data.drop(['season','Label'],axis=1)\n",
    "Y_test=test_data['Label']\n"
   ]
  },
  {
   "cell_type": "code",
   "execution_count": 10,
   "metadata": {},
   "outputs": [
    {
     "data": {
      "text/plain": [
       "Counter({0: 4199, 1: 3758, 2: 6866})"
      ]
     },
     "metadata": {},
     "output_type": "display_data"
    },
    {
     "data": {
      "text/plain": [
       "Counter({0: 773, 1: 654, 2: 1109})"
      ]
     },
     "metadata": {},
     "output_type": "display_data"
    }
   ],
   "source": [
    "from collections import Counter\n",
    "display(Counter(Y_train))\n",
    "display(Counter(Y_test))"
   ]
  },
  {
   "cell_type": "code",
   "execution_count": 7,
   "metadata": {},
   "outputs": [
    {
     "name": "stdout",
     "output_type": "stream",
     "text": [
      "AdaBoostClassifier trained.\n"
     ]
    }
   ],
   "source": [
    "clf_3 = AdaBoostClassifier(base_estimator=tree.DecisionTreeClassifier(max_depth=1),\n",
    "                         algorithm=\"SAMME.R\",\n",
    "                         n_estimators=1270, random_state = 1,learning_rate=0.036)\n",
    "\n",
    "results = train_predict(clf_3, X_train, Y_train, X_test, Y_test)"
   ]
  },
  {
   "cell_type": "code",
   "execution_count": 8,
   "metadata": {},
   "outputs": [
    {
     "data": {
      "text/plain": [
       "{'acc_test': 0.48225552050473186,\n",
       " 'acc_train': 0.56999999999999995,\n",
       " 'f_test': 0.48225552050473186,\n",
       " 'f_train': 0.56999999999999995,\n",
       " 'train_time': 61.934396743774414}"
      ]
     },
     "execution_count": 8,
     "metadata": {},
     "output_type": "execute_result"
    }
   ],
   "source": [
    "results"
   ]
  },
  {
   "cell_type": "markdown",
   "metadata": {},
   "source": [
    "## Let's try tuning!"
   ]
  },
  {
   "cell_type": "code",
   "execution_count": 15,
   "metadata": {},
   "outputs": [
    {
     "name": "stderr",
     "output_type": "stream",
     "text": [
      "D:\\Users\\karel\\Anaconda3\\lib\\site-packages\\sklearn\\model_selection\\_search.py:761: DeprecationWarning: The grid_scores_ attribute was deprecated in version 0.18 in favor of the more elaborate cv_results_ attribute. The grid_scores_ attribute will not be available from 0.20\n",
      "  DeprecationWarning)\n"
     ]
    },
    {
     "data": {
      "text/plain": [
       "([mean: 0.52709, std: 0.00660, params: {'learning_rate': 0.0001},\n",
       "  mean: 0.52709, std: 0.00660, params: {'learning_rate': 0.0002},\n",
       "  mean: 0.52709, std: 0.00660, params: {'learning_rate': 0.0003},\n",
       "  mean: 0.52709, std: 0.00660, params: {'learning_rate': 0.0004},\n",
       "  mean: 0.52709, std: 0.00660, params: {'learning_rate': 0.0005},\n",
       "  mean: 0.52709, std: 0.00660, params: {'learning_rate': 0.0006},\n",
       "  mean: 0.52709, std: 0.00660, params: {'learning_rate': 0.0007},\n",
       "  mean: 0.52709, std: 0.00660, params: {'learning_rate': 0.0008},\n",
       "  mean: 0.52709, std: 0.00660, params: {'learning_rate': 0.0009},\n",
       "  mean: 0.52830, std: 0.00807, params: {'learning_rate': 0.001}],\n",
       " {'learning_rate': 0.001},\n",
       " 0.52830265103683527)"
      ]
     },
     "execution_count": 15,
     "metadata": {},
     "output_type": "execute_result"
    }
   ],
   "source": [
    "from sklearn.model_selection import GridSearchCV\n",
    "\n",
    "param_test1 = {\n",
    "    'learning_rate': [i/10000.0 for i in range(1,11)]\n",
    "}\n",
    "gsearch1 = GridSearchCV(estimator = clf_3, param_grid = param_test1, scoring='accuracy',n_jobs=4,iid=False)\n",
    "\n",
    "gsearch1.fit(X_train,Y_train)\n",
    "gsearch1.grid_scores_, gsearch1.best_params_, gsearch1.best_score_\n",
    "\n"
   ]
  },
  {
   "cell_type": "code",
   "execution_count": 17,
   "metadata": {},
   "outputs": [
    {
     "name": "stderr",
     "output_type": "stream",
     "text": [
      "D:\\Users\\karel\\Anaconda3\\lib\\site-packages\\sklearn\\model_selection\\_search.py:761: DeprecationWarning: The grid_scores_ attribute was deprecated in version 0.18 in favor of the more elaborate cv_results_ attribute. The grid_scores_ attribute will not be available from 0.20\n",
      "  DeprecationWarning)\n"
     ]
    },
    {
     "data": {
      "text/plain": [
       "([mean: 0.52999, std: 0.00869, params: {'n_estimators': 1400},\n",
       "  mean: 0.53329, std: 0.01098, params: {'n_estimators': 1500},\n",
       "  mean: 0.53383, std: 0.00840, params: {'n_estimators': 1600},\n",
       "  mean: 0.53147, std: 0.00666, params: {'n_estimators': 1700},\n",
       "  mean: 0.51798, std: 0.01917, params: {'n_estimators': 1800},\n",
       "  mean: 0.50375, std: 0.03970, params: {'n_estimators': 1900}],\n",
       " {'n_estimators': 1600},\n",
       " 0.53383347526454328)"
      ]
     },
     "execution_count": 17,
     "metadata": {},
     "output_type": "execute_result"
    }
   ],
   "source": [
    "clf_2 = AdaBoostClassifier(base_estimator=tree.DecisionTreeClassifier(max_depth=1),\n",
    "                         algorithm=\"SAMME.R\",\n",
    "                         n_estimators=1000, random_state = 1,learning_rate=0.001)\n",
    "param_test1 = {\n",
    "    'n_estimators': [i for i in range(1400,2000,100)]\n",
    "}\n",
    "gsearch1 = GridSearchCV(estimator = clf_2, param_grid = param_test1, scoring='accuracy',n_jobs=4,iid=False)\n",
    "\n",
    "gsearch1.fit(X_train,Y_train)\n",
    "gsearch1.grid_scores_, gsearch1.best_params_, gsearch1.best_score_\n",
    "\n"
   ]
  },
  {
   "cell_type": "code",
   "execution_count": 18,
   "metadata": {},
   "outputs": [
    {
     "name": "stderr",
     "output_type": "stream",
     "text": [
      "D:\\Users\\karel\\Anaconda3\\lib\\site-packages\\sklearn\\model_selection\\_search.py:761: DeprecationWarning: The grid_scores_ attribute was deprecated in version 0.18 in favor of the more elaborate cv_results_ attribute. The grid_scores_ attribute will not be available from 0.20\n",
      "  DeprecationWarning)\n"
     ]
    },
    {
     "data": {
      "text/plain": [
       "([mean: 0.53383, std: 0.00840, params: {'n_estimators': 1600},\n",
       "  mean: 0.53417, std: 0.00870, params: {'n_estimators': 1610},\n",
       "  mean: 0.53417, std: 0.00870, params: {'n_estimators': 1620},\n",
       "  mean: 0.53431, std: 0.00882, params: {'n_estimators': 1630},\n",
       "  mean: 0.53289, std: 0.00766, params: {'n_estimators': 1640},\n",
       "  mean: 0.53289, std: 0.00766, params: {'n_estimators': 1650},\n",
       "  mean: 0.53289, std: 0.00766, params: {'n_estimators': 1660},\n",
       "  mean: 0.53201, std: 0.00713, params: {'n_estimators': 1670},\n",
       "  mean: 0.53208, std: 0.00704, params: {'n_estimators': 1680},\n",
       "  mean: 0.53201, std: 0.00700, params: {'n_estimators': 1690}],\n",
       " {'n_estimators': 1630},\n",
       " 0.53430561879617688)"
      ]
     },
     "execution_count": 18,
     "metadata": {},
     "output_type": "execute_result"
    }
   ],
   "source": [
    "param_test1 = {\n",
    "    'n_estimators': [i for i in range(1600,1700,10)]\n",
    "}\n",
    "gsearch1 = GridSearchCV(estimator = clf_2, param_grid = param_test1, scoring='accuracy',n_jobs=4,iid=False)\n",
    "\n",
    "gsearch1.fit(X_train,Y_train)\n",
    "gsearch1.grid_scores_, gsearch1.best_params_, gsearch1.best_score_\n",
    "\n"
   ]
  },
  {
   "cell_type": "code",
   "execution_count": 27,
   "metadata": {},
   "outputs": [
    {
     "name": "stdout",
     "output_type": "stream",
     "text": [
      "AdaBoostClassifier trained.\n"
     ]
    }
   ],
   "source": [
    "clf_3 = AdaBoostClassifier(base_estimator=tree.DecisionTreeClassifier(max_depth=1),\n",
    "                         algorithm=\"SAMME.R\",\n",
    "                         n_estimators=1630, random_state = 1,learning_rate=0.001)\n",
    "\n",
    "results = train_predict(clf_3, X_train, Y_train, X_test, Y_test)"
   ]
  },
  {
   "cell_type": "code",
   "execution_count": 28,
   "metadata": {},
   "outputs": [
    {
     "data": {
      "text/plain": [
       "{'acc_test': 0.45820189274447948,\n",
       " 'acc_train': 0.53000000000000003,\n",
       " 'f_test': 0.45820189274447948,\n",
       " 'f_train': 0.53000000000000003,\n",
       " 'train_time': 74.11061453819275}"
      ]
     },
     "execution_count": 28,
     "metadata": {},
     "output_type": "execute_result"
    }
   ],
   "source": [
    "results"
   ]
  },
  {
   "cell_type": "markdown",
   "metadata": {},
   "source": [
    "### Let's try removing some seasons from the training set, to check how far in the past should we go to predict the future"
   ]
  },
  {
   "cell_type": "code",
   "execution_count": 2,
   "metadata": {
    "collapsed": true
   },
   "outputs": [],
   "source": [
    "import pandas as pd\n",
    "final_dataset=pd.read_csv('FINAL_BASE_DATASET_TEAM_RATINGS_WITH_NO_ZEROS_ADDED_NO_BETS_AGE_BMI_ZEROS_NOT_REMOVED_WITH_SEASON.csv')"
   ]
  },
  {
   "cell_type": "code",
   "execution_count": 3,
   "metadata": {
    "collapsed": true
   },
   "outputs": [],
   "source": [
    "## Extract season 2015/2016 matches as test data\n",
    "this_season='2015/2016'\n",
    "test_data=final_dataset[final_dataset['season']==this_season]\n",
    "train_data=final_dataset.drop(test_data.index)"
   ]
  },
  {
   "cell_type": "code",
   "execution_count": 31,
   "metadata": {},
   "outputs": [
    {
     "data": {
      "text/plain": [
       "Counter({'2008/2009': 1407,\n",
       "         '2009/2010': 1885,\n",
       "         '2010/2011': 1986,\n",
       "         '2011/2012': 2242,\n",
       "         '2012/2013': 2378,\n",
       "         '2013/2014': 2297,\n",
       "         '2014/2015': 2628})"
      ]
     },
     "metadata": {},
     "output_type": "display_data"
    },
    {
     "data": {
      "text/plain": [
       "Counter({'2015/2016': 2536})"
      ]
     },
     "metadata": {},
     "output_type": "display_data"
    }
   ],
   "source": [
    "from collections import Counter\n",
    "display(Counter(train_data['season']))\n",
    "display(Counter(test_data['season']))"
   ]
  },
  {
   "cell_type": "markdown",
   "metadata": {},
   "source": [
    "#### Let's start by using the two most recent seasons in the training set (2014/2015 and 2013/2014) and then start adding previous seasons and test it's effect on prediction"
   ]
  },
  {
   "cell_type": "code",
   "execution_count": 22,
   "metadata": {
    "collapsed": true
   },
   "outputs": [],
   "source": [
    "\n",
    "def train_test_dynamically_adding_seasons(clf,train_data,test_data, seasons_to_use):\n",
    "    train_data=train_data[train_data['season'].isin(seasons_to_use)]\n",
    "    display('Size of training dataset: ', train_data.shape[0])\n",
    "    X_train=train_data.drop(['season','Label'],axis=1)\n",
    "    Y_train=train_data['Label']\n",
    "\n",
    "    X_test=test_data.drop(['season','Label'],axis=1)\n",
    "    Y_test=test_data['Label']\n",
    "\n",
    "    result= train_predict(clf, X_train, Y_train, X_test, Y_test)\n",
    "    return result"
   ]
  },
  {
   "cell_type": "code",
   "execution_count": 33,
   "metadata": {},
   "outputs": [
    {
     "name": "stdout",
     "output_type": "stream",
     "text": [
      "Using seasons:  ['2014/2015']\n"
     ]
    },
    {
     "data": {
      "text/plain": [
       "'Size of training dataset: '"
      ]
     },
     "metadata": {},
     "output_type": "display_data"
    },
    {
     "data": {
      "text/plain": [
       "2628"
      ]
     },
     "metadata": {},
     "output_type": "display_data"
    },
    {
     "name": "stdout",
     "output_type": "stream",
     "text": [
      "AdaBoostClassifier trained.\n",
      "{'train_time': 11.435453414916992, 'acc_train': 0.54666666666666663, 'acc_test': 0.48422712933753942, 'f_train': 0.54666666666666663, 'f_test': 0.48422712933753942}\n",
      "........................................\n",
      "Using seasons:  ['2014/2015', '2013/2014']\n"
     ]
    },
    {
     "data": {
      "text/plain": [
       "'Size of training dataset: '"
      ]
     },
     "metadata": {},
     "output_type": "display_data"
    },
    {
     "data": {
      "text/plain": [
       "4925"
      ]
     },
     "metadata": {},
     "output_type": "display_data"
    },
    {
     "name": "stdout",
     "output_type": "stream",
     "text": [
      "AdaBoostClassifier trained.\n",
      "{'train_time': 19.73150086402893, 'acc_train': 0.55000000000000004, 'acc_test': 0.48067823343848581, 'f_train': 0.55000000000000004, 'f_test': 0.48067823343848581}\n",
      "........................................\n",
      "Using seasons:  ['2014/2015', '2013/2014', '2012/2013']\n"
     ]
    },
    {
     "data": {
      "text/plain": [
       "'Size of training dataset: '"
      ]
     },
     "metadata": {},
     "output_type": "display_data"
    },
    {
     "data": {
      "text/plain": [
       "7303"
      ]
     },
     "metadata": {},
     "output_type": "display_data"
    },
    {
     "name": "stdout",
     "output_type": "stream",
     "text": [
      "AdaBoostClassifier trained.\n",
      "{'train_time': 28.33153486251831, 'acc_train': 0.54000000000000004, 'acc_test': 0.49211356466876971, 'f_train': 0.54000000000000004, 'f_test': 0.49211356466876971}\n",
      "........................................\n",
      "Using seasons:  ['2014/2015', '2013/2014', '2012/2013', '2011/2012']\n"
     ]
    },
    {
     "data": {
      "text/plain": [
       "'Size of training dataset: '"
      ]
     },
     "metadata": {},
     "output_type": "display_data"
    },
    {
     "data": {
      "text/plain": [
       "9545"
      ]
     },
     "metadata": {},
     "output_type": "display_data"
    },
    {
     "name": "stdout",
     "output_type": "stream",
     "text": [
      "AdaBoostClassifier trained.\n",
      "{'train_time': 37.56055784225464, 'acc_train': 0.54000000000000004, 'acc_test': 0.48817034700315459, 'f_train': 0.54000000000000004, 'f_test': 0.48817034700315459}\n",
      "........................................\n",
      "Using seasons:  ['2014/2015', '2013/2014', '2012/2013', '2011/2012', '2010/2011']\n"
     ]
    },
    {
     "data": {
      "text/plain": [
       "'Size of training dataset: '"
      ]
     },
     "metadata": {},
     "output_type": "display_data"
    },
    {
     "data": {
      "text/plain": [
       "11531"
      ]
     },
     "metadata": {},
     "output_type": "display_data"
    },
    {
     "name": "stdout",
     "output_type": "stream",
     "text": [
      "AdaBoostClassifier trained.\n",
      "{'train_time': 62.56251811981201, 'acc_train': 0.56333333333333335, 'acc_test': 0.48541009463722395, 'f_train': 0.56333333333333335, 'f_test': 0.48541009463722395}\n",
      "........................................\n",
      "Using seasons:  ['2014/2015', '2013/2014', '2012/2013', '2011/2012', '2010/2011', '2009/2010']\n"
     ]
    },
    {
     "data": {
      "text/plain": [
       "'Size of training dataset: '"
      ]
     },
     "metadata": {},
     "output_type": "display_data"
    },
    {
     "data": {
      "text/plain": [
       "13416"
      ]
     },
     "metadata": {},
     "output_type": "display_data"
    },
    {
     "name": "stdout",
     "output_type": "stream",
     "text": [
      "AdaBoostClassifier trained.\n",
      "{'train_time': 99.8656644821167, 'acc_train': 0.55666666666666664, 'acc_test': 0.48817034700315459, 'f_train': 0.55666666666666664, 'f_test': 0.48817034700315459}\n",
      "........................................\n",
      "Using seasons:  ['2014/2015', '2013/2014', '2012/2013', '2011/2012', '2010/2011', '2009/2010', '2008/2009']\n"
     ]
    },
    {
     "data": {
      "text/plain": [
       "'Size of training dataset: '"
      ]
     },
     "metadata": {},
     "output_type": "display_data"
    },
    {
     "data": {
      "text/plain": [
       "14823"
      ]
     },
     "metadata": {},
     "output_type": "display_data"
    },
    {
     "name": "stdout",
     "output_type": "stream",
     "text": [
      "AdaBoostClassifier trained.\n",
      "{'train_time': 86.61463403701782, 'acc_train': 0.56999999999999995, 'acc_test': 0.48225552050473186, 'f_train': 0.56999999999999995, 'f_test': 0.48225552050473186}\n",
      "........................................\n"
     ]
    }
   ],
   "source": [
    "from sklearn.pipeline import Pipeline\n",
    "from sklearn.preprocessing import MinMaxScaler\n",
    "from sklearn.neural_network import MLPClassifier\n",
    "\n",
    "clf_3 = AdaBoostClassifier(base_estimator=tree.DecisionTreeClassifier(max_depth=1),\n",
    "                         algorithm=\"SAMME.R\",\n",
    "                         n_estimators=1270, random_state = 1,learning_rate=0.036)\n",
    "seasons_to_use=[]\n",
    "seasons_used=[]\n",
    "results_saved=[]\n",
    "count=0\n",
    "for season in np.flip(np.sort(train_data['season'].unique()),axis=0):\n",
    "    seasons_to_use.append(season)\n",
    "    print('Using seasons: ', seasons_to_use)\n",
    "    result=train_test_dynamically_adding_seasons(clf_3,train_data,test_data,seasons_to_use)\n",
    "    results_saved.append(result)\n",
    "    print(result)\n",
    "    print('........................................')\n",
    "    #seasons_used[count].append[seasons_to_use]\n",
    "    count=count+1"
   ]
  },
  {
   "cell_type": "code",
   "execution_count": 36,
   "metadata": {},
   "outputs": [
    {
     "data": {
      "image/png": "[encoded data removed]",
      "text/plain": [
       "<matplotlib.figure.Figure at 0x1f8fbb6a4e0>"
      ]
     },
     "metadata": {},
     "output_type": "display_data"
    }
   ],
   "source": [
    "## plot the accuracy for the different scenarios above\n",
    "import matplotlib.pyplot as plt\n",
    "\n",
    "objects = ('2014-2015', '2013-2015', '2012-2015', '2011-2015', '2010-2015', '2009-2015','2008-2015')\n",
    "y_pos = np.arange(len(objects))\n",
    "r=[]\n",
    "for i in range(len(results_saved)):\n",
    "    r.append(results_saved[i]['acc_test']*100)\n",
    "#display(r)\n",
    "plt.barh(y_pos, r, align='center')\n",
    "plt.yticks(y_pos, objects)\n",
    "plt.xlabel('Accuracy')\n",
    "plt.title('Model Accuracy on Test Data (2015/2016) using different seasons as training')\n",
    "plt.xlim((0,60))\n",
    "\n",
    "for i, v in enumerate(r):\n",
    "    plt.text(v + 3, i, str('%.2f' %v), color='blue', fontweight='bold')\n",
    "\n",
    "plt.show()"
   ]
  },
  {
   "cell_type": "markdown",
   "metadata": {},
   "source": [
    "#### Let's try tuning the model on the training dataset that includes seasons 2012-2015"
   ]
  },
  {
   "cell_type": "code",
   "execution_count": 4,
   "metadata": {},
   "outputs": [
    {
     "data": {
      "text/plain": [
       "'Size of training dataset: '"
      ]
     },
     "metadata": {},
     "output_type": "display_data"
    },
    {
     "data": {
      "text/plain": [
       "7303"
      ]
     },
     "metadata": {},
     "output_type": "display_data"
    }
   ],
   "source": [
    "seasons_to_use=['2014/2015', '2013/2014', '2012/2013']\n",
    "train_data=train_data[train_data['season'].isin(seasons_to_use)]\n",
    "display('Size of training dataset: ', train_data.shape[0])\n",
    "X_train=train_data.drop(['season','Label'],axis=1)\n",
    "Y_train=train_data['Label']\n",
    "\n",
    "X_test=test_data.drop(['season','Label'],axis=1)\n",
    "Y_test=test_data['Label']"
   ]
  },
  {
   "cell_type": "code",
   "execution_count": 43,
   "metadata": {},
   "outputs": [
    {
     "name": "stderr",
     "output_type": "stream",
     "text": [
      "D:\\Users\\karel\\Anaconda3\\lib\\site-packages\\sklearn\\model_selection\\_search.py:761: DeprecationWarning: The grid_scores_ attribute was deprecated in version 0.18 in favor of the more elaborate cv_results_ attribute. The grid_scores_ attribute will not be available from 0.20\n",
      "  DeprecationWarning)\n"
     ]
    },
    {
     "data": {
      "text/plain": [
       "([mean: 0.52650, std: 0.00673, params: {'learning_rate': 0.0044},\n",
       "  mean: 0.52704, std: 0.00654, params: {'learning_rate': 0.0045},\n",
       "  mean: 0.52691, std: 0.00540, params: {'learning_rate': 0.0046},\n",
       "  mean: 0.52581, std: 0.00537, params: {'learning_rate': 0.0047},\n",
       "  mean: 0.51390, std: 0.01327, params: {'learning_rate': 0.0048},\n",
       "  mean: 0.51404, std: 0.01389, params: {'learning_rate': 0.0049}],\n",
       " {'learning_rate': 0.0045},\n",
       " 0.52704364722685704)"
      ]
     },
     "execution_count": 43,
     "metadata": {},
     "output_type": "execute_result"
    }
   ],
   "source": [
    "from sklearn.model_selection import GridSearchCV\n",
    "\n",
    "param_test1 = {\n",
    "    'learning_rate': [i/10000.0 for i in range(44,50,1)]\n",
    "}\n",
    "gsearch1 = GridSearchCV(estimator = clf_3, param_grid = param_test1, scoring='accuracy',n_jobs=4,iid=False)\n",
    "\n",
    "gsearch1.fit(X_train,Y_train)\n",
    "gsearch1.grid_scores_, gsearch1.best_params_, gsearch1.best_score_\n",
    "\n"
   ]
  },
  {
   "cell_type": "code",
   "execution_count": 47,
   "metadata": {},
   "outputs": [
    {
     "name": "stderr",
     "output_type": "stream",
     "text": [
      "D:\\Users\\karel\\Anaconda3\\lib\\site-packages\\sklearn\\model_selection\\_search.py:761: DeprecationWarning: The grid_scores_ attribute was deprecated in version 0.18 in favor of the more elaborate cv_results_ attribute. The grid_scores_ attribute will not be available from 0.20\n",
      "  DeprecationWarning)\n"
     ]
    },
    {
     "data": {
      "text/plain": [
       "([mean: 0.52636, std: 0.00520, params: {'n_estimators': 1300},\n",
       "  mean: 0.52650, std: 0.00540, params: {'n_estimators': 1310},\n",
       "  mean: 0.52718, std: 0.00553, params: {'n_estimators': 1320},\n",
       "  mean: 0.52691, std: 0.00573, params: {'n_estimators': 1330},\n",
       "  mean: 0.51856, std: 0.00878, params: {'n_estimators': 1340},\n",
       "  mean: 0.51828, std: 0.00914, params: {'n_estimators': 1350},\n",
       "  mean: 0.51774, std: 0.00886, params: {'n_estimators': 1360},\n",
       "  mean: 0.51746, std: 0.00923, params: {'n_estimators': 1370},\n",
       "  mean: 0.51787, std: 0.00868, params: {'n_estimators': 1380},\n",
       "  mean: 0.51842, std: 0.00850, params: {'n_estimators': 1390}],\n",
       " {'n_estimators': 1320},\n",
       " 0.52718065229604461)"
      ]
     },
     "execution_count": 47,
     "metadata": {},
     "output_type": "execute_result"
    }
   ],
   "source": [
    "clf_2 = AdaBoostClassifier(base_estimator=tree.DecisionTreeClassifier(max_depth=1),\n",
    "                         algorithm=\"SAMME.R\",\n",
    "                         n_estimators=1000, random_state = 1,learning_rate=0.0045)\n",
    "param_test1 = {\n",
    "    'n_estimators': [i for i in range(1300,1400,10)]\n",
    "}\n",
    "gsearch1 = GridSearchCV(estimator = clf_2, param_grid = param_test1, scoring='accuracy',n_jobs=4,iid=False)\n",
    "\n",
    "gsearch1.fit(X_train,Y_train)\n",
    "gsearch1.grid_scores_, gsearch1.best_params_, gsearch1.best_score_\n",
    "\n"
   ]
  },
  {
   "cell_type": "code",
   "execution_count": 48,
   "metadata": {},
   "outputs": [
    {
     "name": "stdout",
     "output_type": "stream",
     "text": [
      "AdaBoostClassifier trained.\n"
     ]
    }
   ],
   "source": [
    "clf_3 = AdaBoostClassifier(base_estimator=tree.DecisionTreeClassifier(max_depth=1),\n",
    "                         algorithm=\"SAMME.R\",\n",
    "                         n_estimators=1320, random_state = 1,learning_rate=0.0045)\n",
    "\n",
    "results = train_predict(clf_3, X_train, Y_train, X_test, Y_test)"
   ]
  },
  {
   "cell_type": "code",
   "execution_count": 49,
   "metadata": {},
   "outputs": [
    {
     "data": {
      "text/plain": [
       "{'acc_test': 0.48462145110410093,\n",
       " 'acc_train': 0.50666666666666671,\n",
       " 'f_test': 0.48462145110410093,\n",
       " 'f_train': 0.50666666666666671,\n",
       " 'train_time': 28.88394808769226}"
      ]
     },
     "execution_count": 49,
     "metadata": {},
     "output_type": "execute_result"
    }
   ],
   "source": [
    "results"
   ]
  },
  {
   "cell_type": "markdown",
   "metadata": {},
   "source": [
    "### Let's add a scaler and see if it improves the accuracy"
   ]
  },
  {
   "cell_type": "code",
   "execution_count": 13,
   "metadata": {},
   "outputs": [
    {
     "name": "stdout",
     "output_type": "stream",
     "text": [
      "Pipeline trained.\n"
     ]
    }
   ],
   "source": [
    "from sklearn.pipeline import Pipeline\n",
    "from sklearn.preprocessing import MinMaxScaler\n",
    "from sklearn.preprocessing import StandardScaler\n",
    "\n",
    "pipeline6 = Pipeline([\n",
    "        ('min/max scaler', StandardScaler()),\n",
    "        ('model',  AdaBoostClassifier(base_estimator=tree.DecisionTreeClassifier(max_depth=1),\n",
    "                         algorithm=\"SAMME.R\",\n",
    "                         n_estimators=1320, random_state = 1,learning_rate=0.0045))])\n",
    "    \n",
    "result= train_predict(pipeline6, X_train, Y_train, X_test, Y_test)"
   ]
  },
  {
   "cell_type": "code",
   "execution_count": 14,
   "metadata": {},
   "outputs": [
    {
     "data": {
      "text/plain": [
       "{'acc_test': 0.48462145110410093,\n",
       " 'acc_train': 0.50666666666666671,\n",
       " 'f_test': 0.48462145110410093,\n",
       " 'f_train': 0.50666666666666671,\n",
       " 'train_time': 30.50456142425537}"
      ]
     },
     "execution_count": 14,
     "metadata": {},
     "output_type": "execute_result"
    }
   ],
   "source": [
    "result"
   ]
  },
  {
   "cell_type": "markdown",
   "metadata": {},
   "source": [
    "### Let's add PCA"
   ]
  },
  {
   "cell_type": "code",
   "execution_count": 17,
   "metadata": {},
   "outputs": [
    {
     "name": "stdout",
     "output_type": "stream",
     "text": [
      "Pipeline trained.\n"
     ]
    }
   ],
   "source": [
    "from sklearn.decomposition import PCA\n",
    "\n",
    "pipeline_PCA = Pipeline([\n",
    "        ('min/max scaler', MinMaxScaler(feature_range=(0.0, 1.0))),\n",
    "        ('pca', PCA()),\n",
    "        ('model',  AdaBoostClassifier(base_estimator=tree.DecisionTreeClassifier(max_depth=1),\n",
    "                         algorithm=\"SAMME.R\",\n",
    "                         n_estimators=1320, random_state = 1,learning_rate=0.0045))])\n",
    "\n",
    "\n",
    "\n",
    "result= train_predict(pipeline_PCA, X_train, Y_train, X_test, Y_test)"
   ]
  },
  {
   "cell_type": "code",
   "execution_count": 18,
   "metadata": {},
   "outputs": [
    {
     "data": {
      "text/plain": [
       "{'acc_test': 0.47910094637223977,\n",
       " 'acc_train': 0.52333333333333332,\n",
       " 'f_test': 0.47910094637223977,\n",
       " 'f_train': 0.52333333333333332,\n",
       " 'train_time': 67.7461998462677}"
      ]
     },
     "execution_count": 18,
     "metadata": {},
     "output_type": "execute_result"
    }
   ],
   "source": [
    "result"
   ]
  },
  {
   "cell_type": "code",
   "execution_count": 22,
   "metadata": {},
   "outputs": [
    {
     "name": "stderr",
     "output_type": "stream",
     "text": [
      "D:\\Users\\karel\\Anaconda3\\lib\\site-packages\\sklearn\\model_selection\\_search.py:761: DeprecationWarning: The grid_scores_ attribute was deprecated in version 0.18 in favor of the more elaborate cv_results_ attribute. The grid_scores_ attribute will not be available from 0.20\n",
      "  DeprecationWarning)\n"
     ]
    },
    {
     "data": {
      "text/plain": [
       "([mean: 0.52992, std: 0.00700, params: {'model__learning_rate': 0.009},\n",
       "  mean: 0.52979, std: 0.00790, params: {'model__learning_rate': 0.01},\n",
       "  mean: 0.52937, std: 0.00757, params: {'model__learning_rate': 0.011},\n",
       "  mean: 0.52855, std: 0.00875, params: {'model__learning_rate': 0.012},\n",
       "  mean: 0.52787, std: 0.00902, params: {'model__learning_rate': 0.013},\n",
       "  mean: 0.52814, std: 0.01001, params: {'model__learning_rate': 0.014},\n",
       "  mean: 0.52691, std: 0.01044, params: {'model__learning_rate': 0.015},\n",
       "  mean: 0.52732, std: 0.01057, params: {'model__learning_rate': 0.016},\n",
       "  mean: 0.52691, std: 0.00992, params: {'model__learning_rate': 0.017},\n",
       "  mean: 0.52691, std: 0.00936, params: {'model__learning_rate': 0.018},\n",
       "  mean: 0.52691, std: 0.00991, params: {'model__learning_rate': 0.019}],\n",
       " {'model__learning_rate': 0.009},\n",
       " 0.52992176644827438)"
      ]
     },
     "execution_count": 22,
     "metadata": {},
     "output_type": "execute_result"
    }
   ],
   "source": [
    "from sklearn.model_selection import GridSearchCV\n",
    "\n",
    "param_test1 = {\n",
    "    'model__learning_rate': [i/10000.0 for i in range(90,200,10)]\n",
    "}\n",
    "gsearch1 = GridSearchCV(estimator = pipeline_PCA, param_grid = param_test1, scoring='accuracy',n_jobs=4,iid=False)\n",
    "\n",
    "gsearch1.fit(X_train,Y_train)\n",
    "gsearch1.grid_scores_, gsearch1.best_params_, gsearch1.best_score_\n",
    "\n"
   ]
  },
  {
   "cell_type": "code",
   "execution_count": 24,
   "metadata": {},
   "outputs": [
    {
     "name": "stderr",
     "output_type": "stream",
     "text": [
      "D:\\Users\\karel\\Anaconda3\\lib\\site-packages\\sklearn\\model_selection\\_search.py:761: DeprecationWarning: The grid_scores_ attribute was deprecated in version 0.18 in favor of the more elaborate cv_results_ attribute. The grid_scores_ attribute will not be available from 0.20\n",
      "  DeprecationWarning)\n"
     ]
    },
    {
     "data": {
      "text/plain": [
       "([mean: 0.52965, std: 0.00743, params: {'model__n_estimators': 1300},\n",
       "  mean: 0.52978, std: 0.00715, params: {'model__n_estimators': 1310},\n",
       "  mean: 0.52992, std: 0.00700, params: {'model__n_estimators': 1320},\n",
       "  mean: 0.52992, std: 0.00733, params: {'model__n_estimators': 1330},\n",
       "  mean: 0.52965, std: 0.00741, params: {'model__n_estimators': 1340},\n",
       "  mean: 0.53006, std: 0.00732, params: {'model__n_estimators': 1350},\n",
       "  mean: 0.53006, std: 0.00724, params: {'model__n_estimators': 1360},\n",
       "  mean: 0.53006, std: 0.00724, params: {'model__n_estimators': 1370},\n",
       "  mean: 0.53033, std: 0.00730, params: {'model__n_estimators': 1380},\n",
       "  mean: 0.53020, std: 0.00680, params: {'model__n_estimators': 1390}],\n",
       " {'model__n_estimators': 1380},\n",
       " 0.53033278165583708)"
      ]
     },
     "execution_count": 24,
     "metadata": {},
     "output_type": "execute_result"
    }
   ],
   "source": [
    "pipeline_PCA = Pipeline([\n",
    "        ('min/max scaler', MinMaxScaler(feature_range=(0.0, 1.0))),\n",
    "        ('pca', PCA()),\n",
    "        ('model',  AdaBoostClassifier(base_estimator=tree.DecisionTreeClassifier(max_depth=1),\n",
    "                         algorithm=\"SAMME.R\",\n",
    "                         n_estimators=1320, random_state = 1,learning_rate=0.009))])\n",
    "\n",
    "param_test1 = {\n",
    "    'model__n_estimators': [i for i in range(1300,1400,10)]\n",
    "}\n",
    "gsearch1 = GridSearchCV(estimator = pipeline_PCA, param_grid = param_test1, scoring='accuracy',n_jobs=4,iid=False)\n",
    "\n",
    "gsearch1.fit(X_train,Y_train)\n",
    "gsearch1.grid_scores_, gsearch1.best_params_, gsearch1.best_score_\n",
    "\n"
   ]
  },
  {
   "cell_type": "code",
   "execution_count": 29,
   "metadata": {},
   "outputs": [
    {
     "name": "stdout",
     "output_type": "stream",
     "text": [
      "Pipeline trained.\n"
     ]
    }
   ],
   "source": [
    "pipeline_PCA = Pipeline([\n",
    "        ('min/max scaler', MinMaxScaler(feature_range=(0.0, 1.0))),\n",
    "        ('pca', PCA()),\n",
    "        ('model',  AdaBoostClassifier(base_estimator=tree.DecisionTreeClassifier(max_depth=1),\n",
    "                         algorithm=\"SAMME.R\",\n",
    "                         n_estimators=1380, random_state = 1,learning_rate=0.009))])\n",
    "\n",
    "results = train_predict(pipeline_PCA, X_train, Y_train, X_test, Y_test)"
   ]
  },
  {
   "cell_type": "code",
   "execution_count": 30,
   "metadata": {},
   "outputs": [
    {
     "data": {
      "text/plain": [
       "{'acc_test': 0.4834384858044164,\n",
       " 'acc_train': 0.53666666666666663,\n",
       " 'f_test': 0.4834384858044164,\n",
       " 'f_train': 0.53666666666666663,\n",
       " 'train_time': 62.3051016330719}"
      ]
     },
     "execution_count": 30,
     "metadata": {},
     "output_type": "execute_result"
    }
   ],
   "source": [
    "results"
   ]
  },
  {
   "cell_type": "markdown",
   "metadata": {},
   "source": [
    "### Let's try a DecisionTreeClassifier with depth 2"
   ]
  },
  {
   "cell_type": "code",
   "execution_count": 8,
   "metadata": {},
   "outputs": [
    {
     "name": "stdout",
     "output_type": "stream",
     "text": [
      "Pipeline trained.\n"
     ]
    }
   ],
   "source": [
    "from sklearn.pipeline import Pipeline\n",
    "from sklearn.preprocessing import MinMaxScaler\n",
    "from sklearn.preprocessing import StandardScaler\n",
    "\n",
    "pipeline = Pipeline([\n",
    "        ('min/max scaler', MinMaxScaler(feature_range=(0.0, 1.0))),\n",
    "        ('model',  AdaBoostClassifier(base_estimator=tree.DecisionTreeClassifier(max_depth=2),\n",
    "                         algorithm=\"SAMME.R\",\n",
    "                         n_estimators=1380, random_state = 1,learning_rate=0.009))])\n",
    "\n",
    "results = train_predict(pipeline, X_train, Y_train, X_test, Y_test)"
   ]
  },
  {
   "cell_type": "code",
   "execution_count": 9,
   "metadata": {},
   "outputs": [
    {
     "data": {
      "text/plain": [
       "{'acc_test': 0.49053627760252366,\n",
       " 'acc_train': 0.55333333333333334,\n",
       " 'f_test': 0.49053627760252366,\n",
       " 'f_train': 0.55333333333333334,\n",
       " 'train_time': 57.51421856880188}"
      ]
     },
     "execution_count": 9,
     "metadata": {},
     "output_type": "execute_result"
    }
   ],
   "source": [
    "results"
   ]
  },
  {
   "cell_type": "markdown",
   "metadata": {},
   "source": [
    "#### Let's tune"
   ]
  },
  {
   "cell_type": "code",
   "execution_count": 11,
   "metadata": {},
   "outputs": [
    {
     "name": "stderr",
     "output_type": "stream",
     "text": [
      "D:\\Users\\karel\\Anaconda3\\lib\\site-packages\\sklearn\\model_selection\\_search.py:761: DeprecationWarning: The grid_scores_ attribute was deprecated in version 0.18 in favor of the more elaborate cv_results_ attribute. The grid_scores_ attribute will not be available from 0.20\n",
      "  DeprecationWarning)\n"
     ]
    },
    {
     "data": {
      "text/plain": [
       "([mean: 0.52924, std: 0.00456, params: {'model__learning_rate': 0.0011},\n",
       "  mean: 0.53198, std: 0.00675, params: {'model__learning_rate': 0.0013},\n",
       "  mean: 0.53239, std: 0.00572, params: {'model__learning_rate': 0.0015},\n",
       "  mean: 0.53252, std: 0.00655, params: {'model__learning_rate': 0.0017},\n",
       "  mean: 0.53334, std: 0.00555, params: {'model__learning_rate': 0.0019},\n",
       "  mean: 0.51678, std: 0.02732, params: {'model__learning_rate': 0.0021},\n",
       "  mean: 0.50514, std: 0.04240, params: {'model__learning_rate': 0.0023},\n",
       "  mean: 0.48352, std: 0.07169, params: {'model__learning_rate': 0.0025},\n",
       "  mean: 0.46914, std: 0.09020, params: {'model__learning_rate': 0.0027},\n",
       "  mean: 0.46161, std: 0.09967, params: {'model__learning_rate': 0.0029}],\n",
       " {'model__learning_rate': 0.0019},\n",
       " 0.53334430499185137)"
      ]
     },
     "execution_count": 11,
     "metadata": {},
     "output_type": "execute_result"
    }
   ],
   "source": [
    "from sklearn.model_selection import GridSearchCV\n",
    "\n",
    "\n",
    "param_test1 = {\n",
    "    'model__learning_rate': [i/10000.0 for i in range(11,30,2)]\n",
    "}\n",
    "gsearch1 = GridSearchCV(estimator = pipeline, param_grid = param_test1, scoring='accuracy',n_jobs=4,iid=False)\n",
    "\n",
    "gsearch1.fit(X_train,Y_train)\n",
    "gsearch1.grid_scores_, gsearch1.best_params_, gsearch1.best_score_\n",
    "\n"
   ]
  },
  {
   "cell_type": "code",
   "execution_count": 13,
   "metadata": {},
   "outputs": [
    {
     "name": "stderr",
     "output_type": "stream",
     "text": [
      "D:\\Users\\karel\\Anaconda3\\lib\\site-packages\\sklearn\\model_selection\\_search.py:761: DeprecationWarning: The grid_scores_ attribute was deprecated in version 0.18 in favor of the more elaborate cv_results_ attribute. The grid_scores_ attribute will not be available from 0.20\n",
      "  DeprecationWarning)\n"
     ]
    },
    {
     "data": {
      "text/plain": [
       "([mean: 0.53389, std: 0.00555, params: {'model__n_estimators': 1400},\n",
       "  mean: 0.53033, std: 0.00730, params: {'model__n_estimators': 1410},\n",
       "  mean: 0.53047, std: 0.00700, params: {'model__n_estimators': 1420},\n",
       "  mean: 0.52212, std: 0.01773, params: {'model__n_estimators': 1430},\n",
       "  mean: 0.52226, std: 0.01722, params: {'model__n_estimators': 1440},\n",
       "  mean: 0.52335, std: 0.01695, params: {'model__n_estimators': 1450},\n",
       "  mean: 0.51678, std: 0.02561, params: {'model__n_estimators': 1460},\n",
       "  mean: 0.51719, std: 0.02593, params: {'model__n_estimators': 1470},\n",
       "  mean: 0.51637, std: 0.02726, params: {'model__n_estimators': 1480},\n",
       "  mean: 0.51664, std: 0.02714, params: {'model__n_estimators': 1490}],\n",
       " {'model__n_estimators': 1400},\n",
       " 0.53389210020893973)"
      ]
     },
     "execution_count": 13,
     "metadata": {},
     "output_type": "execute_result"
    }
   ],
   "source": [
    "pipeline = Pipeline([\n",
    "        ('min/max scaler', MinMaxScaler(feature_range=(0.0, 1.0))),\n",
    "        ('model',  AdaBoostClassifier(base_estimator=tree.DecisionTreeClassifier(max_depth=2),\n",
    "                         algorithm=\"SAMME.R\",\n",
    "                         n_estimators=1380, random_state = 1,learning_rate=0.0019))])\n",
    "param_test1 = {\n",
    "    'model__n_estimators': [i for i in range(1400,1500,10)]\n",
    "}\n",
    "gsearch1 = GridSearchCV(estimator = pipeline, param_grid = param_test1, scoring='accuracy',n_jobs=4,iid=False)\n",
    "\n",
    "gsearch1.fit(X_train,Y_train)\n",
    "gsearch1.grid_scores_, gsearch1.best_params_, gsearch1.best_score_\n",
    "\n"
   ]
  },
  {
   "cell_type": "code",
   "execution_count": 18,
   "metadata": {},
   "outputs": [
    {
     "name": "stdout",
     "output_type": "stream",
     "text": [
      "Pipeline trained.\n"
     ]
    }
   ],
   "source": [
    "pipeline = Pipeline([\n",
    "        ('min/max scaler', MinMaxScaler(feature_range=(0.0, 1.0))),\n",
    "        ('model',  AdaBoostClassifier(base_estimator=tree.DecisionTreeClassifier(max_depth=2),\n",
    "                         algorithm=\"SAMME.R\",\n",
    "                         n_estimators=1400, random_state = 1,learning_rate=0.0019))])\n",
    "\n",
    "results = train_predict(pipeline, X_train, Y_train, X_test, Y_test)"
   ]
  },
  {
   "cell_type": "code",
   "execution_count": 19,
   "metadata": {},
   "outputs": [
    {
     "data": {
      "text/plain": [
       "{'acc_test': 0.48698738170347006,\n",
       " 'acc_train': 0.51333333333333331,\n",
       " 'f_test': 0.48698738170347006,\n",
       " 'f_train': 0.51333333333333331,\n",
       " 'train_time': 57.10399866104126}"
      ]
     },
     "execution_count": 19,
     "metadata": {},
     "output_type": "execute_result"
    }
   ],
   "source": [
    "results"
   ]
  },
  {
   "cell_type": "markdown",
   "metadata": {},
   "source": [
    "## Let's try predicting another season (season 14/15) and training on the corresponding previous seasons"
   ]
  },
  {
   "cell_type": "code",
   "execution_count": 20,
   "metadata": {
    "collapsed": true
   },
   "outputs": [],
   "source": [
    "final_dataset = pd.read_csv('FINAL_BASE_DATASET_WITH_BETS_ZEROS_REMOVED_WITH_SEASON.csv',index_col=0)\n",
    "\n",
    "## Extract season 2015/2016 matches as test data\n",
    "this_season='2015/2016'\n",
    "final_dataset=final_dataset.drop(final_dataset[final_dataset['season']==this_season].index)\n",
    "\n",
    "test_season='2014/2015'\n",
    "test_data=final_dataset[final_dataset['season']==test_season]\n",
    "\n",
    "train_data=final_dataset.drop(test_data.index)"
   ]
  },
  {
   "cell_type": "code",
   "execution_count": 23,
   "metadata": {},
   "outputs": [
    {
     "name": "stdout",
     "output_type": "stream",
     "text": [
      "Using seasons:  ['2013/2014']\n"
     ]
    },
    {
     "data": {
      "text/plain": [
       "'Size of training dataset: '"
      ]
     },
     "metadata": {},
     "output_type": "display_data"
    },
    {
     "data": {
      "text/plain": [
       "2019"
      ]
     },
     "metadata": {},
     "output_type": "display_data"
    },
    {
     "name": "stdout",
     "output_type": "stream",
     "text": [
      "AdaBoostClassifier trained.\n",
      "{'train_time': 8.616507768630981, 'acc_train': 0.64333333333333331, 'acc_test': 0.51883561643835618, 'f_train': 0.64333333333333331, 'f_test': 0.51883561643835618}\n",
      "........................................\n",
      "Using seasons:  ['2013/2014', '2012/2013']\n"
     ]
    },
    {
     "data": {
      "text/plain": [
       "'Size of training dataset: '"
      ]
     },
     "metadata": {},
     "output_type": "display_data"
    },
    {
     "data": {
      "text/plain": [
       "4226"
      ]
     },
     "metadata": {},
     "output_type": "display_data"
    },
    {
     "name": "stdout",
     "output_type": "stream",
     "text": [
      "AdaBoostClassifier trained.\n",
      "{'train_time': 17.68287992477417, 'acc_train': 0.51333333333333331, 'acc_test': 0.52696917808219179, 'f_train': 0.51333333333333331, 'f_test': 0.52696917808219179}\n",
      "........................................\n",
      "Using seasons:  ['2013/2014', '2012/2013', '2011/2012']\n"
     ]
    },
    {
     "data": {
      "text/plain": [
       "'Size of training dataset: '"
      ]
     },
     "metadata": {},
     "output_type": "display_data"
    },
    {
     "data": {
      "text/plain": [
       "6313"
      ]
     },
     "metadata": {},
     "output_type": "display_data"
    },
    {
     "name": "stdout",
     "output_type": "stream",
     "text": [
      "AdaBoostClassifier trained.\n",
      "{'train_time': 24.10475182533264, 'acc_train': 0.55333333333333334, 'acc_test': 0.52696917808219179, 'f_train': 0.55333333333333334, 'f_test': 0.52696917808219179}\n",
      "........................................\n",
      "Using seasons:  ['2013/2014', '2012/2013', '2011/2012', '2010/2011']\n"
     ]
    },
    {
     "data": {
      "text/plain": [
       "'Size of training dataset: '"
      ]
     },
     "metadata": {},
     "output_type": "display_data"
    },
    {
     "data": {
      "text/plain": [
       "8132"
      ]
     },
     "metadata": {},
     "output_type": "display_data"
    },
    {
     "name": "stdout",
     "output_type": "stream",
     "text": [
      "AdaBoostClassifier trained.\n",
      "{'train_time': 30.826406955718994, 'acc_train': 0.54000000000000004, 'acc_test': 0.5235445205479452, 'f_train': 0.54000000000000004, 'f_test': 0.5235445205479452}\n",
      "........................................\n",
      "Using seasons:  ['2013/2014', '2012/2013', '2011/2012', '2010/2011', '2009/2010']\n"
     ]
    },
    {
     "data": {
      "text/plain": [
       "'Size of training dataset: '"
      ]
     },
     "metadata": {},
     "output_type": "display_data"
    },
    {
     "data": {
      "text/plain": [
       "9853"
      ]
     },
     "metadata": {},
     "output_type": "display_data"
    },
    {
     "name": "stdout",
     "output_type": "stream",
     "text": [
      "AdaBoostClassifier trained.\n",
      "{'train_time': 37.855671882629395, 'acc_train': 0.54333333333333333, 'acc_test': 0.52525684931506844, 'f_train': 0.54333333333333333, 'f_test': 0.52525684931506844}\n",
      "........................................\n",
      "Using seasons:  ['2013/2014', '2012/2013', '2011/2012', '2010/2011', '2009/2010', '2008/2009']\n"
     ]
    },
    {
     "data": {
      "text/plain": [
       "'Size of training dataset: '"
      ]
     },
     "metadata": {},
     "output_type": "display_data"
    },
    {
     "data": {
      "text/plain": [
       "11225"
      ]
     },
     "metadata": {},
     "output_type": "display_data"
    },
    {
     "name": "stdout",
     "output_type": "stream",
     "text": [
      "AdaBoostClassifier trained.\n",
      "{'train_time': 42.56881928443909, 'acc_train': 0.54666666666666663, 'acc_test': 0.52482876712328763, 'f_train': 0.54666666666666663, 'f_test': 0.52482876712328763}\n",
      "........................................\n"
     ]
    }
   ],
   "source": [
    "from sklearn.pipeline import Pipeline\n",
    "from sklearn.preprocessing import MinMaxScaler\n",
    "from sklearn.neural_network import MLPClassifier\n",
    "\n",
    "\n",
    "clf_3 = AdaBoostClassifier(base_estimator=tree.DecisionTreeClassifier(max_depth=1),\n",
    "                         algorithm=\"SAMME.R\",\n",
    "                         n_estimators=1270, random_state = 1,learning_rate=0.036)\n",
    "\n",
    "seasons_to_use=[]\n",
    "seasons_used=[]\n",
    "results_saved=[]\n",
    "count=0\n",
    "for season in np.flip(np.sort(train_data['season'].unique()),axis=0):\n",
    "    seasons_to_use.append(season)\n",
    "    print('Using seasons: ', seasons_to_use)\n",
    "    result=train_test_dynamically_adding_seasons(clf_3,train_data,test_data,seasons_to_use)\n",
    "    results_saved.append(result)\n",
    "    print(result)\n",
    "    print('........................................')\n",
    "    #seasons_used[count].append[seasons_to_use]\n",
    "    count=count+1"
   ]
  },
  {
   "cell_type": "code",
   "execution_count": 24,
   "metadata": {},
   "outputs": [
    {
     "data": {
      "image/png": "[encoded data removed]",
      "text/plain": [
       "<matplotlib.figure.Figure at 0x216f1717860>"
      ]
     },
     "metadata": {},
     "output_type": "display_data"
    }
   ],
   "source": [
    "## plot the accuracy for the different scenarios above\n",
    "import matplotlib.pyplot as plt\n",
    "\n",
    "objects = ('2013-2014', '2012-2014', '2011-2014', '2010-2014', '2009-2014', '2008-2014')\n",
    "y_pos = np.arange(len(objects))\n",
    "r=[]\n",
    "for i in range(len(results_saved)):\n",
    "    r.append(results_saved[i]['acc_test']*100)\n",
    "#display(r)\n",
    "plt.barh(y_pos, r, align='center')\n",
    "plt.yticks(y_pos, objects)\n",
    "plt.xlabel('Accuracy')\n",
    "plt.title('Model Accuracy on Test Data (2014/2015) using different seasons as training')\n",
    "plt.xlim((0,60))\n",
    "\n",
    "for i, v in enumerate(r):\n",
    "    plt.text(v + 3, i, str('%.2f' %v), color='blue', fontweight='bold')\n",
    "    \n",
    "plt.show()\n"
   ]
  },
  {
   "cell_type": "markdown",
   "metadata": {},
   "source": [
    "#### Checking if it's overfitting!"
   ]
  },
  {
   "cell_type": "code",
   "execution_count": 28,
   "metadata": {},
   "outputs": [
    {
     "data": {
      "text/plain": [
       "'Size of training dataset: '"
      ]
     },
     "metadata": {},
     "output_type": "display_data"
    },
    {
     "data": {
      "text/plain": [
       "4226"
      ]
     },
     "metadata": {},
     "output_type": "display_data"
    },
    {
     "data": {
      "text/plain": [
       "array([ 0.30106257,  0.52071006,  0.50414201,  0.55029586,  0.53436019])"
      ]
     },
     "metadata": {},
     "output_type": "display_data"
    },
    {
     "data": {
      "text/plain": [
       "0.54874585896829153"
      ]
     },
     "execution_count": 28,
     "metadata": {},
     "output_type": "execute_result"
    }
   ],
   "source": [
    "from sklearn.model_selection import cross_val_score\n",
    "\n",
    "seasons_to_use=['2013/2014', '2012/2013']\n",
    "train_data=train_data[train_data['season'].isin(seasons_to_use)]\n",
    "display('Size of training dataset: ', train_data.shape[0])\n",
    "X_train=train_data.drop(['season','Label'],axis=1)\n",
    "Y_train=train_data['Label']\n",
    "\n",
    "scores=cross_val_score(clf_3, X_train, Y_train, cv=5)\n",
    "display(scores)\n",
    "\n",
    "pred=clf_3.predict(X_train)\n",
    "accuracy_score(Y_train,pred)"
   ]
  }
 ],
 "metadata": {
  "kernelspec": {
   "display_name": "Python 3",
   "language": "python",
   "name": "python3"
  },
  "language_info": {
   "codemirror_mode": {
    "name": "ipython",
    "version": 3
   },
   "file_extension": ".py",
   "mimetype": "text/x-python",
   "name": "python",
   "nbconvert_exporter": "python",
   "pygments_lexer": "ipython3",
   "version": "3.6.3"
  }
 },
 "nbformat": 4,
 "nbformat_minor": 2
}
