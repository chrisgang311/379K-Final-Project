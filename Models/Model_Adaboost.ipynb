{
 "cells": [
  {
   "cell_type": "markdown",
   "metadata": {},
   "source": [
    "## Adaboost Model on Dataset with Bets"
   ]
  },
  {
   "cell_type": "code",
   "execution_count": 6,
   "metadata": {},
   "outputs": [],
   "source": [
    "import numpy as np\n",
    "import pandas as pd\n",
    "from time import time\n",
    "from IPython.display import display # Allows the use of display() for DataFrames\n",
    "\n",
    "# Import train_test_split\n",
    "from sklearn.cross_validation import train_test_split\n",
    "from sklearn.model_selection import StratifiedShuffleSplit\n",
    "from sklearn import tree\n",
    "from sklearn.ensemble import AdaBoostClassifier\n",
    "from importlib import reload\n"
   ]
  },
  {
   "cell_type": "code",
   "execution_count": 51,
   "metadata": {
    "collapsed": true
   },
   "outputs": [],
   "source": [
    "data = pd.read_csv('Data_Structures/FINAL_BASE_DATASET_WITH_BETS_ZEROS_REMOVED.csv',index_col=0)"
   ]
  },
  {
   "cell_type": "code",
   "execution_count": 52,
   "metadata": {},
   "outputs": [
    {
     "name": "stdout",
     "output_type": "stream",
     "text": [
      "Training set has 12613 samples.\n",
      "Testing set has 3154 samples.\n"
     ]
    }
   ],
   "source": [
    "\n",
    "X_data=data.drop(['Label'],axis=1)\n",
    "Y_data=data['Label']\n",
    "\n",
    "s = StratifiedShuffleSplit(n_splits=2, test_size = 0.2, random_state=0)\n",
    "for train_index, test_index in s.split(X_data, Y_data):\n",
    "    #print(\"TRAIN:\", train_index, \"TEST:\", test_index)\n",
    "    X_train_b, X_test_b = X_data.iloc[train_index], X_data.iloc[test_index]\n",
    "    y_train_b, y_test_b = Y_data.iloc[train_index], Y_data.iloc[test_index]\n",
    "\n",
    "\n",
    "# Show the results of the split\n",
    "print (\"Training set has {} samples.\".format(X_train_b.shape[0]))\n",
    "print (\"Testing set has {} samples.\".format(X_test_b.shape[0]))"
   ]
  },
  {
   "cell_type": "code",
   "execution_count": 4,
   "metadata": {
    "collapsed": true
   },
   "outputs": [],
   "source": [
    "# TODO: Import two metrics from sklearn - fbeta_score and accuracy_score\n",
    "from sklearn.metrics import f1_score\n",
    "from sklearn.metrics import accuracy_score\n",
    "\n",
    "def train_predict(learner, X_train, y_train, X_test, y_test): \n",
    "    '''\n",
    "    inputs:\n",
    "       - learner: the learning algorithm to be trained and predicted on\n",
    "       - sample_size: the size of samples (number) to be drawn from training set\n",
    "       - X_train: features training set\n",
    "       - y_train: income training set\n",
    "       - X_test: features testing set\n",
    "       - y_test: income testing set\n",
    "    '''\n",
    "    \n",
    "    results = {}\n",
    "    \n",
    "    start = time() # Get start time\n",
    "    learner = learner.fit(X_train, y_train)\n",
    "    end = time() # Get end time\n",
    "    \n",
    "    # Calculate the training time\n",
    "    results['train_time'] = end - start\n",
    "        \n",
    "    # Get the predictions on the test set(X_test),\n",
    "    #       then get predictions on the first 300 training samples(X_train) using .predict()\n",
    "    predictions_test = learner.predict(X_test)\n",
    "    predictions_train = learner.predict(X_train[:300])    \n",
    "            \n",
    "    # Compute accuracy on the first 300 training samples which is y_train[:300]\n",
    "    results['acc_train'] = accuracy_score(y_train[:300], predictions_train)\n",
    "        \n",
    "    # Compute accuracy on test set using accuracy_score()\n",
    "    results['acc_test'] = accuracy_score(y_test, predictions_test)\n",
    "    \n",
    "    \n",
    "    # Compute F-score on the the first 300 training samples using fbeta_score()\n",
    "    results['f_train'] = f1_score(y_train[:300], predictions_train,\n",
    "                                     average='micro')\n",
    "    # Compute F-score on the test set which is y_test\n",
    "    results['f_test'] = f1_score(y_test, predictions_test, \n",
    "                                    average='micro')  \n",
    "    # Success\n",
    "    print (\"{} trained.\".format(learner.__class__.__name__))\n",
    "        \n",
    "    # Return the results\n",
    "    return results"
   ]
  },
  {
   "cell_type": "code",
   "execution_count": 30,
   "metadata": {},
   "outputs": [],
   "source": [
    "clf = AdaBoostClassifier(base_estimator=tree.DecisionTreeClassifier(max_depth=1),\n",
    "                         algorithm=\"SAMME.R\",\n",
    "                         n_estimators=1000, random_state = 1)"
   ]
  },
  {
   "cell_type": "code",
   "execution_count": 31,
   "metadata": {},
   "outputs": [
    {
     "name": "stdout",
     "output_type": "stream",
     "text": [
      "AdaBoostClassifier trained.\n"
     ]
    }
   ],
   "source": [
    "results = train_predict(clf, X_train_b, y_train_b, X_test_b, y_test_b)"
   ]
  },
  {
   "cell_type": "code",
   "execution_count": 32,
   "metadata": {},
   "outputs": [
    {
     "data": {
      "text/plain": [
       "{'acc_test': 0.5221940393151554,\n",
       " 'acc_train': 0.62,\n",
       " 'f_test': 0.5221940393151554,\n",
       " 'f_train': 0.62,\n",
       " 'train_time': 43.517579793930054}"
      ]
     },
     "execution_count": 32,
     "metadata": {},
     "output_type": "execute_result"
    }
   ],
   "source": [
    "results"
   ]
  },
  {
   "cell_type": "code",
   "execution_count": 18,
   "metadata": {
    "collapsed": true
   },
   "outputs": [],
   "source": [
    "import itertools"
   ]
  },
  {
   "cell_type": "code",
   "execution_count": 21,
   "metadata": {},
   "outputs": [
    {
     "name": "stdout",
     "output_type": "stream",
     "text": [
      "******************************************************************\n",
      "Confusion matrix for AdaBoost classifier\n",
      "Normalized confusion matrix\n",
      "[[ 0.48  0.14  0.38]\n",
      " [ 0.26  0.18  0.57]\n",
      " [ 0.14  0.12  0.74]]\n"
     ]
    },
    {
     "data": {
      "image/png": "[encoded data removed]",
      "text/plain": [
       "<matplotlib.figure.Figure at 0x27be9c2e1d0>"
      ]
     },
     "metadata": {},
     "output_type": "display_data"
    }
   ],
   "source": [
    "from sklearn.metrics import confusion_matrix\n",
    "import matplotlib.pyplot as plt\n",
    "from sklearn import preprocessing\n",
    "\n",
    "le = preprocessing.LabelEncoder()\n",
    "\n",
    "LABELS = ['HOME_WIN', 'AWAY_WIN', 'DRAW']\n",
    "le.fit(LABELS)\n",
    "\n",
    "def plot_confusion_matrix(cm, classes,\n",
    "                          normalize=False,\n",
    "                          title='Confusion matrix',\n",
    "                          cmap=plt.cm.Blues):\n",
    "    \"\"\"\n",
    "    This function prints and plots the confusion matrix.\n",
    "    Normalization can be applied by setting `normalize=True`.\n",
    "    \"\"\"\n",
    "    if normalize:\n",
    "        cm = cm.astype('float') / cm.sum(axis=1)[:, np.newaxis]\n",
    "        print(\"Normalized confusion matrix\")\n",
    "    else:\n",
    "        print('Confusion matrix, without normalization')\n",
    "\n",
    "    print(cm)\n",
    "\n",
    "    plt.imshow(cm, interpolation='nearest', cmap=cmap)\n",
    "    plt.title(title)\n",
    "    plt.colorbar()\n",
    "    tick_marks = np.arange(len(classes))\n",
    "    plt.xticks(tick_marks, classes, rotation=45)\n",
    "    plt.yticks(tick_marks, classes)\n",
    "\n",
    "    fmt = '.2f' if normalize else 'd'\n",
    "    thresh = cm.max() / 2.\n",
    "    for i, j in itertools.product(range(cm.shape[0]), range(cm.shape[1])):\n",
    "        plt.text(j, i, format(cm[i, j], fmt),\n",
    "                 horizontalalignment=\"center\",\n",
    "                 color=\"white\" if cm[i, j] > thresh else \"black\")\n",
    "\n",
    "    plt.tight_layout()\n",
    "    plt.ylabel('True label')\n",
    "    plt.xlabel('Predicted label')\n",
    "\n",
    "\n",
    "'''\n",
    "CONFUSIOM MATRIX FOR ADABOOST\n",
    "'''\n",
    "y_pred = clf.predict(X_test_b)\n",
    "cnf_matrix_adaboost = confusion_matrix(y_test_b, y_pred)\n",
    "np.set_printoptions(precision=2)\n",
    "\n",
    "\n",
    "CLASSES_NAME = le.inverse_transform([0,1,2])\n",
    "\n",
    "print (\"******************************************************************\")\n",
    "print (\"Confusion matrix for AdaBoost classifier\")\n",
    "plt.figure()\n",
    "plot_confusion_matrix(cnf_matrix_adaboost, classes=CLASSES_NAME, normalize=True,\n",
    "                      title='Normalized confusion matrix AdaBoost')\n",
    "plt.show()\n"
   ]
  },
  {
   "cell_type": "markdown",
   "metadata": {},
   "source": [
    "### Hyperparameter tuning\n"
   ]
  },
  {
   "cell_type": "code",
   "execution_count": 25,
   "metadata": {
    "scrolled": true
   },
   "outputs": [
    {
     "name": "stdout",
     "output_type": "stream",
     "text": [
      "Fitting 3 folds for each of 4 candidates, totalling 12 fits\n",
      "[CV] algorithm=SAMME, base_estimator=DecisionTreeClassifier(class_weight=None, criterion='gini', max_depth=1,\n",
      "            max_features=None, max_leaf_nodes=None,\n",
      "            min_impurity_decrease=0.0, min_impurity_split=None,\n",
      "            min_samples_leaf=1, min_samples_split=2,\n",
      "            min_weight_fraction_leaf=0.0, presort=False, random_state=None,\n",
      "            splitter='best'), n_estimators=1000, random_state=1 \n",
      "[CV]  algorithm=SAMME, base_estimator=DecisionTreeClassifier(class_weight=None, criterion='gini', max_depth=1,\n",
      "            max_features=None, max_leaf_nodes=None,\n",
      "            min_impurity_decrease=0.0, min_impurity_split=None,\n",
      "            min_samples_leaf=1, min_samples_split=2,\n",
      "            min_weight_fraction_leaf=0.0, presort=False, random_state=None,\n",
      "            splitter='best'), n_estimators=1000, random_state=1, score=0.5443519619500594, total=  29.4s\n",
      "[CV] algorithm=SAMME, base_estimator=DecisionTreeClassifier(class_weight=None, criterion='gini', max_depth=1,\n",
      "            max_features=None, max_leaf_nodes=None,\n",
      "            min_impurity_decrease=0.0, min_impurity_split=None,\n",
      "            min_samples_leaf=1, min_samples_split=2,\n",
      "            min_weight_fraction_leaf=0.0, presort=False, random_state=None,\n",
      "            splitter='best'), n_estimators=1000, random_state=1 \n"
     ]
    },
    {
     "name": "stderr",
     "output_type": "stream",
     "text": [
      "[Parallel(n_jobs=1)]: Done   1 out of   1 | elapsed:   29.9s remaining:    0.0s\n"
     ]
    },
    {
     "name": "stdout",
     "output_type": "stream",
     "text": [
      "[CV]  algorithm=SAMME, base_estimator=DecisionTreeClassifier(class_weight=None, criterion='gini', max_depth=1,\n",
      "            max_features=None, max_leaf_nodes=None,\n",
      "            min_impurity_decrease=0.0, min_impurity_split=None,\n",
      "            min_samples_leaf=1, min_samples_split=2,\n",
      "            min_weight_fraction_leaf=0.0, presort=False, random_state=None,\n",
      "            splitter='best'), n_estimators=1000, random_state=1, score=0.5365041617122474, total=  29.3s\n",
      "[CV] algorithm=SAMME, base_estimator=DecisionTreeClassifier(class_weight=None, criterion='gini', max_depth=1,\n",
      "            max_features=None, max_leaf_nodes=None,\n",
      "            min_impurity_decrease=0.0, min_impurity_split=None,\n",
      "            min_samples_leaf=1, min_samples_split=2,\n",
      "            min_weight_fraction_leaf=0.0, presort=False, random_state=None,\n",
      "            splitter='best'), n_estimators=1000, random_state=1 \n"
     ]
    },
    {
     "name": "stderr",
     "output_type": "stream",
     "text": [
      "[Parallel(n_jobs=1)]: Done   2 out of   2 | elapsed:   59.6s remaining:    0.0s\n"
     ]
    },
    {
     "name": "stdout",
     "output_type": "stream",
     "text": [
      "[CV]  algorithm=SAMME, base_estimator=DecisionTreeClassifier(class_weight=None, criterion='gini', max_depth=1,\n",
      "            max_features=None, max_leaf_nodes=None,\n",
      "            min_impurity_decrease=0.0, min_impurity_split=None,\n",
      "            min_samples_leaf=1, min_samples_split=2,\n",
      "            min_weight_fraction_leaf=0.0, presort=False, random_state=None,\n",
      "            splitter='best'), n_estimators=1000, random_state=1, score=0.5279562217463717, total=  26.5s\n",
      "[CV] algorithm=SAMME, base_estimator=DecisionTreeClassifier(class_weight=None, criterion='gini', max_depth=2,\n",
      "            max_features=None, max_leaf_nodes=None,\n",
      "            min_impurity_decrease=0.0, min_impurity_split=None,\n",
      "            min_samples_leaf=1, min_samples_split=2,\n",
      "            min_weight_fraction_leaf=0.0, presort=False, random_state=None,\n",
      "            splitter='best'), n_estimators=1000, random_state=1 \n"
     ]
    },
    {
     "name": "stderr",
     "output_type": "stream",
     "text": [
      "[Parallel(n_jobs=1)]: Done   3 out of   3 | elapsed:  1.4min remaining:    0.0s\n"
     ]
    },
    {
     "name": "stdout",
     "output_type": "stream",
     "text": [
      "[CV]  algorithm=SAMME, base_estimator=DecisionTreeClassifier(class_weight=None, criterion='gini', max_depth=2,\n",
      "            max_features=None, max_leaf_nodes=None,\n",
      "            min_impurity_decrease=0.0, min_impurity_split=None,\n",
      "            min_samples_leaf=1, min_samples_split=2,\n",
      "            min_weight_fraction_leaf=0.0, presort=False, random_state=None,\n",
      "            splitter='best'), n_estimators=1000, random_state=1, score=0.527705112960761, total=  50.6s\n",
      "[CV] algorithm=SAMME, base_estimator=DecisionTreeClassifier(class_weight=None, criterion='gini', max_depth=2,\n",
      "            max_features=None, max_leaf_nodes=None,\n",
      "            min_impurity_decrease=0.0, min_impurity_split=None,\n",
      "            min_samples_leaf=1, min_samples_split=2,\n",
      "            min_weight_fraction_leaf=0.0, presort=False, random_state=None,\n",
      "            splitter='best'), n_estimators=1000, random_state=1 \n"
     ]
    },
    {
     "name": "stderr",
     "output_type": "stream",
     "text": [
      "[Parallel(n_jobs=1)]: Done   4 out of   4 | elapsed:  2.3min remaining:    0.0s\n"
     ]
    },
    {
     "name": "stdout",
     "output_type": "stream",
     "text": [
      "[CV]  algorithm=SAMME, base_estimator=DecisionTreeClassifier(class_weight=None, criterion='gini', max_depth=2,\n",
      "            max_features=None, max_leaf_nodes=None,\n",
      "            min_impurity_decrease=0.0, min_impurity_split=None,\n",
      "            min_samples_leaf=1, min_samples_split=2,\n",
      "            min_weight_fraction_leaf=0.0, presort=False, random_state=None,\n",
      "            splitter='best'), n_estimators=1000, random_state=1, score=0.5393579072532699, total=  50.5s\n",
      "[CV] algorithm=SAMME, base_estimator=DecisionTreeClassifier(class_weight=None, criterion='gini', max_depth=2,\n",
      "            max_features=None, max_leaf_nodes=None,\n",
      "            min_impurity_decrease=0.0, min_impurity_split=None,\n",
      "            min_samples_leaf=1, min_samples_split=2,\n",
      "            min_weight_fraction_leaf=0.0, presort=False, random_state=None,\n",
      "            splitter='best'), n_estimators=1000, random_state=1 \n",
      "[CV]  algorithm=SAMME, base_estimator=DecisionTreeClassifier(class_weight=None, criterion='gini', max_depth=2,\n",
      "            max_features=None, max_leaf_nodes=None,\n",
      "            min_impurity_decrease=0.0, min_impurity_split=None,\n",
      "            min_samples_leaf=1, min_samples_split=2,\n",
      "            min_weight_fraction_leaf=0.0, presort=False, random_state=None,\n",
      "            splitter='best'), n_estimators=1000, random_state=1, score=0.5317630264097074, total=  50.4s\n",
      "[CV] algorithm=SAMME.R, base_estimator=DecisionTreeClassifier(class_weight=None, criterion='gini', max_depth=1,\n",
      "            max_features=None, max_leaf_nodes=None,\n",
      "            min_impurity_decrease=0.0, min_impurity_split=None,\n",
      "            min_samples_leaf=1, min_samples_split=2,\n",
      "            min_weight_fraction_leaf=0.0, presort=False, random_state=None,\n",
      "            splitter='best'), n_estimators=1000, random_state=1 \n",
      "[CV]  algorithm=SAMME.R, base_estimator=DecisionTreeClassifier(class_weight=None, criterion='gini', max_depth=1,\n",
      "            max_features=None, max_leaf_nodes=None,\n",
      "            min_impurity_decrease=0.0, min_impurity_split=None,\n",
      "            min_samples_leaf=1, min_samples_split=2,\n",
      "            min_weight_fraction_leaf=0.0, presort=False, random_state=None,\n",
      "            splitter='best'), n_estimators=1000, random_state=1, score=0.5041617122473246, total=  27.5s\n",
      "[CV] algorithm=SAMME.R, base_estimator=DecisionTreeClassifier(class_weight=None, criterion='gini', max_depth=1,\n",
      "            max_features=None, max_leaf_nodes=None,\n",
      "            min_impurity_decrease=0.0, min_impurity_split=None,\n",
      "            min_samples_leaf=1, min_samples_split=2,\n",
      "            min_weight_fraction_leaf=0.0, presort=False, random_state=None,\n",
      "            splitter='best'), n_estimators=1000, random_state=1 \n",
      "[CV]  algorithm=SAMME.R, base_estimator=DecisionTreeClassifier(class_weight=None, criterion='gini', max_depth=1,\n",
      "            max_features=None, max_leaf_nodes=None,\n",
      "            min_impurity_decrease=0.0, min_impurity_split=None,\n",
      "            min_samples_leaf=1, min_samples_split=2,\n",
      "            min_weight_fraction_leaf=0.0, presort=False, random_state=None,\n",
      "            splitter='best'), n_estimators=1000, random_state=1, score=0.5141498216409037, total=  27.3s\n",
      "[CV] algorithm=SAMME.R, base_estimator=DecisionTreeClassifier(class_weight=None, criterion='gini', max_depth=1,\n",
      "            max_features=None, max_leaf_nodes=None,\n",
      "            min_impurity_decrease=0.0, min_impurity_split=None,\n",
      "            min_samples_leaf=1, min_samples_split=2,\n",
      "            min_weight_fraction_leaf=0.0, presort=False, random_state=None,\n",
      "            splitter='best'), n_estimators=1000, random_state=1 \n",
      "[CV]  algorithm=SAMME.R, base_estimator=DecisionTreeClassifier(class_weight=None, criterion='gini', max_depth=1,\n",
      "            max_features=None, max_leaf_nodes=None,\n",
      "            min_impurity_decrease=0.0, min_impurity_split=None,\n",
      "            min_samples_leaf=1, min_samples_split=2,\n",
      "            min_weight_fraction_leaf=0.0, presort=False, random_state=None,\n",
      "            splitter='best'), n_estimators=1000, random_state=1, score=0.5041636926005234, total=  27.4s\n",
      "[CV] algorithm=SAMME.R, base_estimator=DecisionTreeClassifier(class_weight=None, criterion='gini', max_depth=2,\n",
      "            max_features=None, max_leaf_nodes=None,\n",
      "            min_impurity_decrease=0.0, min_impurity_split=None,\n",
      "            min_samples_leaf=1, min_samples_split=2,\n",
      "            min_weight_fraction_leaf=0.0, presort=False, random_state=None,\n",
      "            splitter='best'), n_estimators=1000, random_state=1 \n",
      "[CV]  algorithm=SAMME.R, base_estimator=DecisionTreeClassifier(class_weight=None, criterion='gini', max_depth=2,\n",
      "            max_features=None, max_leaf_nodes=None,\n",
      "            min_impurity_decrease=0.0, min_impurity_split=None,\n",
      "            min_samples_leaf=1, min_samples_split=2,\n",
      "            min_weight_fraction_leaf=0.0, presort=False, random_state=None,\n",
      "            splitter='best'), n_estimators=1000, random_state=1, score=0.4794292508917955, total=  51.6s\n",
      "[CV] algorithm=SAMME.R, base_estimator=DecisionTreeClassifier(class_weight=None, criterion='gini', max_depth=2,\n",
      "            max_features=None, max_leaf_nodes=None,\n",
      "            min_impurity_decrease=0.0, min_impurity_split=None,\n",
      "            min_samples_leaf=1, min_samples_split=2,\n",
      "            min_weight_fraction_leaf=0.0, presort=False, random_state=None,\n",
      "            splitter='best'), n_estimators=1000, random_state=1 \n",
      "[CV]  algorithm=SAMME.R, base_estimator=DecisionTreeClassifier(class_weight=None, criterion='gini', max_depth=2,\n",
      "            max_features=None, max_leaf_nodes=None,\n",
      "            min_impurity_decrease=0.0, min_impurity_split=None,\n",
      "            min_samples_leaf=1, min_samples_split=2,\n",
      "            min_weight_fraction_leaf=0.0, presort=False, random_state=None,\n",
      "            splitter='best'), n_estimators=1000, random_state=1, score=0.47443519619500596, total=  51.6s\n",
      "[CV] algorithm=SAMME.R, base_estimator=DecisionTreeClassifier(class_weight=None, criterion='gini', max_depth=2,\n",
      "            max_features=None, max_leaf_nodes=None,\n",
      "            min_impurity_decrease=0.0, min_impurity_split=None,\n",
      "            min_samples_leaf=1, min_samples_split=2,\n",
      "            min_weight_fraction_leaf=0.0, presort=False, random_state=None,\n",
      "            splitter='best'), n_estimators=1000, random_state=1 \n",
      "[CV]  algorithm=SAMME.R, base_estimator=DecisionTreeClassifier(class_weight=None, criterion='gini', max_depth=2,\n",
      "            max_features=None, max_leaf_nodes=None,\n",
      "            min_impurity_decrease=0.0, min_impurity_split=None,\n",
      "            min_samples_leaf=1, min_samples_split=2,\n",
      "            min_weight_fraction_leaf=0.0, presort=False, random_state=None,\n",
      "            splitter='best'), n_estimators=1000, random_state=1, score=0.4860813704496788, total=  53.0s\n"
     ]
    },
    {
     "name": "stderr",
     "output_type": "stream",
     "text": [
      "[Parallel(n_jobs=1)]: Done  12 out of  12 | elapsed:  8.1min finished\n"
     ]
    }
   ],
   "source": [
    "#from sklearn.metrics import make_scorer\n",
    "from sklearn.model_selection import GridSearchCV\n",
    "#from sklearn.metrics import fbeta_score\n",
    "from sklearn.metrics import accuracy_score\n",
    "\n",
    "# Initialize the classifier\n",
    "clf = AdaBoostClassifier()\n",
    "\n",
    "\n",
    "'''\n",
    "MY BASE CLASSIFIER\n",
    "clf = AdaBoostClassifier(base_estimator=tree.DecisionTreeClassifier(max_depth=1),\n",
    "                         algorithm=\"SAMME.R\",\n",
    "                         n_estimators=1000, random_state = 1)\n",
    "                         \n",
    "'''\n",
    "parameters = {'base_estimator': [tree.DecisionTreeClassifier(max_depth=1),\n",
    "                                tree.DecisionTreeClassifier(max_depth=2)], \n",
    "              'n_estimators': [1000], \n",
    "              'algorithm' : ['SAMME', 'SAMME.R'],\n",
    "              'random_state' : [1]}\n",
    "\n",
    "# Make an fbeta_score scoring object using make_scorer()\n",
    "#scorer = make_scorer(fbeta_score, beta=0.5, average='weighted')\n",
    "\n",
    "# Perform grid search on the classifier using 'scorer' as the scoring method using GridSearchCV()\n",
    "\n",
    "grid_obj = GridSearchCV(clf, parameters, scoring = \"accuracy\", verbose = 5)\n",
    "\n",
    "#Fit the grid search object to the training data and find the optimal parameters using fit()\n",
    "grid_fit = grid_obj.fit(X_train_b, y_train_b)\n"
   ]
  },
  {
   "cell_type": "code",
   "execution_count": 33,
   "metadata": {},
   "outputs": [
    {
     "name": "stdout",
     "output_type": "stream",
     "text": [
      "AdaBoostClassifier(algorithm='SAMME',\n",
      "          base_estimator=DecisionTreeClassifier(class_weight=None, criterion='gini', max_depth=1,\n",
      "            max_features=None, max_leaf_nodes=None,\n",
      "            min_impurity_decrease=0.0, min_impurity_split=None,\n",
      "            min_samples_leaf=1, min_samples_split=2,\n",
      "            min_weight_fraction_leaf=0.0, presort=False, random_state=None,\n",
      "            splitter='best'),\n",
      "          learning_rate=1.0, n_estimators=1000, random_state=1)\n",
      "Unoptimized model\n",
      "------\n",
      "AdaBoostClassifier trained.\n",
      "{'train_time': 43.41140794754028, 'acc_train': 0.62, 'acc_test': 0.5221940393151554, 'f_train': 0.62, 'f_test': 0.5221940393151554}\n",
      "\n",
      "Optimized Model\n",
      "------\n",
      "AdaBoostClassifier trained.\n",
      "{'train_time': 41.72636151313782, 'acc_train': 0.57333333333333336, 'acc_test': 0.54026632847178191, 'f_train': 0.57333333333333336, 'f_test': 0.54026632847178191}\n"
     ]
    }
   ],
   "source": [
    "## Unoptimized Model\n",
    "clf = AdaBoostClassifier(base_estimator=tree.DecisionTreeClassifier(max_depth=1),\n",
    "                         algorithm=\"SAMME.R\",\n",
    "                         n_estimators=1000, random_state = 1)\n",
    "\n",
    "# Get the estimator\n",
    "best_clf = grid_fit.best_estimator_\n",
    "print (best_clf)\n",
    "\n",
    "# Make predictions using the unoptimized and model\n",
    "print (\"Unoptimized model\\n------\")\n",
    "results = train_predict(clf, X_train_b, y_train_b, X_test_b, y_test_b)\n",
    "print(results)\n",
    "print (\"\\nOptimized Model\\n------\")\n",
    "results = train_predict(best_clf, X_train_b, y_train_b, X_test_b, y_test_b)\n",
    "print(results)\n"
   ]
  },
  {
   "cell_type": "markdown",
   "metadata": {},
   "source": [
    "## Some observations "
   ]
  },
  {
   "cell_type": "code",
   "execution_count": 41,
   "metadata": {},
   "outputs": [
    {
     "name": "stdout",
     "output_type": "stream",
     "text": [
      "Home_Win Percentage : 46.01382634616604\n",
      "Away_Win Percentage : 25.331388342741167\n",
      "Draw Percentage : 28.65478531109279\n"
     ]
    }
   ],
   "source": [
    "from collections import Counter\n",
    "c=Counter(Y_data)\n",
    "\n",
    "print (\"Home_Win Percentage :\", c[2]/Y_data.shape[0]*100)\n",
    "print (\"Away_Win Percentage :\", c[1]/Y_data.shape[0]*100)\n",
    "print (\"Draw Percentage :\", c[0]/Y_data.shape[0]*100)\n"
   ]
  },
  {
   "cell_type": "code",
   "execution_count": 42,
   "metadata": {},
   "outputs": [
    {
     "name": "stdout",
     "output_type": "stream",
     "text": [
      "******************************************************************\n",
      "Confusion matrix for AdaBoost classifier\n",
      "Normalized confusion matrix\n",
      "[[ 0.53  0.04  0.42]\n",
      " [ 0.3   0.05  0.65]\n",
      " [ 0.16  0.02  0.81]]\n"
     ]
    },
    {
     "data": {
      "image/png": "[encoded data removed]",
      "text/plain": [
       "<matplotlib.figure.Figure at 0x27be9a00ef0>"
      ]
     },
     "metadata": {},
     "output_type": "display_data"
    }
   ],
   "source": [
    "'''\n",
    "CONFUSIOM MATRIX FOR ADABOOST\n",
    "'''\n",
    "y_pred = best_clf.predict(X_test_b)\n",
    "cnf_matrix_adaboost = confusion_matrix(y_test_b, y_pred)\n",
    "np.set_printoptions(precision=2)\n",
    "\n",
    "\n",
    "CLASSES_NAME = le.inverse_transform([0,1,2])\n",
    "\n",
    "print (\"******************************************************************\")\n",
    "print (\"Confusion matrix for AdaBoost classifier\")\n",
    "plt.figure()\n",
    "plot_confusion_matrix(cnf_matrix_adaboost, classes=CLASSES_NAME, normalize=True,\n",
    "                      title='Normalized confusion matrix AdaBoost')\n",
    "plt.show()\n"
   ]
  },
  {
   "cell_type": "markdown",
   "metadata": {},
   "source": [
    "#### Home Wins\n",
    "Based on the confusion matrix for the best classifier, it is pretty good at predicting home wins. Through statistics, home wins occur 46% of the time; so predicting 81% is really good.\n",
    "\n",
    "#### Away Wins\n",
    "Away wins statistically occur 25% of the time, the model predicts the correct result for an away win 53% of the time.\n",
    "\n",
    "#### Draw\n",
    "Draws occur 28% of the time, the model predicts the correct result for a draw only 5%. We can see that the model is bad at predicting draws"
   ]
  },
  {
   "cell_type": "markdown",
   "metadata": {},
   "source": [
    "### Let's do some more tuning"
   ]
  },
  {
   "cell_type": "code",
   "execution_count": 55,
   "metadata": {},
   "outputs": [
    {
     "data": {
      "text/plain": [
       "AdaBoostClassifier(algorithm='SAMME.R',\n",
       "          base_estimator=DecisionTreeClassifier(class_weight=None, criterion='gini', max_depth=1,\n",
       "            max_features=None, max_leaf_nodes=None,\n",
       "            min_impurity_decrease=0.0, min_impurity_split=None,\n",
       "            min_samples_leaf=1, min_samples_split=2,\n",
       "            min_weight_fraction_leaf=0.0, presort=False, random_state=None,\n",
       "            splitter='best'),\n",
       "          learning_rate=1.0, n_estimators=1000, random_state=1)"
      ]
     },
     "execution_count": 55,
     "metadata": {},
     "output_type": "execute_result"
    }
   ],
   "source": [
    "clf"
   ]
  },
  {
   "cell_type": "code",
   "execution_count": 57,
   "metadata": {},
   "outputs": [
    {
     "name": "stderr",
     "output_type": "stream",
     "text": [
      "D:\\Users\\karel\\Anaconda3\\lib\\site-packages\\sklearn\\model_selection\\_search.py:761: DeprecationWarning: The grid_scores_ attribute was deprecated in version 0.18 in favor of the more elaborate cv_results_ attribute. The grid_scores_ attribute will not be available from 0.20\n",
      "  DeprecationWarning)\n"
     ]
    },
    {
     "data": {
      "text/plain": [
       "([mean: 0.50749, std: 0.00471, params: {'algorithm': 'SAMME.R'},\n",
       "  mean: 0.53627, std: 0.00670, params: {'algorithm': 'SAMME'}],\n",
       " {'algorithm': 'SAMME'},\n",
       " 0.53627078180289278)"
      ]
     },
     "execution_count": 57,
     "metadata": {},
     "output_type": "execute_result"
    }
   ],
   "source": [
    "\n",
    "param_test1 = {\n",
    "    'algorithm': ['SAMME.R','SAMME']\n",
    "}\n",
    "gsearch1 = GridSearchCV(estimator = clf, param_grid = param_test1, scoring='accuracy',n_jobs=4,iid=False)\n",
    "\n",
    "gsearch1.fit(X_train_b,y_train_b)\n",
    "gsearch1.grid_scores_, gsearch1.best_params_, gsearch1.best_score_\n",
    "\n"
   ]
  },
  {
   "cell_type": "code",
   "execution_count": 61,
   "metadata": {},
   "outputs": [
    {
     "name": "stderr",
     "output_type": "stream",
     "text": [
      "D:\\Users\\karel\\Anaconda3\\lib\\site-packages\\sklearn\\model_selection\\_search.py:761: DeprecationWarning: The grid_scores_ attribute was deprecated in version 0.18 in favor of the more elaborate cv_results_ attribute. The grid_scores_ attribute will not be available from 0.20\n",
      "  DeprecationWarning)\n"
     ]
    },
    {
     "data": {
      "text/plain": [
       "([mean: 0.53627, std: 0.00670, params: {'base_estimator': DecisionTreeClassifier(class_weight=None, criterion='gini', max_depth=1,\n",
       "            max_features=None, max_leaf_nodes=None,\n",
       "            min_impurity_decrease=0.0, min_impurity_split=None,\n",
       "            min_samples_leaf=1, min_samples_split=2,\n",
       "            min_weight_fraction_leaf=0.0, presort=False, random_state=None,\n",
       "            splitter='best')},\n",
       "  mean: 0.53294, std: 0.00483, params: {'base_estimator': DecisionTreeClassifier(class_weight=None, criterion='gini', max_depth=2,\n",
       "            max_features=None, max_leaf_nodes=None,\n",
       "            min_impurity_decrease=0.0, min_impurity_split=None,\n",
       "            min_samples_leaf=1, min_samples_split=2,\n",
       "            min_weight_fraction_leaf=0.0, presort=False, random_state=None,\n",
       "            splitter='best')},\n",
       "  mean: 0.52152, std: 0.00337, params: {'base_estimator': DecisionTreeClassifier(class_weight=None, criterion='gini', max_depth=3,\n",
       "            max_features=None, max_leaf_nodes=None,\n",
       "            min_impurity_decrease=0.0, min_impurity_split=None,\n",
       "            min_samples_leaf=1, min_samples_split=2,\n",
       "            min_weight_fraction_leaf=0.0, presort=False, random_state=None,\n",
       "            splitter='best')},\n",
       "  mean: 0.51217, std: 0.00545, params: {'base_estimator': DecisionTreeClassifier(class_weight=None, criterion='gini', max_depth=4,\n",
       "            max_features=None, max_leaf_nodes=None,\n",
       "            min_impurity_decrease=0.0, min_impurity_split=None,\n",
       "            min_samples_leaf=1, min_samples_split=2,\n",
       "            min_weight_fraction_leaf=0.0, presort=False, random_state=None,\n",
       "            splitter='best')}],\n",
       " {'base_estimator': DecisionTreeClassifier(class_weight=None, criterion='gini', max_depth=1,\n",
       "              max_features=None, max_leaf_nodes=None,\n",
       "              min_impurity_decrease=0.0, min_impurity_split=None,\n",
       "              min_samples_leaf=1, min_samples_split=2,\n",
       "              min_weight_fraction_leaf=0.0, presort=False, random_state=None,\n",
       "              splitter='best')},\n",
       " 0.53627078180289278)"
      ]
     },
     "execution_count": 61,
     "metadata": {},
     "output_type": "execute_result"
    }
   ],
   "source": [
    "clf_1 = AdaBoostClassifier(base_estimator=tree.DecisionTreeClassifier(max_depth=1),\n",
    "                         algorithm=\"SAMME\",\n",
    "                         n_estimators=1000, random_state = 1)\n",
    "param_test1 = {\n",
    "    'base_estimator': [tree.DecisionTreeClassifier(max_depth=x) for x in range(1,5)]\n",
    "}\n",
    "gsearch1 = GridSearchCV(estimator = clf_1, param_grid = param_test1, scoring='accuracy',n_jobs=4,iid=False)\n",
    "\n",
    "gsearch1.fit(X_train_b,y_train_b)\n",
    "gsearch1.grid_scores_, gsearch1.best_params_, gsearch1.best_score_\n",
    "\n"
   ]
  },
  {
   "cell_type": "code",
   "execution_count": 62,
   "metadata": {},
   "outputs": [
    {
     "name": "stderr",
     "output_type": "stream",
     "text": [
      "D:\\Users\\karel\\Anaconda3\\lib\\site-packages\\sklearn\\model_selection\\_search.py:761: DeprecationWarning: The grid_scores_ attribute was deprecated in version 0.18 in favor of the more elaborate cv_results_ attribute. The grid_scores_ attribute will not be available from 0.20\n",
      "  DeprecationWarning)\n"
     ]
    },
    {
     "data": {
      "text/plain": [
       "([mean: 0.53587, std: 0.00950, params: {'learning_rate': 0.001},\n",
       "  mean: 0.53833, std: 0.00701, params: {'learning_rate': 0.006},\n",
       "  mean: 0.54222, std: 0.00706, params: {'learning_rate': 0.011},\n",
       "  mean: 0.54230, std: 0.00711, params: {'learning_rate': 0.016},\n",
       "  mean: 0.54198, std: 0.00689, params: {'learning_rate': 0.021},\n",
       "  mean: 0.54127, std: 0.00639, params: {'learning_rate': 0.026},\n",
       "  mean: 0.54158, std: 0.00661, params: {'learning_rate': 0.031},\n",
       "  mean: 0.54111, std: 0.00532, params: {'learning_rate': 0.036},\n",
       "  mean: 0.54158, std: 0.00529, params: {'learning_rate': 0.041},\n",
       "  mean: 0.54119, std: 0.00565, params: {'learning_rate': 0.046}],\n",
       " {'learning_rate': 0.016},\n",
       " 0.54229603470106891)"
      ]
     },
     "execution_count": 62,
     "metadata": {},
     "output_type": "execute_result"
    }
   ],
   "source": [
    "\n",
    "param_test1 = {\n",
    "    'learning_rate': [i/1000.0 for i in range(1,50,5)]\n",
    "}\n",
    "gsearch1 = GridSearchCV(estimator = clf_1, param_grid = param_test1, scoring='accuracy',n_jobs=4,iid=False)\n",
    "\n",
    "gsearch1.fit(X_train_b,y_train_b)\n",
    "gsearch1.grid_scores_, gsearch1.best_params_, gsearch1.best_score_\n",
    "\n"
   ]
  },
  {
   "cell_type": "code",
   "execution_count": 63,
   "metadata": {},
   "outputs": [
    {
     "name": "stderr",
     "output_type": "stream",
     "text": [
      "D:\\Users\\karel\\Anaconda3\\lib\\site-packages\\sklearn\\model_selection\\_search.py:761: DeprecationWarning: The grid_scores_ attribute was deprecated in version 0.18 in favor of the more elaborate cv_results_ attribute. The grid_scores_ attribute will not be available from 0.20\n",
      "  DeprecationWarning)\n"
     ]
    },
    {
     "data": {
      "text/plain": [
       "([mean: 0.54230, std: 0.00711, params: {'learning_rate': 0.016},\n",
       "  mean: 0.54206, std: 0.00695, params: {'learning_rate': 0.017},\n",
       "  mean: 0.54222, std: 0.00706, params: {'learning_rate': 0.018},\n",
       "  mean: 0.54198, std: 0.00689, params: {'learning_rate': 0.019},\n",
       "  mean: 0.54190, std: 0.00683, params: {'learning_rate': 0.02}],\n",
       " {'learning_rate': 0.016},\n",
       " 0.54229603470106891)"
      ]
     },
     "execution_count": 63,
     "metadata": {},
     "output_type": "execute_result"
    }
   ],
   "source": [
    "\n",
    "param_test1 = {\n",
    "    'learning_rate': [i/1000.0 for i in range(16,21)]\n",
    "}\n",
    "gsearch1 = GridSearchCV(estimator = clf_1, param_grid = param_test1, scoring='accuracy',n_jobs=4,iid=False)\n",
    "\n",
    "gsearch1.fit(X_train_b,y_train_b)\n",
    "gsearch1.grid_scores_, gsearch1.best_params_, gsearch1.best_score_\n",
    "\n"
   ]
  },
  {
   "cell_type": "code",
   "execution_count": 68,
   "metadata": {},
   "outputs": [
    {
     "name": "stderr",
     "output_type": "stream",
     "text": [
      "D:\\Users\\karel\\Anaconda3\\lib\\site-packages\\sklearn\\model_selection\\_search.py:761: DeprecationWarning: The grid_scores_ attribute was deprecated in version 0.18 in favor of the more elaborate cv_results_ attribute. The grid_scores_ attribute will not be available from 0.20\n",
      "  DeprecationWarning)\n"
     ]
    },
    {
     "data": {
      "text/plain": [
       "([mean: 0.53849, std: 0.00950, params: {'n_estimators': 100},\n",
       "  mean: 0.53294, std: 0.01215, params: {'n_estimators': 200},\n",
       "  mean: 0.53817, std: 0.00710, params: {'n_estimators': 300},\n",
       "  mean: 0.53802, std: 0.00672, params: {'n_estimators': 400},\n",
       "  mean: 0.54158, std: 0.00665, params: {'n_estimators': 500},\n",
       "  mean: 0.54230, std: 0.00712, params: {'n_estimators': 600},\n",
       "  mean: 0.54222, std: 0.00706, params: {'n_estimators': 700},\n",
       "  mean: 0.54222, std: 0.00706, params: {'n_estimators': 800},\n",
       "  mean: 0.54222, std: 0.00706, params: {'n_estimators': 900},\n",
       "  mean: 0.54230, std: 0.00711, params: {'n_estimators': 1000},\n",
       "  mean: 0.54214, std: 0.00700, params: {'n_estimators': 1100},\n",
       "  mean: 0.54214, std: 0.00700, params: {'n_estimators': 1200},\n",
       "  mean: 0.54182, std: 0.00678, params: {'n_estimators': 1300},\n",
       "  mean: 0.54174, std: 0.00672, params: {'n_estimators': 1400}],\n",
       " {'n_estimators': 600},\n",
       " 0.54229603470106902)"
      ]
     },
     "execution_count": 68,
     "metadata": {},
     "output_type": "execute_result"
    }
   ],
   "source": [
    "clf_2 = AdaBoostClassifier(base_estimator=tree.DecisionTreeClassifier(max_depth=1),\n",
    "                         algorithm=\"SAMME\",\n",
    "                         n_estimators=1000, random_state = 1,learning_rate=0.016)\n",
    "param_test1 = {\n",
    "    'n_estimators': [i for i in range(100,1500,100)]\n",
    "}\n",
    "gsearch1 = GridSearchCV(estimator = clf_2, param_grid = param_test1, scoring='accuracy',n_jobs=4,iid=False)\n",
    "\n",
    "gsearch1.fit(X_train_b,y_train_b)\n",
    "gsearch1.grid_scores_, gsearch1.best_params_, gsearch1.best_score_\n",
    "\n"
   ]
  },
  {
   "cell_type": "code",
   "execution_count": 69,
   "metadata": {},
   "outputs": [
    {
     "name": "stderr",
     "output_type": "stream",
     "text": [
      "D:\\Users\\karel\\Anaconda3\\lib\\site-packages\\sklearn\\model_selection\\_search.py:761: DeprecationWarning: The grid_scores_ attribute was deprecated in version 0.18 in favor of the more elaborate cv_results_ attribute. The grid_scores_ attribute will not be available from 0.20\n",
      "  DeprecationWarning)\n"
     ]
    },
    {
     "data": {
      "text/plain": [
       "([mean: 0.54230, std: 0.00712, params: {'n_estimators': 600},\n",
       "  mean: 0.54230, std: 0.00712, params: {'n_estimators': 610},\n",
       "  mean: 0.54230, std: 0.00712, params: {'n_estimators': 620},\n",
       "  mean: 0.54222, std: 0.00706, params: {'n_estimators': 630},\n",
       "  mean: 0.54222, std: 0.00706, params: {'n_estimators': 640},\n",
       "  mean: 0.54222, std: 0.00706, params: {'n_estimators': 650},\n",
       "  mean: 0.54222, std: 0.00706, params: {'n_estimators': 660},\n",
       "  mean: 0.54222, std: 0.00706, params: {'n_estimators': 670},\n",
       "  mean: 0.54222, std: 0.00706, params: {'n_estimators': 680},\n",
       "  mean: 0.54222, std: 0.00706, params: {'n_estimators': 690}],\n",
       " {'n_estimators': 600},\n",
       " 0.54229603470106902)"
      ]
     },
     "execution_count": 69,
     "metadata": {},
     "output_type": "execute_result"
    }
   ],
   "source": [
    "\n",
    "param_test1 = {\n",
    "    'n_estimators': [i for i in range(600,700,10)]\n",
    "}\n",
    "gsearch1 = GridSearchCV(estimator = clf_2, param_grid = param_test1, scoring='accuracy',n_jobs=4,iid=False)\n",
    "\n",
    "gsearch1.fit(X_train_b,y_train_b)\n",
    "gsearch1.grid_scores_, gsearch1.best_params_, gsearch1.best_score_\n",
    "\n"
   ]
  },
  {
   "cell_type": "code",
   "execution_count": 70,
   "metadata": {},
   "outputs": [
    {
     "name": "stdout",
     "output_type": "stream",
     "text": [
      "AdaBoostClassifier trained.\n"
     ]
    }
   ],
   "source": [
    "clf_3 = AdaBoostClassifier(base_estimator=tree.DecisionTreeClassifier(max_depth=1),\n",
    "                         algorithm=\"SAMME\",\n",
    "                         n_estimators=600, random_state = 1,learning_rate=0.016)\n",
    "\n",
    "results = train_predict(clf_3, X_train_b, y_train_b, X_test_b, y_test_b)"
   ]
  },
  {
   "cell_type": "code",
   "execution_count": 71,
   "metadata": {},
   "outputs": [
    {
     "data": {
      "text/plain": [
       "{'acc_test': 0.54850982878883958,\n",
       " 'acc_train': 0.56666666666666665,\n",
       " 'f_test': 0.54850982878883958,\n",
       " 'f_train': 0.56666666666666665,\n",
       " 'train_time': 25.849900484085083}"
      ]
     },
     "execution_count": 71,
     "metadata": {},
     "output_type": "execute_result"
    }
   ],
   "source": [
    "results"
   ]
  },
  {
   "cell_type": "markdown",
   "metadata": {},
   "source": [
    "After tuning some parameters, we were able to reach an accuracy of 54.8% on this dataset! Let's try adding the team ratings features and removing the Betting features."
   ]
  },
  {
   "cell_type": "markdown",
   "metadata": {},
   "source": [
    "## Adaboost Model on Dataset with Team Ratings and No Bets"
   ]
  },
  {
   "cell_type": "code",
   "execution_count": 73,
   "metadata": {
    "collapsed": true
   },
   "outputs": [],
   "source": [
    "data = pd.read_csv('Data_Structures/FINAL_BASE_DATASET_TEAM_RATINGS_ADDED_NO_BETS_ZEROS_NOT_REMOVED.csv',index_col=0)"
   ]
  },
  {
   "cell_type": "code",
   "execution_count": 74,
   "metadata": {},
   "outputs": [
    {
     "name": "stdout",
     "output_type": "stream",
     "text": [
      "Training set has 13887 samples.\n",
      "Testing set has 3472 samples.\n"
     ]
    }
   ],
   "source": [
    "\n",
    "X_data=data.drop(['Label'],axis=1)\n",
    "Y_data=data['Label']\n",
    "\n",
    "s = StratifiedShuffleSplit(n_splits=2, test_size = 0.2, random_state=0)\n",
    "for train_index, test_index in s.split(X_data, Y_data):\n",
    "    #print(\"TRAIN:\", train_index, \"TEST:\", test_index)\n",
    "    X_train_b, X_test_b = X_data.iloc[train_index], X_data.iloc[test_index]\n",
    "    y_train_b, y_test_b = Y_data.iloc[train_index], Y_data.iloc[test_index]\n",
    "\n",
    "\n",
    "# Show the results of the split\n",
    "print (\"Training set has {} samples.\".format(X_train_b.shape[0]))\n",
    "print (\"Testing set has {} samples.\".format(X_test_b.shape[0]))"
   ]
  },
  {
   "cell_type": "code",
   "execution_count": 45,
   "metadata": {
    "collapsed": true
   },
   "outputs": [],
   "source": [
    "clf = AdaBoostClassifier(base_estimator=tree.DecisionTreeClassifier(max_depth=1),\n",
    "                         algorithm=\"SAMME.R\",\n",
    "                         n_estimators=1000, random_state = 1)"
   ]
  },
  {
   "cell_type": "code",
   "execution_count": 46,
   "metadata": {},
   "outputs": [
    {
     "name": "stdout",
     "output_type": "stream",
     "text": [
      "AdaBoostClassifier trained.\n"
     ]
    }
   ],
   "source": [
    "results = train_predict(clf, X_train_b, y_train_b, X_test_b, y_test_b)"
   ]
  },
  {
   "cell_type": "code",
   "execution_count": 47,
   "metadata": {},
   "outputs": [
    {
     "data": {
      "text/plain": [
       "{'acc_test': 0.52880184331797231,\n",
       " 'acc_train': 0.57333333333333336,\n",
       " 'f_test': 0.52880184331797231,\n",
       " 'f_train': 0.57333333333333336,\n",
       " 'train_time': 44.221764087677}"
      ]
     },
     "execution_count": 47,
     "metadata": {},
     "output_type": "execute_result"
    }
   ],
   "source": [
    "results"
   ]
  },
  {
   "cell_type": "code",
   "execution_count": 48,
   "metadata": {},
   "outputs": [
    {
     "name": "stdout",
     "output_type": "stream",
     "text": [
      "******************************************************************\n",
      "Confusion matrix for AdaBoost classifier\n",
      "Normalized confusion matrix\n",
      "[[ 0.46  0.11  0.44]\n",
      " [ 0.23  0.16  0.61]\n",
      " [ 0.13  0.09  0.78]]\n"
     ]
    },
    {
     "data": {
      "image/png": "[encoded data removed]",
      "text/plain": [
       "<matplotlib.figure.Figure at 0x27be9bfd160>"
      ]
     },
     "metadata": {},
     "output_type": "display_data"
    }
   ],
   "source": [
    "'''\n",
    "CONFUSIOM MATRIX FOR ADABOOST\n",
    "'''\n",
    "y_pred = clf.predict(X_test_b)\n",
    "cnf_matrix_adaboost = confusion_matrix(y_test_b, y_pred)\n",
    "np.set_printoptions(precision=2)\n",
    "\n",
    "\n",
    "CLASSES_NAME = le.inverse_transform([0,1,2])\n",
    "\n",
    "print (\"******************************************************************\")\n",
    "print (\"Confusion matrix for AdaBoost classifier\")\n",
    "plt.figure()\n",
    "plot_confusion_matrix(cnf_matrix_adaboost, classes=CLASSES_NAME, normalize=True,\n",
    "                      title='Normalized confusion matrix AdaBoost')\n",
    "plt.show()\n"
   ]
  },
  {
   "cell_type": "code",
   "execution_count": 49,
   "metadata": {},
   "outputs": [
    {
     "name": "stdout",
     "output_type": "stream",
     "text": [
      "Fitting 3 folds for each of 4 candidates, totalling 12 fits\n",
      "[CV] algorithm=SAMME, base_estimator=DecisionTreeClassifier(class_weight=None, criterion='gini', max_depth=1,\n",
      "            max_features=None, max_leaf_nodes=None,\n",
      "            min_impurity_decrease=0.0, min_impurity_split=None,\n",
      "            min_samples_leaf=1, min_samples_split=2,\n",
      "            min_weight_fraction_leaf=0.0, presort=False, random_state=None,\n",
      "            splitter='best'), n_estimators=1000, random_state=1 \n",
      "[CV]  algorithm=SAMME, base_estimator=DecisionTreeClassifier(class_weight=None, criterion='gini', max_depth=1,\n",
      "            max_features=None, max_leaf_nodes=None,\n",
      "            min_impurity_decrease=0.0, min_impurity_split=None,\n",
      "            min_samples_leaf=1, min_samples_split=2,\n",
      "            min_weight_fraction_leaf=0.0, presort=False, random_state=None,\n",
      "            splitter='best'), n_estimators=1000, random_state=1, score=0.5295896328293737, total=  29.0s\n",
      "[CV] algorithm=SAMME, base_estimator=DecisionTreeClassifier(class_weight=None, criterion='gini', max_depth=1,\n",
      "            max_features=None, max_leaf_nodes=None,\n",
      "            min_impurity_decrease=0.0, min_impurity_split=None,\n",
      "            min_samples_leaf=1, min_samples_split=2,\n",
      "            min_weight_fraction_leaf=0.0, presort=False, random_state=None,\n",
      "            splitter='best'), n_estimators=1000, random_state=1 \n"
     ]
    },
    {
     "name": "stderr",
     "output_type": "stream",
     "text": [
      "[Parallel(n_jobs=1)]: Done   1 out of   1 | elapsed:   29.5s remaining:    0.0s\n"
     ]
    },
    {
     "name": "stdout",
     "output_type": "stream",
     "text": [
      "[CV]  algorithm=SAMME, base_estimator=DecisionTreeClassifier(class_weight=None, criterion='gini', max_depth=1,\n",
      "            max_features=None, max_leaf_nodes=None,\n",
      "            min_impurity_decrease=0.0, min_impurity_split=None,\n",
      "            min_samples_leaf=1, min_samples_split=2,\n",
      "            min_weight_fraction_leaf=0.0, presort=False, random_state=None,\n",
      "            splitter='best'), n_estimators=1000, random_state=1, score=0.5222462203023758, total=  28.6s\n",
      "[CV] algorithm=SAMME, base_estimator=DecisionTreeClassifier(class_weight=None, criterion='gini', max_depth=1,\n",
      "            max_features=None, max_leaf_nodes=None,\n",
      "            min_impurity_decrease=0.0, min_impurity_split=None,\n",
      "            min_samples_leaf=1, min_samples_split=2,\n",
      "            min_weight_fraction_leaf=0.0, presort=False, random_state=None,\n",
      "            splitter='best'), n_estimators=1000, random_state=1 \n"
     ]
    },
    {
     "name": "stderr",
     "output_type": "stream",
     "text": [
      "[Parallel(n_jobs=1)]: Done   2 out of   2 | elapsed:   58.7s remaining:    0.0s\n"
     ]
    },
    {
     "name": "stdout",
     "output_type": "stream",
     "text": [
      "[CV]  algorithm=SAMME, base_estimator=DecisionTreeClassifier(class_weight=None, criterion='gini', max_depth=1,\n",
      "            max_features=None, max_leaf_nodes=None,\n",
      "            min_impurity_decrease=0.0, min_impurity_split=None,\n",
      "            min_samples_leaf=1, min_samples_split=2,\n",
      "            min_weight_fraction_leaf=0.0, presort=False, random_state=None,\n",
      "            splitter='best'), n_estimators=1000, random_state=1, score=0.5390101577696131, total=  28.2s\n",
      "[CV] algorithm=SAMME, base_estimator=DecisionTreeClassifier(class_weight=None, criterion='gini', max_depth=2,\n",
      "            max_features=None, max_leaf_nodes=None,\n",
      "            min_impurity_decrease=0.0, min_impurity_split=None,\n",
      "            min_samples_leaf=1, min_samples_split=2,\n",
      "            min_weight_fraction_leaf=0.0, presort=False, random_state=None,\n",
      "            splitter='best'), n_estimators=1000, random_state=1 \n"
     ]
    },
    {
     "name": "stderr",
     "output_type": "stream",
     "text": [
      "[Parallel(n_jobs=1)]: Done   3 out of   3 | elapsed:  1.5min remaining:    0.0s\n"
     ]
    },
    {
     "name": "stdout",
     "output_type": "stream",
     "text": [
      "[CV]  algorithm=SAMME, base_estimator=DecisionTreeClassifier(class_weight=None, criterion='gini', max_depth=2,\n",
      "            max_features=None, max_leaf_nodes=None,\n",
      "            min_impurity_decrease=0.0, min_impurity_split=None,\n",
      "            min_samples_leaf=1, min_samples_split=2,\n",
      "            min_weight_fraction_leaf=0.0, presort=False, random_state=None,\n",
      "            splitter='best'), n_estimators=1000, random_state=1, score=0.5205183585313174, total=  54.4s\n",
      "[CV] algorithm=SAMME, base_estimator=DecisionTreeClassifier(class_weight=None, criterion='gini', max_depth=2,\n",
      "            max_features=None, max_leaf_nodes=None,\n",
      "            min_impurity_decrease=0.0, min_impurity_split=None,\n",
      "            min_samples_leaf=1, min_samples_split=2,\n",
      "            min_weight_fraction_leaf=0.0, presort=False, random_state=None,\n",
      "            splitter='best'), n_estimators=1000, random_state=1 \n"
     ]
    },
    {
     "name": "stderr",
     "output_type": "stream",
     "text": [
      "[Parallel(n_jobs=1)]: Done   4 out of   4 | elapsed:  2.4min remaining:    0.0s\n"
     ]
    },
    {
     "name": "stdout",
     "output_type": "stream",
     "text": [
      "[CV]  algorithm=SAMME, base_estimator=DecisionTreeClassifier(class_weight=None, criterion='gini', max_depth=2,\n",
      "            max_features=None, max_leaf_nodes=None,\n",
      "            min_impurity_decrease=0.0, min_impurity_split=None,\n",
      "            min_samples_leaf=1, min_samples_split=2,\n",
      "            min_weight_fraction_leaf=0.0, presort=False, random_state=None,\n",
      "            splitter='best'), n_estimators=1000, random_state=1, score=0.5287257019438445, total=  54.1s\n",
      "[CV] algorithm=SAMME, base_estimator=DecisionTreeClassifier(class_weight=None, criterion='gini', max_depth=2,\n",
      "            max_features=None, max_leaf_nodes=None,\n",
      "            min_impurity_decrease=0.0, min_impurity_split=None,\n",
      "            min_samples_leaf=1, min_samples_split=2,\n",
      "            min_weight_fraction_leaf=0.0, presort=False, random_state=None,\n",
      "            splitter='best'), n_estimators=1000, random_state=1 \n",
      "[CV]  algorithm=SAMME, base_estimator=DecisionTreeClassifier(class_weight=None, criterion='gini', max_depth=2,\n",
      "            max_features=None, max_leaf_nodes=None,\n",
      "            min_impurity_decrease=0.0, min_impurity_split=None,\n",
      "            min_samples_leaf=1, min_samples_split=2,\n",
      "            min_weight_fraction_leaf=0.0, presort=False, random_state=None,\n",
      "            splitter='best'), n_estimators=1000, random_state=1, score=0.5314458612491896, total=  54.2s\n",
      "[CV] algorithm=SAMME.R, base_estimator=DecisionTreeClassifier(class_weight=None, criterion='gini', max_depth=1,\n",
      "            max_features=None, max_leaf_nodes=None,\n",
      "            min_impurity_decrease=0.0, min_impurity_split=None,\n",
      "            min_samples_leaf=1, min_samples_split=2,\n",
      "            min_weight_fraction_leaf=0.0, presort=False, random_state=None,\n",
      "            splitter='best'), n_estimators=1000, random_state=1 \n",
      "[CV]  algorithm=SAMME.R, base_estimator=DecisionTreeClassifier(class_weight=None, criterion='gini', max_depth=1,\n",
      "            max_features=None, max_leaf_nodes=None,\n",
      "            min_impurity_decrease=0.0, min_impurity_split=None,\n",
      "            min_samples_leaf=1, min_samples_split=2,\n",
      "            min_weight_fraction_leaf=0.0, presort=False, random_state=None,\n",
      "            splitter='best'), n_estimators=1000, random_state=1, score=0.5086393088552916, total=  29.6s\n",
      "[CV] algorithm=SAMME.R, base_estimator=DecisionTreeClassifier(class_weight=None, criterion='gini', max_depth=1,\n",
      "            max_features=None, max_leaf_nodes=None,\n",
      "            min_impurity_decrease=0.0, min_impurity_split=None,\n",
      "            min_samples_leaf=1, min_samples_split=2,\n",
      "            min_weight_fraction_leaf=0.0, presort=False, random_state=None,\n",
      "            splitter='best'), n_estimators=1000, random_state=1 \n",
      "[CV]  algorithm=SAMME.R, base_estimator=DecisionTreeClassifier(class_weight=None, criterion='gini', max_depth=1,\n",
      "            max_features=None, max_leaf_nodes=None,\n",
      "            min_impurity_decrease=0.0, min_impurity_split=None,\n",
      "            min_samples_leaf=1, min_samples_split=2,\n",
      "            min_weight_fraction_leaf=0.0, presort=False, random_state=None,\n",
      "            splitter='best'), n_estimators=1000, random_state=1, score=0.5086393088552916, total=  29.4s\n",
      "[CV] algorithm=SAMME.R, base_estimator=DecisionTreeClassifier(class_weight=None, criterion='gini', max_depth=1,\n",
      "            max_features=None, max_leaf_nodes=None,\n",
      "            min_impurity_decrease=0.0, min_impurity_split=None,\n",
      "            min_samples_leaf=1, min_samples_split=2,\n",
      "            min_weight_fraction_leaf=0.0, presort=False, random_state=None,\n",
      "            splitter='best'), n_estimators=1000, random_state=1 \n",
      "[CV]  algorithm=SAMME.R, base_estimator=DecisionTreeClassifier(class_weight=None, criterion='gini', max_depth=1,\n",
      "            max_features=None, max_leaf_nodes=None,\n",
      "            min_impurity_decrease=0.0, min_impurity_split=None,\n",
      "            min_samples_leaf=1, min_samples_split=2,\n",
      "            min_weight_fraction_leaf=0.0, presort=False, random_state=None,\n",
      "            splitter='best'), n_estimators=1000, random_state=1, score=0.5048627620488437, total=  29.4s\n",
      "[CV] algorithm=SAMME.R, base_estimator=DecisionTreeClassifier(class_weight=None, criterion='gini', max_depth=2,\n",
      "            max_features=None, max_leaf_nodes=None,\n",
      "            min_impurity_decrease=0.0, min_impurity_split=None,\n",
      "            min_samples_leaf=1, min_samples_split=2,\n",
      "            min_weight_fraction_leaf=0.0, presort=False, random_state=None,\n",
      "            splitter='best'), n_estimators=1000, random_state=1 \n",
      "[CV]  algorithm=SAMME.R, base_estimator=DecisionTreeClassifier(class_weight=None, criterion='gini', max_depth=2,\n",
      "            max_features=None, max_leaf_nodes=None,\n",
      "            min_impurity_decrease=0.0, min_impurity_split=None,\n",
      "            min_samples_leaf=1, min_samples_split=2,\n",
      "            min_weight_fraction_leaf=0.0, presort=False, random_state=None,\n",
      "            splitter='best'), n_estimators=1000, random_state=1, score=0.4742980561555076, total=  55.3s\n",
      "[CV] algorithm=SAMME.R, base_estimator=DecisionTreeClassifier(class_weight=None, criterion='gini', max_depth=2,\n",
      "            max_features=None, max_leaf_nodes=None,\n",
      "            min_impurity_decrease=0.0, min_impurity_split=None,\n",
      "            min_samples_leaf=1, min_samples_split=2,\n",
      "            min_weight_fraction_leaf=0.0, presort=False, random_state=None,\n",
      "            splitter='best'), n_estimators=1000, random_state=1 \n",
      "[CV]  algorithm=SAMME.R, base_estimator=DecisionTreeClassifier(class_weight=None, criterion='gini', max_depth=2,\n",
      "            max_features=None, max_leaf_nodes=None,\n",
      "            min_impurity_decrease=0.0, min_impurity_split=None,\n",
      "            min_samples_leaf=1, min_samples_split=2,\n",
      "            min_weight_fraction_leaf=0.0, presort=False, random_state=None,\n",
      "            splitter='best'), n_estimators=1000, random_state=1, score=0.4663066954643629, total=  55.3s\n",
      "[CV] algorithm=SAMME.R, base_estimator=DecisionTreeClassifier(class_weight=None, criterion='gini', max_depth=2,\n",
      "            max_features=None, max_leaf_nodes=None,\n",
      "            min_impurity_decrease=0.0, min_impurity_split=None,\n",
      "            min_samples_leaf=1, min_samples_split=2,\n",
      "            min_weight_fraction_leaf=0.0, presort=False, random_state=None,\n",
      "            splitter='best'), n_estimators=1000, random_state=1 \n",
      "[CV]  algorithm=SAMME.R, base_estimator=DecisionTreeClassifier(class_weight=None, criterion='gini', max_depth=2,\n",
      "            max_features=None, max_leaf_nodes=None,\n",
      "            min_impurity_decrease=0.0, min_impurity_split=None,\n",
      "            min_samples_leaf=1, min_samples_split=2,\n",
      "            min_weight_fraction_leaf=0.0, presort=False, random_state=None,\n",
      "            splitter='best'), n_estimators=1000, random_state=1, score=0.46531229738491464, total=  55.2s\n"
     ]
    },
    {
     "name": "stderr",
     "output_type": "stream",
     "text": [
      "[Parallel(n_jobs=1)]: Done  12 out of  12 | elapsed:  8.6min finished\n"
     ]
    }
   ],
   "source": [
    "# Initialize the classifier\n",
    "clf = AdaBoostClassifier()\n",
    "\n",
    "\n",
    "'''\n",
    "MY BASE CLASSIFIER\n",
    "clf = AdaBoostClassifier(base_estimator=tree.DecisionTreeClassifier(max_depth=1),\n",
    "                         algorithm=\"SAMME.R\",\n",
    "                         n_estimators=1000, random_state = 1)\n",
    "                         \n",
    "'''\n",
    "parameters = {'base_estimator': [tree.DecisionTreeClassifier(max_depth=1),\n",
    "                                tree.DecisionTreeClassifier(max_depth=2)], \n",
    "              'n_estimators': [1000], \n",
    "              'algorithm' : ['SAMME', 'SAMME.R'],\n",
    "              'random_state' : [1]}\n",
    "\n",
    "# Make an fbeta_score scoring object using make_scorer()\n",
    "#scorer = make_scorer(fbeta_score, beta=0.5, average='weighted')\n",
    "\n",
    "# Perform grid search on the classifier using 'scorer' as the scoring method using GridSearchCV()\n",
    "\n",
    "grid_obj = GridSearchCV(clf, parameters, scoring = \"accuracy\", verbose = 5)\n",
    "\n",
    "#Fit the grid search object to the training data and find the optimal parameters using fit()\n",
    "grid_fit = grid_obj.fit(X_train_b, y_train_b)\n"
   ]
  },
  {
   "cell_type": "code",
   "execution_count": 50,
   "metadata": {},
   "outputs": [
    {
     "name": "stdout",
     "output_type": "stream",
     "text": [
      "AdaBoostClassifier(algorithm='SAMME',\n",
      "          base_estimator=DecisionTreeClassifier(class_weight=None, criterion='gini', max_depth=1,\n",
      "            max_features=None, max_leaf_nodes=None,\n",
      "            min_impurity_decrease=0.0, min_impurity_split=None,\n",
      "            min_samples_leaf=1, min_samples_split=2,\n",
      "            min_weight_fraction_leaf=0.0, presort=False, random_state=None,\n",
      "            splitter='best'),\n",
      "          learning_rate=1.0, n_estimators=1000, random_state=1)\n",
      "Unoptimized model\n",
      "------\n",
      "AdaBoostClassifier trained.\n",
      "{'train_time': 43.68955445289612, 'acc_train': 0.57333333333333336, 'acc_test': 0.52880184331797231, 'f_train': 0.57333333333333336, 'f_test': 0.52880184331797231}\n",
      "\n",
      "Optimized Model\n",
      "------\n",
      "AdaBoostClassifier trained.\n",
      "{'train_time': 42.29925179481506, 'acc_train': 0.53666666666666663, 'acc_test': 0.5429147465437788, 'f_train': 0.53666666666666663, 'f_test': 0.5429147465437788}\n"
     ]
    }
   ],
   "source": [
    "## Unoptimized Model\n",
    "clf = AdaBoostClassifier(base_estimator=tree.DecisionTreeClassifier(max_depth=1),\n",
    "                         algorithm=\"SAMME.R\",\n",
    "                         n_estimators=1000, random_state = 1)\n",
    "\n",
    "# Get the estimator\n",
    "best_clf = grid_fit.best_estimator_\n",
    "print (best_clf)\n",
    "\n",
    "# Make predictions using the unoptimized and model\n",
    "print (\"Unoptimized model\\n------\")\n",
    "results = train_predict(clf, X_train_b, y_train_b, X_test_b, y_test_b)\n",
    "print(results)\n",
    "print (\"\\nOptimized Model\\n------\")\n",
    "results = train_predict(best_clf, X_train_b, y_train_b, X_test_b, y_test_b)\n",
    "print(results)\n"
   ]
  },
  {
   "cell_type": "markdown",
   "metadata": {},
   "source": [
    "### Let's do some more tuning"
   ]
  },
  {
   "cell_type": "code",
   "execution_count": 72,
   "metadata": {
    "collapsed": true
   },
   "outputs": [],
   "source": [
    "## Unoptimized Model\n",
    "clf = AdaBoostClassifier(base_estimator=tree.DecisionTreeClassifier(max_depth=1),\n",
    "                         algorithm=\"SAMME.R\",\n",
    "                         n_estimators=1000, random_state = 1)"
   ]
  },
  {
   "cell_type": "code",
   "execution_count": 75,
   "metadata": {},
   "outputs": [
    {
     "name": "stderr",
     "output_type": "stream",
     "text": [
      "D:\\Users\\karel\\Anaconda3\\lib\\site-packages\\sklearn\\model_selection\\_search.py:761: DeprecationWarning: The grid_scores_ attribute was deprecated in version 0.18 in favor of the more elaborate cv_results_ attribute. The grid_scores_ attribute will not be available from 0.20\n",
      "  DeprecationWarning)\n"
     ]
    },
    {
     "data": {
      "text/plain": [
       "([mean: 0.50738, std: 0.00178, params: {'algorithm': 'SAMME.R'},\n",
       "  mean: 0.53028, std: 0.00686, params: {'algorithm': 'SAMME'}],\n",
       " {'algorithm': 'SAMME'},\n",
       " 0.53028200363378752)"
      ]
     },
     "execution_count": 75,
     "metadata": {},
     "output_type": "execute_result"
    }
   ],
   "source": [
    "\n",
    "param_test1 = {\n",
    "    'algorithm': ['SAMME.R','SAMME']\n",
    "}\n",
    "gsearch1 = GridSearchCV(estimator = clf, param_grid = param_test1, scoring='accuracy',n_jobs=4,iid=False)\n",
    "\n",
    "gsearch1.fit(X_train_b,y_train_b)\n",
    "gsearch1.grid_scores_, gsearch1.best_params_, gsearch1.best_score_\n",
    "\n"
   ]
  },
  {
   "cell_type": "code",
   "execution_count": 76,
   "metadata": {},
   "outputs": [
    {
     "name": "stderr",
     "output_type": "stream",
     "text": [
      "D:\\Users\\karel\\Anaconda3\\lib\\site-packages\\sklearn\\model_selection\\_search.py:761: DeprecationWarning: The grid_scores_ attribute was deprecated in version 0.18 in favor of the more elaborate cv_results_ attribute. The grid_scores_ attribute will not be available from 0.20\n",
      "  DeprecationWarning)\n"
     ]
    },
    {
     "data": {
      "text/plain": [
       "([mean: 0.53028, std: 0.00686, params: {'base_estimator': DecisionTreeClassifier(class_weight=None, criterion='gini', max_depth=1,\n",
       "            max_features=None, max_leaf_nodes=None,\n",
       "            min_impurity_decrease=0.0, min_impurity_split=None,\n",
       "            min_samples_leaf=1, min_samples_split=2,\n",
       "            min_weight_fraction_leaf=0.0, presort=False, random_state=None,\n",
       "            splitter='best')},\n",
       "  mean: 0.52690, std: 0.00464, params: {'base_estimator': DecisionTreeClassifier(class_weight=None, criterion='gini', max_depth=2,\n",
       "            max_features=None, max_leaf_nodes=None,\n",
       "            min_impurity_decrease=0.0, min_impurity_split=None,\n",
       "            min_samples_leaf=1, min_samples_split=2,\n",
       "            min_weight_fraction_leaf=0.0, presort=False, random_state=None,\n",
       "            splitter='best')},\n",
       "  mean: 0.51624, std: 0.00552, params: {'base_estimator': DecisionTreeClassifier(class_weight=None, criterion='gini', max_depth=3,\n",
       "            max_features=None, max_leaf_nodes=None,\n",
       "            min_impurity_decrease=0.0, min_impurity_split=None,\n",
       "            min_samples_leaf=1, min_samples_split=2,\n",
       "            min_weight_fraction_leaf=0.0, presort=False, random_state=None,\n",
       "            splitter='best')},\n",
       "  mean: 0.50205, std: 0.00291, params: {'base_estimator': DecisionTreeClassifier(class_weight=None, criterion='gini', max_depth=4,\n",
       "            max_features=None, max_leaf_nodes=None,\n",
       "            min_impurity_decrease=0.0, min_impurity_split=None,\n",
       "            min_samples_leaf=1, min_samples_split=2,\n",
       "            min_weight_fraction_leaf=0.0, presort=False, random_state=None,\n",
       "            splitter='best')}],\n",
       " {'base_estimator': DecisionTreeClassifier(class_weight=None, criterion='gini', max_depth=1,\n",
       "              max_features=None, max_leaf_nodes=None,\n",
       "              min_impurity_decrease=0.0, min_impurity_split=None,\n",
       "              min_samples_leaf=1, min_samples_split=2,\n",
       "              min_weight_fraction_leaf=0.0, presort=False, random_state=None,\n",
       "              splitter='best')},\n",
       " 0.53028200363378752)"
      ]
     },
     "execution_count": 76,
     "metadata": {},
     "output_type": "execute_result"
    }
   ],
   "source": [
    "clf_1 = AdaBoostClassifier(base_estimator=tree.DecisionTreeClassifier(max_depth=1),\n",
    "                         algorithm=\"SAMME\",\n",
    "                         n_estimators=1000, random_state = 1)\n",
    "param_test1 = {\n",
    "    'base_estimator': [tree.DecisionTreeClassifier(max_depth=x) for x in range(1,5)]\n",
    "}\n",
    "gsearch1 = GridSearchCV(estimator = clf_1, param_grid = param_test1, scoring='accuracy',n_jobs=4,iid=False)\n",
    "\n",
    "gsearch1.fit(X_train_b,y_train_b)\n",
    "gsearch1.grid_scores_, gsearch1.best_params_, gsearch1.best_score_\n",
    "\n"
   ]
  },
  {
   "cell_type": "code",
   "execution_count": 77,
   "metadata": {},
   "outputs": [
    {
     "name": "stderr",
     "output_type": "stream",
     "text": [
      "D:\\Users\\karel\\Anaconda3\\lib\\site-packages\\sklearn\\model_selection\\_search.py:761: DeprecationWarning: The grid_scores_ attribute was deprecated in version 0.18 in favor of the more elaborate cv_results_ attribute. The grid_scores_ attribute will not be available from 0.20\n",
      "  DeprecationWarning)\n"
     ]
    },
    {
     "data": {
      "text/plain": [
       "([mean: 0.51725, std: 0.00548, params: {'learning_rate': 0.001},\n",
       "  mean: 0.52783, std: 0.00544, params: {'learning_rate': 0.006},\n",
       "  mean: 0.52877, std: 0.00613, params: {'learning_rate': 0.011},\n",
       "  mean: 0.52999, std: 0.00619, params: {'learning_rate': 0.016},\n",
       "  mean: 0.53057, std: 0.00507, params: {'learning_rate': 0.021},\n",
       "  mean: 0.53194, std: 0.00570, params: {'learning_rate': 0.026},\n",
       "  mean: 0.53215, std: 0.00561, params: {'learning_rate': 0.031},\n",
       "  mean: 0.53223, std: 0.00492, params: {'learning_rate': 0.036},\n",
       "  mean: 0.53215, std: 0.00544, params: {'learning_rate': 0.041},\n",
       "  mean: 0.53165, std: 0.00593, params: {'learning_rate': 0.046}],\n",
       " {'learning_rate': 0.036},\n",
       " 0.53222561473232133)"
      ]
     },
     "execution_count": 77,
     "metadata": {},
     "output_type": "execute_result"
    }
   ],
   "source": [
    "\n",
    "param_test1 = {\n",
    "    'learning_rate': [i/1000.0 for i in range(1,50,5)]\n",
    "}\n",
    "gsearch1 = GridSearchCV(estimator = clf_1, param_grid = param_test1, scoring='accuracy',n_jobs=4,iid=False)\n",
    "\n",
    "gsearch1.fit(X_train_b,y_train_b)\n",
    "gsearch1.grid_scores_, gsearch1.best_params_, gsearch1.best_score_\n",
    "\n"
   ]
  },
  {
   "cell_type": "code",
   "execution_count": 78,
   "metadata": {},
   "outputs": [
    {
     "name": "stderr",
     "output_type": "stream",
     "text": [
      "D:\\Users\\karel\\Anaconda3\\lib\\site-packages\\sklearn\\model_selection\\_search.py:761: DeprecationWarning: The grid_scores_ attribute was deprecated in version 0.18 in favor of the more elaborate cv_results_ attribute. The grid_scores_ attribute will not be available from 0.20\n",
      "  DeprecationWarning)\n"
     ]
    },
    {
     "data": {
      "text/plain": [
       "([mean: 0.52308, std: 0.00639, params: {'n_estimators': 100},\n",
       "  mean: 0.52884, std: 0.00546, params: {'n_estimators': 200},\n",
       "  mean: 0.52877, std: 0.00599, params: {'n_estimators': 300},\n",
       "  mean: 0.52992, std: 0.00590, params: {'n_estimators': 400},\n",
       "  mean: 0.53028, std: 0.00578, params: {'n_estimators': 500},\n",
       "  mean: 0.53100, std: 0.00492, params: {'n_estimators': 600},\n",
       "  mean: 0.53136, std: 0.00561, params: {'n_estimators': 700},\n",
       "  mean: 0.53244, std: 0.00618, params: {'n_estimators': 800},\n",
       "  mean: 0.53223, std: 0.00538, params: {'n_estimators': 900},\n",
       "  mean: 0.53223, std: 0.00492, params: {'n_estimators': 1000},\n",
       "  mean: 0.53208, std: 0.00508, params: {'n_estimators': 1100},\n",
       "  mean: 0.53251, std: 0.00553, params: {'n_estimators': 1200},\n",
       "  mean: 0.53237, std: 0.00536, params: {'n_estimators': 1300},\n",
       "  mean: 0.53251, std: 0.00513, params: {'n_estimators': 1400}],\n",
       " {'n_estimators': 1200},\n",
       " 0.532513918445634)"
      ]
     },
     "execution_count": 78,
     "metadata": {},
     "output_type": "execute_result"
    }
   ],
   "source": [
    "clf_2 = AdaBoostClassifier(base_estimator=tree.DecisionTreeClassifier(max_depth=1),\n",
    "                         algorithm=\"SAMME\",\n",
    "                         n_estimators=1000, random_state = 1,learning_rate=0.036)\n",
    "param_test1 = {\n",
    "    'n_estimators': [i for i in range(100,1500,100)]\n",
    "}\n",
    "gsearch1 = GridSearchCV(estimator = clf_2, param_grid = param_test1, scoring='accuracy',n_jobs=4,iid=False)\n",
    "\n",
    "gsearch1.fit(X_train_b,y_train_b)\n",
    "gsearch1.grid_scores_, gsearch1.best_params_, gsearch1.best_score_\n",
    "\n"
   ]
  },
  {
   "cell_type": "code",
   "execution_count": 79,
   "metadata": {},
   "outputs": [
    {
     "name": "stderr",
     "output_type": "stream",
     "text": [
      "D:\\Users\\karel\\Anaconda3\\lib\\site-packages\\sklearn\\model_selection\\_search.py:761: DeprecationWarning: The grid_scores_ attribute was deprecated in version 0.18 in favor of the more elaborate cv_results_ attribute. The grid_scores_ attribute will not be available from 0.20\n",
      "  DeprecationWarning)\n"
     ]
    },
    {
     "data": {
      "text/plain": [
       "([mean: 0.53251, std: 0.00553, params: {'n_estimators': 1200},\n",
       "  mean: 0.53251, std: 0.00517, params: {'n_estimators': 1210},\n",
       "  mean: 0.53266, std: 0.00556, params: {'n_estimators': 1220},\n",
       "  mean: 0.53266, std: 0.00538, params: {'n_estimators': 1230},\n",
       "  mean: 0.53259, std: 0.00547, params: {'n_estimators': 1240},\n",
       "  mean: 0.53223, std: 0.00521, params: {'n_estimators': 1250},\n",
       "  mean: 0.53251, std: 0.00527, params: {'n_estimators': 1260},\n",
       "  mean: 0.53273, std: 0.00537, params: {'n_estimators': 1270},\n",
       "  mean: 0.53259, std: 0.00536, params: {'n_estimators': 1280},\n",
       "  mean: 0.53251, std: 0.00535, params: {'n_estimators': 1290}],\n",
       " {'n_estimators': 1270},\n",
       " 0.53272994784579752)"
      ]
     },
     "execution_count": 79,
     "metadata": {},
     "output_type": "execute_result"
    }
   ],
   "source": [
    "param_test1 = {\n",
    "    'n_estimators': [i for i in range(1200,1300,10)]\n",
    "}\n",
    "gsearch1 = GridSearchCV(estimator = clf_2, param_grid = param_test1, scoring='accuracy',n_jobs=4,iid=False)\n",
    "\n",
    "gsearch1.fit(X_train_b,y_train_b)\n",
    "gsearch1.grid_scores_, gsearch1.best_params_, gsearch1.best_score_\n",
    "\n"
   ]
  },
  {
   "cell_type": "code",
   "execution_count": 80,
   "metadata": {},
   "outputs": [
    {
     "name": "stdout",
     "output_type": "stream",
     "text": [
      "AdaBoostClassifier trained.\n"
     ]
    }
   ],
   "source": [
    "clf_3 = AdaBoostClassifier(base_estimator=tree.DecisionTreeClassifier(max_depth=1),\n",
    "                         algorithm=\"SAMME\",\n",
    "                         n_estimators=1270, random_state = 1,learning_rate=0.036)\n",
    "\n",
    "results = train_predict(clf_3, X_train_b, y_train_b, X_test_b, y_test_b)"
   ]
  },
  {
   "cell_type": "code",
   "execution_count": 81,
   "metadata": {},
   "outputs": [
    {
     "data": {
      "text/plain": [
       "{'acc_test': 0.54089861751152069,\n",
       " 'acc_train': 0.52333333333333332,\n",
       " 'f_test': 0.54089861751152069,\n",
       " 'f_train': 0.52333333333333332,\n",
       " 'train_time': 54.059043169021606}"
      ]
     },
     "execution_count": 81,
     "metadata": {},
     "output_type": "execute_result"
    }
   ],
   "source": [
    "results"
   ]
  }
 ],
 "metadata": {
  "kernelspec": {
   "display_name": "Python 3",
   "language": "python",
   "name": "python3"
  },
  "language_info": {
   "codemirror_mode": {
    "name": "ipython",
    "version": 3
   },
   "file_extension": ".py",
   "mimetype": "text/x-python",
   "name": "python",
   "nbconvert_exporter": "python",
   "pygments_lexer": "ipython3",
   "version": "3.6.3"
  }
 },
 "nbformat": 4,
 "nbformat_minor": 2
}
