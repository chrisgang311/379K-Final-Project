{
 "cells": [
  {
   "cell_type": "markdown",
   "metadata": {},
   "source": [
    "Merging divisions per season and saving in csv fil"
   ]
  },
  {
   "cell_type": "code",
   "execution_count": 1,
   "metadata": {
    "collapsed": true
   },
   "outputs": [],
   "source": [
    "import pandas as pd\n",
    "import os\n",
    "import numpy as np"
   ]
  },
  {
   "cell_type": "code",
   "execution_count": 2,
   "metadata": {
    "collapsed": true
   },
   "outputs": [],
   "source": [
    "def load_merge_data():\n",
    "    df = pd.DataFrame()\n",
    "    bool=False\n",
    "    for subdir, dirs, files in os.walk('.'):\n",
    "        #print(subdir)\n",
    "        for file in files:\n",
    "            #print(file)\n",
    "            ext = os.path.splitext(file)[-1].lower()\n",
    "            if ext == \".csv\":\n",
    "                datapath=os.path.join(subdir, file)\n",
    "                #print(datapath)\n",
    "                try:\n",
    "                    data=pd.read_csv(datapath, header=0)\n",
    "                    print(data.head())\n",
    "                    #print(data)\n",
    "                    df=pd.concat([df, data], axis=0, ignore_index=True)\n",
    "                    bool=True\n",
    "                    #print(d)\n",
    "                    #print(datapath)\n",
    "                except Exception:\n",
    "                    print(\"Cannot read files: \",datapath)\n",
    "        if bool:\n",
    "            df.to_csv(subdir + '.csv')\n",
    "        df = pd.DataFrame()\n",
    "        \n",
    "        return df\n",
    "        "
   ]
  },
  {
   "cell_type": "code",
   "execution_count": 3,
   "metadata": {
    "scrolled": false
   },
   "outputs": [
    {
     "name": "stdout",
     "output_type": "stream",
     "text": [
      "   Unnamed: 0  id  team_api_id  team_fifa_api_id     team_long_name  \\\n",
      "0           0   1         9987             673.0           KRC Genk   \n",
      "1           1   2         9993             675.0       Beerschot AC   \n",
      "2           2   3        10000           15005.0   SV Zulte-Waregem   \n",
      "3           3   4         9994            2007.0   Sporting Lokeren   \n",
      "4           4   5         9984            1750.0  KSV Cercle Brugge   \n",
      "\n",
      "  team_short_name  \n",
      "0             GEN  \n",
      "1             BAC  \n",
      "2             ZUL  \n",
      "3             LOK  \n",
      "4             CEB  \n",
      "   Unnamed: 0  team_api_id  team_rank team_long_name  team_offense_rating  \\\n",
      "0           0         8634          1      Barcelona                  3.3   \n",
      "1           1         8633          2    Real Madrid                  3.4   \n",
      "2           2         9823          3  Bayern Munich                  3.2   \n",
      "3           3         9847          4            PSG                  3.2   \n",
      "4           4         8456          5      Man. City                  3.0   \n",
      "\n",
      "   team_defense_rating  team_spi_rating  \n",
      "0                  0.3             93.5  \n",
      "1                  0.4             92.8  \n",
      "2                  0.4             92.1  \n",
      "3                  0.5             91.7  \n",
      "4                  0.5             89.4  \n"
     ]
    }
   ],
   "source": [
    "#data=pd.read_csv('.\\csv files\\Season 1993_1994\\D1.csv', header=0, index_col=0)\n",
    "#data.head()\n",
    "df = load_merge_data()"
   ]
  },
  {
   "cell_type": "markdown",
   "metadata": {},
   "source": [
    "#### Scrape Data For Features \n"
   ]
  },
  {
   "cell_type": "code",
   "execution_count": 4,
   "metadata": {},
   "outputs": [
    {
     "name": "stdout",
     "output_type": "stream",
     "text": [
      "   id  team_api_id  team_fifa_api_id     team_long_name team_short_name\n",
      "0   1         9987             673.0           KRC Genk             GEN\n",
      "1   2         9993             675.0       Beerschot AC             BAC\n",
      "2   3        10000           15005.0   SV Zulte-Waregem             ZUL\n",
      "3   4         9994            2007.0   Sporting Lokeren             LOK\n",
      "4   5         9984            1750.0  KSV Cercle Brugge             CEB\n"
     ]
    }
   ],
   "source": [
    "import sqlite3\n",
    "\n",
    "database = sqlite3.connect('database.sqlite')\n",
    "\n",
    "#look up table names\n",
    "all_tables = pd.read_sql(\"SELECT * FROM sqlite_master;\", database)\n",
    "#print(all_tables)\n",
    "\n",
    "players = all_tables.get(4)\n",
    "players = pd.read_sql(\"SELECT * FROM Player;\", database)\n",
    "matches = pd.read_sql(\"SELECT * FROM Match;\", database)\n",
    "leagues = pd.read_sql(\"SELECT * FROM League;\", database)\n",
    "countries = pd.read_sql(\"SELECT * FROM Country;\", database)\n",
    "teams = pd.read_sql(\"SELECT * FROM Team;\", database)\n",
    "team_attributes = pd.read_sql(\"SELECT * FROM Team_Attributes;\", database)\n",
    "player_attributes = pd.read_sql(\"SELECT * FROM Player_Attributes;\",database)\n",
    "\n",
    "table_list = [players, matches, leagues, countries, teams, team_attributes, player_attributes]\n",
    "total_list = pd.DataFrame()\n",
    "#for table in table_list:\n",
    "#   print '\\n',table.info(),table.head()\n",
    "    \n",
    "total_list = pd.concat(table_list, axis=1, keys=['players','matches','leagues','countries','teams','team_attributes','player_attributes'])\n",
    "\n",
    "print teams.head()"
   ]
  },
  {
   "cell_type": "code",
   "execution_count": 5,
   "metadata": {},
   "outputs": [
    {
     "name": "stdout",
     "output_type": "stream",
     "text": [
      "        id  team_api_id  team_fifa_api_id team_long_name team_short_name\n",
      "258  43042         8634             241.0   FC Barcelona             BAR\n",
      "8634\n"
     ]
    }
   ],
   "source": [
    "# total_list.to_csv('mergedlist.csv', encoding='utf-8')\n",
    "\n",
    "team_barcelona = teams.loc[teams['team_long_name'] == 'FC Barcelona']\n",
    "\n",
    "print team_barcelona.loc[:'team_api_id']\n",
    "print team_barcelona.iloc[0]['team_api_id']\n",
    "\n",
    "teams.to_csv('teams.csv', encoding='utf-8')\n"
   ]
  },
  {
   "cell_type": "markdown",
   "metadata": {
    "collapsed": true
   },
   "source": [
    "### Team Rating Scrapping\n",
    "- Team fifa ratings\n",
    "- NLP team sentiment"
   ]
  },
  {
   "cell_type": "code",
   "execution_count": 6,
   "metadata": {},
   "outputs": [
    {
     "name": "stdout",
     "output_type": "stream",
     "text": [
      "   id  team_api_id  team_fifa_api_id     team_long_name team_short_name\n",
      "0   1         9987             673.0           KRC Genk             GEN\n",
      "1   2         9993             675.0       Beerschot AC             BAC\n",
      "2   3        10000           15005.0   SV Zulte-Waregem             ZUL\n",
      "3   4         9994            2007.0   Sporting Lokeren             LOK\n",
      "4   5         9984            1750.0  KSV Cercle Brugge             CEB\n"
     ]
    }
   ],
   "source": [
    "from bs4 import BeautifulSoup\n",
    "import requests\n",
    "import urllib, json\n",
    "\n",
    "print teams.head()"
   ]
  },
  {
   "cell_type": "code",
   "execution_count": 8,
   "metadata": {
    "collapsed": true
   },
   "outputs": [],
   "source": [
    "def dataframeColumns():\n",
    "    return [\"team_api_id\",\"team_rank\",\"team_long_name\",\"team_offense_rating\",\"team_defense_rating\",\"team_spi_rating\"]\n",
    "\n",
    "def getTeamId(team_name, teams_csv):\n",
    "    returned_id = teams_csv.loc[teams_csv['team_short_name'].str.contains(team_name)]\n",
    "    if (returned_id.empty):\n",
    "        returned_id = teams_csv.loc[teams_csv['team_long_name'].str.contains(team_name)]\n",
    "    if (returned_id.empty):\n",
    "        return 0\n",
    "    else:\n",
    "        return returned_id.iloc[0]['team_api_id']\n",
    "    "
   ]
  },
  {
   "cell_type": "code",
   "execution_count": 9,
   "metadata": {},
   "outputs": [
    {
     "name": "stdout",
     "output_type": "stream",
     "text": [
      "SPI Ratings\n",
      "\n",
      "4    8456\n",
      "Name: team_api_id, dtype: object\n",
      "12    10260\n",
      "Name: team_api_id, dtype: object\n"
     ]
    }
   ],
   "source": [
    "team_name = teams.loc[teams['team_api_id'] == 9987]\n",
    "\n",
    "name = team_name['team_long_name']\n",
    "\n",
    "# tweet_criteria = GetOldTweets.got.manager.TweetCriteria().setQuerySearch(name.get(0)).setSince(\"2010-01-01\").setMaxTweets(100)\n",
    "\n",
    "dataframe = pd.DataFrame(columns=dataframeColumns())\n",
    "webpage = \"Global Club Soccer Rankings _ FiveThirtyEight.htm\"\n",
    "#page = urllib.urlopen('https://projects.fivethirtyeight.com/global-club-soccer-rankings/')\n",
    "\n",
    "with open(webpage) as fp:\n",
    "    soup = BeautifulSoup(fp, 'lxml')\n",
    "    \n",
    "team_names =  soup.find_all('div', attrs={'class':'name'})\n",
    "    \n",
    "team_offense_ratings = soup.find_all('td', attrs={'class':'num rating offense drop-6'})\n",
    "\n",
    "#for b in team_offense_ratings:\n",
    "    #print b.text\n",
    "    \n",
    "team_defense_ratings = soup.find_all('td', attrs={'class':\"num rating defense drop-6\"})\n",
    "team_spi_ratings = soup.find_all('td', attrs={'class':\"num\"})\n",
    "\n",
    "team_spi_parsed = []\n",
    "print 'SPI Ratings\\n'\n",
    "for c in range(3, len(team_spi_ratings), 4):\n",
    "    team_spi_parsed.append(float(team_spi_ratings[c].contents[0]))\n",
    "\n",
    "\n",
    "team_ranking = soup.find_all('td', attrs={'class':'num ranking'})\n",
    "\n",
    "for i in range(len(team_names)):\n",
    "    team_api_id = getTeamId(team_names[i].text, teams)\n",
    "    dataframe.loc[len(dataframe)] = [team_api_id, team_ranking[i].text, team_names[i].text, team_offense_ratings[i].text, team_defense_ratings[i].text, team_spi_parsed[i]]\n",
    "\n",
    "\n",
    "team_manchester = teams.loc[teams['team_long_name'] == 'Manchester City']\n",
    "\n",
    "api_id = teams.iloc[team_manchester.index]['team_api_id']\n",
    "api = api_id.get_values()\n",
    "\n",
    "man_loc = dataframe.loc[dataframe['team_long_name'] == 'Man. City']\n",
    "\n",
    "dataframe.loc[man_loc.index,'team_api_id'] = api[0]\n",
    "\n",
    "print dataframe.loc[dataframe['team_long_name'] == 'Man. City']['team_api_id']\n",
    "\n",
    "\n",
    "team_united = teams.loc[teams['team_long_name'] == 'Manchester United']\n",
    "api_id = teams.iloc[team_united.index]['team_api_id']\n",
    "api = api_id.get_values()\n",
    "united_loc = dataframe.loc[dataframe['team_long_name'] == 'Man. United']\n",
    "dataframe.loc[united_loc.index,'team_api_id'] = api[0]\n",
    "print dataframe.loc[dataframe['team_long_name'] == 'Man. United']['team_api_id']\n",
    "\n",
    "dataframe.to_csv('team_rankings.csv', encoding='utf-8')\n",
    "\n"
   ]
  },
  {
   "cell_type": "markdown",
   "metadata": {},
   "source": [
    "### Adding New Features To Large Dataset"
   ]
  },
  {
   "cell_type": "code",
   "execution_count": 10,
   "metadata": {},
   "outputs": [
    {
     "name": "stdout",
     "output_type": "stream",
     "text": [
      "Int64Index([85], dtype='int64')\n",
      "59.3\n",
      "8635\n",
      "RangeIndex(start=0, stop=17369, step=1)\n"
     ]
    }
   ],
   "source": [
    "final_csv = pd.read_csv('Data/FINAL_ALL_FEATURES_NO_NAN_final.csv')\n",
    "\n",
    "new_cols = ['home_team_rating','away_team_rating','home_team_offensive_rating','away_team_offensive_rating','home_team_defensive_rating','away_team_defensive_rating']\n",
    "for col in new_cols:\n",
    "    final_csv[col] = 0\n",
    "final_csv = final_csv.drop('Unnamed: 0',axis=1)\n",
    "i = 0;\n",
    "first_col_id = final_csv.loc[i,'home_team_api_id']\n",
    "first_col_matching = dataframe.loc[dataframe['team_api_id'] == first_col_id]\n",
    "\n",
    "print first_col_matching.index\n",
    "print first_col_matching['team_spi_rating'].values[0]\n",
    "print first_col_id\n",
    "print final_csv.index\n",
    "\n",
    "\n"
   ]
  },
  {
   "cell_type": "code",
   "execution_count": 11,
   "metadata": {},
   "outputs": [
    {
     "name": "stdout",
     "output_type": "stream",
     "text": [
      "46.2876379691\n",
      "1.35651214128\n",
      "1.3174392936\n"
     ]
    }
   ],
   "source": [
    "rating_mean = dataframe['team_spi_rating'].mean()\n",
    "#rating_mean = rating_mean.mean()\n",
    "print rating_mean\n",
    "\n",
    "offense_mean = dataframe['team_offense_rating']\n",
    "offense_mean = pd.to_numeric(offense_mean)\n",
    "print offense_mean.mean()\n",
    "\n",
    "defense_mean = dataframe['team_defense_rating']\n",
    "defense_mean = pd.to_numeric(defense_mean)\n",
    "print defense_mean.mean()\n",
    "\n",
    "\n"
   ]
  },
  {
   "cell_type": "code",
   "execution_count": 36,
   "metadata": {},
   "outputs": [
    {
     "name": "stdout",
     "output_type": "stream",
     "text": [
      "Working...  0\n",
      "Working...  1000\n",
      "Working...  2000\n",
      "Working...  3000\n",
      "Working...  4000\n",
      "Working...  5000\n",
      "Working...  6000\n",
      "Working...  7000\n",
      "Working...  8000\n",
      "Working...  9000\n",
      "Working...  10000\n",
      "Working...  11000\n",
      "Working...  12000\n",
      "Working...  13000\n",
      "Working...  14000\n",
      "Working...  15000\n",
      "Working...  16000\n",
      "Working...  17000\n"
     ]
    },
    {
     "data": {
      "text/html": [
       "<div>\n",
       "<style scoped>\n",
       "    .dataframe tbody tr th:only-of-type {\n",
       "        vertical-align: middle;\n",
       "    }\n",
       "\n",
       "    .dataframe tbody tr th {\n",
       "        vertical-align: top;\n",
       "    }\n",
       "\n",
       "    .dataframe thead th {\n",
       "        text-align: right;\n",
       "    }\n",
       "</style>\n",
       "<table border=\"1\" class=\"dataframe\">\n",
       "  <thead>\n",
       "    <tr style=\"text-align: right;\">\n",
       "      <th></th>\n",
       "      <th>id</th>\n",
       "      <th>match_api_id</th>\n",
       "      <th>home_team_api_id</th>\n",
       "      <th>away_team_api_id</th>\n",
       "      <th>season</th>\n",
       "      <th>date</th>\n",
       "      <th>result_label</th>\n",
       "      <th>away_Defender_rating</th>\n",
       "      <th>home_Defender_rating</th>\n",
       "      <th>away_Attacker_rating</th>\n",
       "      <th>...</th>\n",
       "      <th>HOME_DRAW_RATE_THIS_SEASON</th>\n",
       "      <th>AWAY_DRAW_RATE</th>\n",
       "      <th>AWAY_DRAW_RATE_THIS_SEASON</th>\n",
       "      <th>AWAY_DRAW_RATE_AT_THIS_GROUND</th>\n",
       "      <th>home_team_rating</th>\n",
       "      <th>away_team_rating</th>\n",
       "      <th>home_team_offensive_rating</th>\n",
       "      <th>away_team_offensive_rating</th>\n",
       "      <th>home_team_defensive_rating</th>\n",
       "      <th>away_team_defensive_rating</th>\n",
       "    </tr>\n",
       "  </thead>\n",
       "  <tbody>\n",
       "    <tr>\n",
       "      <th>0</th>\n",
       "      <td>540</td>\n",
       "      <td>838599</td>\n",
       "      <td>8635</td>\n",
       "      <td>10001</td>\n",
       "      <td>2010/2011</td>\n",
       "      <td>2010-10-24</td>\n",
       "      <td>HOME_WIN</td>\n",
       "      <td>64.500000</td>\n",
       "      <td>72.666667</td>\n",
       "      <td>67.666667</td>\n",
       "      <td>...</td>\n",
       "      <td>0.200000</td>\n",
       "      <td>0.181818</td>\n",
       "      <td>0.25</td>\n",
       "      <td>0.000000</td>\n",
       "      <td>59.300000</td>\n",
       "      <td>46.287638</td>\n",
       "      <td>1.7</td>\n",
       "      <td>1.35651</td>\n",
       "      <td>1.1</td>\n",
       "      <td>1.31744</td>\n",
       "    </tr>\n",
       "    <tr>\n",
       "      <th>1</th>\n",
       "      <td>549</td>\n",
       "      <td>838622</td>\n",
       "      <td>9991</td>\n",
       "      <td>8203</td>\n",
       "      <td>2010/2011</td>\n",
       "      <td>2010-10-30</td>\n",
       "      <td>HOME_WIN</td>\n",
       "      <td>64.600000</td>\n",
       "      <td>65.666667</td>\n",
       "      <td>66.500000</td>\n",
       "      <td>...</td>\n",
       "      <td>0.000000</td>\n",
       "      <td>0.066667</td>\n",
       "      <td>0.20</td>\n",
       "      <td>0.000000</td>\n",
       "      <td>46.287638</td>\n",
       "      <td>46.287638</td>\n",
       "      <td>1.35651</td>\n",
       "      <td>1.35651</td>\n",
       "      <td>1.31744</td>\n",
       "      <td>1.31744</td>\n",
       "    </tr>\n",
       "    <tr>\n",
       "      <th>2</th>\n",
       "      <td>552</td>\n",
       "      <td>838625</td>\n",
       "      <td>10000</td>\n",
       "      <td>9994</td>\n",
       "      <td>2010/2011</td>\n",
       "      <td>2010-10-30</td>\n",
       "      <td>DRAW</td>\n",
       "      <td>64.000000</td>\n",
       "      <td>64.333333</td>\n",
       "      <td>67.000000</td>\n",
       "      <td>...</td>\n",
       "      <td>0.200000</td>\n",
       "      <td>0.153846</td>\n",
       "      <td>0.50</td>\n",
       "      <td>0.145833</td>\n",
       "      <td>46.287638</td>\n",
       "      <td>69.700000</td>\n",
       "      <td>1.35651</td>\n",
       "      <td>1.9</td>\n",
       "      <td>1.31744</td>\n",
       "      <td>0.9</td>\n",
       "    </tr>\n",
       "    <tr>\n",
       "      <th>3</th>\n",
       "      <td>563</td>\n",
       "      <td>838646</td>\n",
       "      <td>9984</td>\n",
       "      <td>9991</td>\n",
       "      <td>2010/2011</td>\n",
       "      <td>2010-11-07</td>\n",
       "      <td>AWAY_WIN</td>\n",
       "      <td>63.000000</td>\n",
       "      <td>64.750000</td>\n",
       "      <td>68.500000</td>\n",
       "      <td>...</td>\n",
       "      <td>0.166667</td>\n",
       "      <td>0.200000</td>\n",
       "      <td>0.00</td>\n",
       "      <td>1.000000</td>\n",
       "      <td>46.287638</td>\n",
       "      <td>46.287638</td>\n",
       "      <td>1.35651</td>\n",
       "      <td>1.35651</td>\n",
       "      <td>1.31744</td>\n",
       "      <td>1.31744</td>\n",
       "    </tr>\n",
       "    <tr>\n",
       "      <th>4</th>\n",
       "      <td>569</td>\n",
       "      <td>838658</td>\n",
       "      <td>9986</td>\n",
       "      <td>10001</td>\n",
       "      <td>2010/2011</td>\n",
       "      <td>2010-11-13</td>\n",
       "      <td>AWAY_WIN</td>\n",
       "      <td>64.666667</td>\n",
       "      <td>61.000000</td>\n",
       "      <td>67.333333</td>\n",
       "      <td>...</td>\n",
       "      <td>0.000000</td>\n",
       "      <td>0.166667</td>\n",
       "      <td>0.20</td>\n",
       "      <td>1.000000</td>\n",
       "      <td>46.287638</td>\n",
       "      <td>46.287638</td>\n",
       "      <td>1.35651</td>\n",
       "      <td>1.35651</td>\n",
       "      <td>1.31744</td>\n",
       "      <td>1.31744</td>\n",
       "    </tr>\n",
       "  </tbody>\n",
       "</table>\n",
       "<p>5 rows × 60 columns</p>\n",
       "</div>"
      ],
      "text/plain": [
       "    id  match_api_id  home_team_api_id  away_team_api_id     season  \\\n",
       "0  540        838599              8635             10001  2010/2011   \n",
       "1  549        838622              9991              8203  2010/2011   \n",
       "2  552        838625             10000              9994  2010/2011   \n",
       "3  563        838646              9984              9991  2010/2011   \n",
       "4  569        838658              9986             10001  2010/2011   \n",
       "\n",
       "         date result_label  away_Defender_rating  home_Defender_rating  \\\n",
       "0  2010-10-24     HOME_WIN             64.500000             72.666667   \n",
       "1  2010-10-30     HOME_WIN             64.600000             65.666667   \n",
       "2  2010-10-30         DRAW             64.000000             64.333333   \n",
       "3  2010-11-07     AWAY_WIN             63.000000             64.750000   \n",
       "4  2010-11-13     AWAY_WIN             64.666667             61.000000   \n",
       "\n",
       "   away_Attacker_rating             ...              \\\n",
       "0             67.666667             ...               \n",
       "1             66.500000             ...               \n",
       "2             67.000000             ...               \n",
       "3             68.500000             ...               \n",
       "4             67.333333             ...               \n",
       "\n",
       "   HOME_DRAW_RATE_THIS_SEASON  AWAY_DRAW_RATE  AWAY_DRAW_RATE_THIS_SEASON  \\\n",
       "0                    0.200000        0.181818                        0.25   \n",
       "1                    0.000000        0.066667                        0.20   \n",
       "2                    0.200000        0.153846                        0.50   \n",
       "3                    0.166667        0.200000                        0.00   \n",
       "4                    0.000000        0.166667                        0.20   \n",
       "\n",
       "   AWAY_DRAW_RATE_AT_THIS_GROUND  home_team_rating  away_team_rating  \\\n",
       "0                       0.000000         59.300000         46.287638   \n",
       "1                       0.000000         46.287638         46.287638   \n",
       "2                       0.145833         46.287638         69.700000   \n",
       "3                       1.000000         46.287638         46.287638   \n",
       "4                       1.000000         46.287638         46.287638   \n",
       "\n",
       "   home_team_offensive_rating  away_team_offensive_rating  \\\n",
       "0                         1.7                     1.35651   \n",
       "1                     1.35651                     1.35651   \n",
       "2                     1.35651                         1.9   \n",
       "3                     1.35651                     1.35651   \n",
       "4                     1.35651                     1.35651   \n",
       "\n",
       "   home_team_defensive_rating  away_team_defensive_rating  \n",
       "0                         1.1                     1.31744  \n",
       "1                     1.31744                     1.31744  \n",
       "2                     1.31744                         0.9  \n",
       "3                     1.31744                     1.31744  \n",
       "4                     1.31744                     1.31744  \n",
       "\n",
       "[5 rows x 60 columns]"
      ]
     },
     "execution_count": 36,
     "metadata": {},
     "output_type": "execute_result"
    }
   ],
   "source": [
    "\n",
    "for index in final_csv.index:\n",
    "    row_home_id = final_csv.iloc[index, final_csv.columns.get_loc('home_team_api_id')]\n",
    "    home_col_matching = dataframe.loc[dataframe['team_api_id'] == row_home_id]\n",
    "    if (home_col_matching.empty):\n",
    "        final_csv.iloc[index, final_csv.columns.get_loc('home_team_rating')] = rating_mean\n",
    "        final_csv.iloc[index, final_csv.columns.get_loc('home_team_offensive_rating')] = offense_mean.mean()\n",
    "        final_csv.iloc[index, final_csv.columns.get_loc('home_team_defensive_rating')] = defense_mean.mean()\n",
    "    else:\n",
    "        final_csv.iloc[index, final_csv.columns.get_loc('home_team_rating')] = home_col_matching['team_spi_rating'].values[0]\n",
    "        final_csv.iloc[index, final_csv.columns.get_loc('home_team_offensive_rating')] = home_col_matching['team_offense_rating'].values[0]\n",
    "        final_csv.iloc[index, final_csv.columns.get_loc('home_team_defensive_rating')] = home_col_matching['team_defense_rating'].values[0]\n",
    "    row_away_id = final_csv.iloc[index, final_csv.columns.get_loc('away_team_api_id')]\n",
    "    away_col_matching = dataframe.loc[dataframe['team_api_id'] == row_away_id]\n",
    "    if (away_col_matching.empty):\n",
    "        final_csv.iloc[index, final_csv.columns.get_loc('away_team_rating')] = rating_mean\n",
    "        final_csv.iloc[index, final_csv.columns.get_loc('away_team_offensive_rating')] = offense_mean.mean()\n",
    "        final_csv.iloc[index, final_csv.columns.get_loc('away_team_defensive_rating')] = defense_mean.mean()\n",
    "    else:\n",
    "        final_csv.iloc[index, final_csv.columns.get_loc('away_team_rating')] = away_col_matching['team_spi_rating'].values[0]\n",
    "        final_csv.iloc[index, final_csv.columns.get_loc('away_team_offensive_rating')] = away_col_matching['team_offense_rating'].values[0]\n",
    "        final_csv.iloc[index, final_csv.columns.get_loc('away_team_defensive_rating')] = away_col_matching['team_defense_rating'].values[0]\n",
    "    if ((index%1000) == 0):\n",
    "        print 'Working... ',index\n",
    "\n",
    "final_csv.head()\n"
   ]
  },
  {
   "cell_type": "code",
   "execution_count": 12,
   "metadata": {
    "collapsed": true
   },
   "outputs": [],
   "source": [
    "final_csv = pd.read_csv('../Preprocessing/Data_Structures/FINAL_BASE_DATASET_TEAM_RATINGS_WITH_NO_ZEROS_ADDED_NO_BETS_AGE_BMI_ZEROS_NOT_REMOVED.csv', encoding='utf-8')"
   ]
  },
  {
   "cell_type": "code",
   "execution_count": 13,
   "metadata": {},
   "outputs": [
    {
     "data": {
      "text/html": [
       "<div>\n",
       "<style>\n",
       "    .dataframe thead tr:only-child th {\n",
       "        text-align: right;\n",
       "    }\n",
       "\n",
       "    .dataframe thead th {\n",
       "        text-align: left;\n",
       "    }\n",
       "\n",
       "    .dataframe tbody tr th {\n",
       "        vertical-align: top;\n",
       "    }\n",
       "</style>\n",
       "<table border=\"1\" class=\"dataframe\">\n",
       "  <thead>\n",
       "    <tr style=\"text-align: right;\">\n",
       "      <th></th>\n",
       "      <th>away_Defender_rating</th>\n",
       "      <th>home_Defender_rating</th>\n",
       "      <th>away_Attacker_rating</th>\n",
       "      <th>home_Attacker_rating</th>\n",
       "      <th>away_Goalkeeper_rating</th>\n",
       "      <th>home_Goalkeeper_rating</th>\n",
       "      <th>away_Midfielder_rating</th>\n",
       "      <th>home_Midfielder_rating</th>\n",
       "      <th>HEAD_2_HEAD_HOME_TEAM_WINS</th>\n",
       "      <th>HEAD_2_HEAD_HOME_TEAM_LOSS</th>\n",
       "      <th>...</th>\n",
       "      <th>AWAY_DRAW_RATE</th>\n",
       "      <th>AWAY_DRAW_RATE_THIS_SEASON</th>\n",
       "      <th>AWAY_DRAW_RATE_AT_THIS_GROUND</th>\n",
       "      <th>Label</th>\n",
       "      <th>home_team_rating</th>\n",
       "      <th>away_team_rating</th>\n",
       "      <th>home_team_offensive_rating</th>\n",
       "      <th>away_team_offensive_rating</th>\n",
       "      <th>home_team_defensive_rating</th>\n",
       "      <th>away_team_defensive_rating</th>\n",
       "    </tr>\n",
       "  </thead>\n",
       "  <tbody>\n",
       "    <tr>\n",
       "      <th>0</th>\n",
       "      <td>64.500000</td>\n",
       "      <td>72.666667</td>\n",
       "      <td>67.666667</td>\n",
       "      <td>74.0</td>\n",
       "      <td>63.0</td>\n",
       "      <td>72.0</td>\n",
       "      <td>64.333333</td>\n",
       "      <td>73.833333</td>\n",
       "      <td>1.000</td>\n",
       "      <td>0.0</td>\n",
       "      <td>...</td>\n",
       "      <td>0.181818</td>\n",
       "      <td>0.25</td>\n",
       "      <td>0.000000</td>\n",
       "      <td>2</td>\n",
       "      <td>59.300000</td>\n",
       "      <td>46.287638</td>\n",
       "      <td>1.700000</td>\n",
       "      <td>1.356512</td>\n",
       "      <td>1.100000</td>\n",
       "      <td>1.317439</td>\n",
       "    </tr>\n",
       "    <tr>\n",
       "      <th>1</th>\n",
       "      <td>64.600000</td>\n",
       "      <td>65.666667</td>\n",
       "      <td>66.500000</td>\n",
       "      <td>69.0</td>\n",
       "      <td>69.0</td>\n",
       "      <td>71.0</td>\n",
       "      <td>66.000000</td>\n",
       "      <td>69.600000</td>\n",
       "      <td>1.000</td>\n",
       "      <td>0.0</td>\n",
       "      <td>...</td>\n",
       "      <td>0.066667</td>\n",
       "      <td>0.20</td>\n",
       "      <td>0.000000</td>\n",
       "      <td>2</td>\n",
       "      <td>46.287638</td>\n",
       "      <td>46.287638</td>\n",
       "      <td>1.356512</td>\n",
       "      <td>1.356512</td>\n",
       "      <td>1.317439</td>\n",
       "      <td>1.317439</td>\n",
       "    </tr>\n",
       "    <tr>\n",
       "      <th>2</th>\n",
       "      <td>64.000000</td>\n",
       "      <td>64.333333</td>\n",
       "      <td>67.000000</td>\n",
       "      <td>66.0</td>\n",
       "      <td>63.0</td>\n",
       "      <td>69.0</td>\n",
       "      <td>65.400000</td>\n",
       "      <td>65.600000</td>\n",
       "      <td>0.000</td>\n",
       "      <td>0.0</td>\n",
       "      <td>...</td>\n",
       "      <td>0.153846</td>\n",
       "      <td>0.50</td>\n",
       "      <td>0.145833</td>\n",
       "      <td>1</td>\n",
       "      <td>46.287638</td>\n",
       "      <td>69.700000</td>\n",
       "      <td>1.356512</td>\n",
       "      <td>1.900000</td>\n",
       "      <td>1.317439</td>\n",
       "      <td>0.900000</td>\n",
       "    </tr>\n",
       "    <tr>\n",
       "      <th>3</th>\n",
       "      <td>63.000000</td>\n",
       "      <td>64.750000</td>\n",
       "      <td>68.500000</td>\n",
       "      <td>65.0</td>\n",
       "      <td>71.0</td>\n",
       "      <td>65.0</td>\n",
       "      <td>69.666667</td>\n",
       "      <td>65.500000</td>\n",
       "      <td>0.000</td>\n",
       "      <td>1.0</td>\n",
       "      <td>...</td>\n",
       "      <td>0.200000</td>\n",
       "      <td>0.00</td>\n",
       "      <td>1.000000</td>\n",
       "      <td>0</td>\n",
       "      <td>46.287638</td>\n",
       "      <td>46.287638</td>\n",
       "      <td>1.356512</td>\n",
       "      <td>1.356512</td>\n",
       "      <td>1.317439</td>\n",
       "      <td>1.317439</td>\n",
       "    </tr>\n",
       "    <tr>\n",
       "      <th>4</th>\n",
       "      <td>64.666667</td>\n",
       "      <td>61.000000</td>\n",
       "      <td>67.333333</td>\n",
       "      <td>0.0</td>\n",
       "      <td>68.0</td>\n",
       "      <td>58.0</td>\n",
       "      <td>65.250000</td>\n",
       "      <td>61.000000</td>\n",
       "      <td>0.125</td>\n",
       "      <td>0.5</td>\n",
       "      <td>...</td>\n",
       "      <td>0.166667</td>\n",
       "      <td>0.20</td>\n",
       "      <td>1.000000</td>\n",
       "      <td>0</td>\n",
       "      <td>46.287638</td>\n",
       "      <td>46.287638</td>\n",
       "      <td>1.356512</td>\n",
       "      <td>1.356512</td>\n",
       "      <td>1.317439</td>\n",
       "      <td>1.317439</td>\n",
       "    </tr>\n",
       "  </tbody>\n",
       "</table>\n",
       "<p>5 rows × 54 columns</p>\n",
       "</div>"
      ],
      "text/plain": [
       "   away_Defender_rating  home_Defender_rating  away_Attacker_rating  \\\n",
       "0             64.500000             72.666667             67.666667   \n",
       "1             64.600000             65.666667             66.500000   \n",
       "2             64.000000             64.333333             67.000000   \n",
       "3             63.000000             64.750000             68.500000   \n",
       "4             64.666667             61.000000             67.333333   \n",
       "\n",
       "   home_Attacker_rating  away_Goalkeeper_rating  home_Goalkeeper_rating  \\\n",
       "0                  74.0                    63.0                    72.0   \n",
       "1                  69.0                    69.0                    71.0   \n",
       "2                  66.0                    63.0                    69.0   \n",
       "3                  65.0                    71.0                    65.0   \n",
       "4                   0.0                    68.0                    58.0   \n",
       "\n",
       "   away_Midfielder_rating  home_Midfielder_rating  HEAD_2_HEAD_HOME_TEAM_WINS  \\\n",
       "0               64.333333               73.833333                       1.000   \n",
       "1               66.000000               69.600000                       1.000   \n",
       "2               65.400000               65.600000                       0.000   \n",
       "3               69.666667               65.500000                       0.000   \n",
       "4               65.250000               61.000000                       0.125   \n",
       "\n",
       "   HEAD_2_HEAD_HOME_TEAM_LOSS             ...              AWAY_DRAW_RATE  \\\n",
       "0                         0.0             ...                    0.181818   \n",
       "1                         0.0             ...                    0.066667   \n",
       "2                         0.0             ...                    0.153846   \n",
       "3                         1.0             ...                    0.200000   \n",
       "4                         0.5             ...                    0.166667   \n",
       "\n",
       "   AWAY_DRAW_RATE_THIS_SEASON  AWAY_DRAW_RATE_AT_THIS_GROUND  Label  \\\n",
       "0                        0.25                       0.000000      2   \n",
       "1                        0.20                       0.000000      2   \n",
       "2                        0.50                       0.145833      1   \n",
       "3                        0.00                       1.000000      0   \n",
       "4                        0.20                       1.000000      0   \n",
       "\n",
       "   home_team_rating  away_team_rating  home_team_offensive_rating  \\\n",
       "0         59.300000         46.287638                    1.700000   \n",
       "1         46.287638         46.287638                    1.356512   \n",
       "2         46.287638         69.700000                    1.356512   \n",
       "3         46.287638         46.287638                    1.356512   \n",
       "4         46.287638         46.287638                    1.356512   \n",
       "\n",
       "   away_team_offensive_rating  home_team_defensive_rating  \\\n",
       "0                    1.356512                    1.100000   \n",
       "1                    1.356512                    1.317439   \n",
       "2                    1.900000                    1.317439   \n",
       "3                    1.356512                    1.317439   \n",
       "4                    1.356512                    1.317439   \n",
       "\n",
       "   away_team_defensive_rating  \n",
       "0                    1.317439  \n",
       "1                    1.317439  \n",
       "2                    0.900000  \n",
       "3                    1.317439  \n",
       "4                    1.317439  \n",
       "\n",
       "[5 rows x 54 columns]"
      ]
     },
     "execution_count": 13,
     "metadata": {},
     "output_type": "execute_result"
    }
   ],
   "source": [
    "final_csv = final_csv.drop('Unnamed: 0', axis=1)\n",
    "\n",
    "final_csv.head()\n"
   ]
  },
  {
   "cell_type": "markdown",
   "metadata": {},
   "source": [
    "### Random Forest\n"
   ]
  },
  {
   "cell_type": "code",
   "execution_count": 19,
   "metadata": {},
   "outputs": [
    {
     "data": {
      "text/html": [
       "<div>\n",
       "<style>\n",
       "    .dataframe thead tr:only-child th {\n",
       "        text-align: right;\n",
       "    }\n",
       "\n",
       "    .dataframe thead th {\n",
       "        text-align: left;\n",
       "    }\n",
       "\n",
       "    .dataframe tbody tr th {\n",
       "        vertical-align: top;\n",
       "    }\n",
       "</style>\n",
       "<table border=\"1\" class=\"dataframe\">\n",
       "  <thead>\n",
       "    <tr style=\"text-align: right;\">\n",
       "      <th></th>\n",
       "      <th>away_Defender_rating</th>\n",
       "      <th>home_Defender_rating</th>\n",
       "      <th>away_Attacker_rating</th>\n",
       "      <th>home_Attacker_rating</th>\n",
       "      <th>away_Goalkeeper_rating</th>\n",
       "      <th>home_Goalkeeper_rating</th>\n",
       "      <th>away_Midfielder_rating</th>\n",
       "      <th>home_Midfielder_rating</th>\n",
       "      <th>HEAD_2_HEAD_HOME_TEAM_WINS</th>\n",
       "      <th>HEAD_2_HEAD_HOME_TEAM_LOSS</th>\n",
       "      <th>...</th>\n",
       "      <th>HOME_DRAW_RATE_THIS_SEASON</th>\n",
       "      <th>AWAY_DRAW_RATE</th>\n",
       "      <th>AWAY_DRAW_RATE_THIS_SEASON</th>\n",
       "      <th>AWAY_DRAW_RATE_AT_THIS_GROUND</th>\n",
       "      <th>home_team_rating</th>\n",
       "      <th>away_team_rating</th>\n",
       "      <th>home_team_offensive_rating</th>\n",
       "      <th>away_team_offensive_rating</th>\n",
       "      <th>home_team_defensive_rating</th>\n",
       "      <th>away_team_defensive_rating</th>\n",
       "    </tr>\n",
       "  </thead>\n",
       "  <tbody>\n",
       "    <tr>\n",
       "      <th>6774</th>\n",
       "      <td>76.4</td>\n",
       "      <td>75.000000</td>\n",
       "      <td>78.5</td>\n",
       "      <td>75.0</td>\n",
       "      <td>71.0</td>\n",
       "      <td>71.0</td>\n",
       "      <td>76.666667</td>\n",
       "      <td>71.500000</td>\n",
       "      <td>0.000000</td>\n",
       "      <td>0.333333</td>\n",
       "      <td>...</td>\n",
       "      <td>0.312500</td>\n",
       "      <td>0.258065</td>\n",
       "      <td>0.187500</td>\n",
       "      <td>0.000000</td>\n",
       "      <td>70.200000</td>\n",
       "      <td>71.900000</td>\n",
       "      <td>1.800000</td>\n",
       "      <td>2.100000</td>\n",
       "      <td>0.700000</td>\n",
       "      <td>0.900000</td>\n",
       "    </tr>\n",
       "    <tr>\n",
       "      <th>12188</th>\n",
       "      <td>71.0</td>\n",
       "      <td>72.666667</td>\n",
       "      <td>71.0</td>\n",
       "      <td>76.0</td>\n",
       "      <td>73.0</td>\n",
       "      <td>78.0</td>\n",
       "      <td>70.400000</td>\n",
       "      <td>75.600000</td>\n",
       "      <td>0.400000</td>\n",
       "      <td>0.200000</td>\n",
       "      <td>...</td>\n",
       "      <td>0.083333</td>\n",
       "      <td>0.209877</td>\n",
       "      <td>0.083333</td>\n",
       "      <td>0.000000</td>\n",
       "      <td>73.000000</td>\n",
       "      <td>46.287638</td>\n",
       "      <td>2.600000</td>\n",
       "      <td>1.356512</td>\n",
       "      <td>1.200000</td>\n",
       "      <td>1.317439</td>\n",
       "    </tr>\n",
       "    <tr>\n",
       "      <th>13360</th>\n",
       "      <td>65.0</td>\n",
       "      <td>64.750000</td>\n",
       "      <td>68.0</td>\n",
       "      <td>67.5</td>\n",
       "      <td>69.0</td>\n",
       "      <td>67.0</td>\n",
       "      <td>67.000000</td>\n",
       "      <td>65.250000</td>\n",
       "      <td>0.330000</td>\n",
       "      <td>0.330000</td>\n",
       "      <td>...</td>\n",
       "      <td>0.428571</td>\n",
       "      <td>0.000000</td>\n",
       "      <td>0.000000</td>\n",
       "      <td>0.072789</td>\n",
       "      <td>46.287638</td>\n",
       "      <td>44.300000</td>\n",
       "      <td>1.356512</td>\n",
       "      <td>1.400000</td>\n",
       "      <td>1.317439</td>\n",
       "      <td>1.500000</td>\n",
       "    </tr>\n",
       "    <tr>\n",
       "      <th>11731</th>\n",
       "      <td>69.0</td>\n",
       "      <td>63.400000</td>\n",
       "      <td>69.5</td>\n",
       "      <td>65.0</td>\n",
       "      <td>68.0</td>\n",
       "      <td>69.0</td>\n",
       "      <td>71.000000</td>\n",
       "      <td>66.333333</td>\n",
       "      <td>0.000000</td>\n",
       "      <td>1.000000</td>\n",
       "      <td>...</td>\n",
       "      <td>0.200000</td>\n",
       "      <td>0.326087</td>\n",
       "      <td>0.285714</td>\n",
       "      <td>1.000000</td>\n",
       "      <td>46.287638</td>\n",
       "      <td>55.400000</td>\n",
       "      <td>1.356512</td>\n",
       "      <td>1.700000</td>\n",
       "      <td>1.317439</td>\n",
       "      <td>1.200000</td>\n",
       "    </tr>\n",
       "    <tr>\n",
       "      <th>15930</th>\n",
       "      <td>73.5</td>\n",
       "      <td>75.500000</td>\n",
       "      <td>77.5</td>\n",
       "      <td>71.0</td>\n",
       "      <td>75.0</td>\n",
       "      <td>75.0</td>\n",
       "      <td>77.000000</td>\n",
       "      <td>72.400000</td>\n",
       "      <td>0.222222</td>\n",
       "      <td>0.555556</td>\n",
       "      <td>...</td>\n",
       "      <td>0.214286</td>\n",
       "      <td>0.272727</td>\n",
       "      <td>0.461538</td>\n",
       "      <td>0.750000</td>\n",
       "      <td>64.400000</td>\n",
       "      <td>76.500000</td>\n",
       "      <td>1.700000</td>\n",
       "      <td>2.400000</td>\n",
       "      <td>0.900000</td>\n",
       "      <td>0.900000</td>\n",
       "    </tr>\n",
       "  </tbody>\n",
       "</table>\n",
       "<p>5 rows × 53 columns</p>\n",
       "</div>"
      ],
      "text/plain": [
       "       away_Defender_rating  home_Defender_rating  away_Attacker_rating  \\\n",
       "6774                   76.4             75.000000                  78.5   \n",
       "12188                  71.0             72.666667                  71.0   \n",
       "13360                  65.0             64.750000                  68.0   \n",
       "11731                  69.0             63.400000                  69.5   \n",
       "15930                  73.5             75.500000                  77.5   \n",
       "\n",
       "       home_Attacker_rating  away_Goalkeeper_rating  home_Goalkeeper_rating  \\\n",
       "6774                   75.0                    71.0                    71.0   \n",
       "12188                  76.0                    73.0                    78.0   \n",
       "13360                  67.5                    69.0                    67.0   \n",
       "11731                  65.0                    68.0                    69.0   \n",
       "15930                  71.0                    75.0                    75.0   \n",
       "\n",
       "       away_Midfielder_rating  home_Midfielder_rating  \\\n",
       "6774                76.666667               71.500000   \n",
       "12188               70.400000               75.600000   \n",
       "13360               67.000000               65.250000   \n",
       "11731               71.000000               66.333333   \n",
       "15930               77.000000               72.400000   \n",
       "\n",
       "       HEAD_2_HEAD_HOME_TEAM_WINS  HEAD_2_HEAD_HOME_TEAM_LOSS  \\\n",
       "6774                     0.000000                    0.333333   \n",
       "12188                    0.400000                    0.200000   \n",
       "13360                    0.330000                    0.330000   \n",
       "11731                    0.000000                    1.000000   \n",
       "15930                    0.222222                    0.555556   \n",
       "\n",
       "                  ...              HOME_DRAW_RATE_THIS_SEASON  AWAY_DRAW_RATE  \\\n",
       "6774              ...                                0.312500        0.258065   \n",
       "12188             ...                                0.083333        0.209877   \n",
       "13360             ...                                0.428571        0.000000   \n",
       "11731             ...                                0.200000        0.326087   \n",
       "15930             ...                                0.214286        0.272727   \n",
       "\n",
       "       AWAY_DRAW_RATE_THIS_SEASON  AWAY_DRAW_RATE_AT_THIS_GROUND  \\\n",
       "6774                     0.187500                       0.000000   \n",
       "12188                    0.083333                       0.000000   \n",
       "13360                    0.000000                       0.072789   \n",
       "11731                    0.285714                       1.000000   \n",
       "15930                    0.461538                       0.750000   \n",
       "\n",
       "       home_team_rating  away_team_rating  home_team_offensive_rating  \\\n",
       "6774          70.200000         71.900000                    1.800000   \n",
       "12188         73.000000         46.287638                    2.600000   \n",
       "13360         46.287638         44.300000                    1.356512   \n",
       "11731         46.287638         55.400000                    1.356512   \n",
       "15930         64.400000         76.500000                    1.700000   \n",
       "\n",
       "       away_team_offensive_rating  home_team_defensive_rating  \\\n",
       "6774                     2.100000                    0.700000   \n",
       "12188                    1.356512                    1.200000   \n",
       "13360                    1.400000                    1.317439   \n",
       "11731                    1.700000                    1.317439   \n",
       "15930                    2.400000                    0.900000   \n",
       "\n",
       "       away_team_defensive_rating  \n",
       "6774                     0.900000  \n",
       "12188                    1.317439  \n",
       "13360                    1.500000  \n",
       "11731                    1.200000  \n",
       "15930                    0.900000  \n",
       "\n",
       "[5 rows x 53 columns]"
      ]
     },
     "execution_count": 19,
     "metadata": {},
     "output_type": "execute_result"
    }
   ],
   "source": [
    "from sklearn.model_selection import train_test_split\n",
    "\n",
    "\n",
    "\n",
    "Youtput = final_csv.loc[:,'Label']\n",
    "xset = final_csv.drop('Label', axis=1)\n",
    "Xinput = xset.loc[:,'away_Defender_rating':]\n",
    "X_train, X_test, y_train, y_test = train_test_split(Xinput, Youtput)\n",
    "\n",
    "X_train.head()\n",
    "X_test.head()"
   ]
  },
  {
   "cell_type": "code",
   "execution_count": 15,
   "metadata": {},
   "outputs": [
    {
     "data": {
      "text/plain": [
       "RandomForestRegressor(bootstrap=True, criterion='mse', max_depth=None,\n",
       "           max_features='auto', max_leaf_nodes=None,\n",
       "           min_impurity_split=1e-07, min_samples_leaf=1,\n",
       "           min_samples_split=2, min_weight_fraction_leaf=0.0,\n",
       "           n_estimators=1000, n_jobs=1, oob_score=True,\n",
       "           random_state=123456, verbose=0, warm_start=False)"
      ]
     },
     "execution_count": 15,
     "metadata": {},
     "output_type": "execute_result"
    }
   ],
   "source": [
    "from sklearn.ensemble import RandomForestRegressor\n",
    "\n",
    "rf_model = RandomForestRegressor(n_estimators=1000, oob_score=True, random_state=123456)\n",
    "\n",
    "\n",
    "rf_model.fit(X_train, y_train)"
   ]
  },
  {
   "cell_type": "code",
   "execution_count": 39,
   "metadata": {},
   "outputs": [
    {
     "data": {
      "text/plain": [
       "array([ nan])"
      ]
     },
     "execution_count": 39,
     "metadata": {},
     "output_type": "execute_result"
    }
   ],
   "source": [
    "y_test.head()\n"
   ]
  },
  {
   "cell_type": "code",
   "execution_count": 16,
   "metadata": {},
   "outputs": [
    {
     "data": {
      "text/html": [
       "<div>\n",
       "<style>\n",
       "    .dataframe thead tr:only-child th {\n",
       "        text-align: right;\n",
       "    }\n",
       "\n",
       "    .dataframe thead th {\n",
       "        text-align: left;\n",
       "    }\n",
       "\n",
       "    .dataframe tbody tr th {\n",
       "        vertical-align: top;\n",
       "    }\n",
       "</style>\n",
       "<table border=\"1\" class=\"dataframe\">\n",
       "  <thead>\n",
       "    <tr style=\"text-align: right;\">\n",
       "      <th></th>\n",
       "      <th>Label</th>\n",
       "    </tr>\n",
       "  </thead>\n",
       "  <tbody>\n",
       "    <tr>\n",
       "      <th>0</th>\n",
       "      <td>1.146</td>\n",
       "    </tr>\n",
       "    <tr>\n",
       "      <th>1</th>\n",
       "      <td>0.836</td>\n",
       "    </tr>\n",
       "    <tr>\n",
       "      <th>2</th>\n",
       "      <td>1.489</td>\n",
       "    </tr>\n",
       "    <tr>\n",
       "      <th>3</th>\n",
       "      <td>0.930</td>\n",
       "    </tr>\n",
       "    <tr>\n",
       "      <th>4</th>\n",
       "      <td>0.981</td>\n",
       "    </tr>\n",
       "  </tbody>\n",
       "</table>\n",
       "</div>"
      ],
      "text/plain": [
       "   Label\n",
       "0  1.146\n",
       "1  0.836\n",
       "2  1.489\n",
       "3  0.930\n",
       "4  0.981"
      ]
     },
     "execution_count": 16,
     "metadata": {},
     "output_type": "execute_result"
    }
   ],
   "source": [
    "from sklearn.metrics import mean_squared_error\n",
    "from sklearn.metrics import accuracy_score\n",
    "from sklearn import metrics\n",
    "\n",
    "X_train.head()\n",
    "predicted = rf_model.predict(X_test)\n",
    "predict_frame = pd.DataFrame(predicted, columns=['Label'])\n",
    "test_frame = pd.DataFrame(y_test, columns=['Label'])\n",
    "testing_error = mean_squared_error(y_test, predicted)\n",
    "predict_frame.head()\n",
    "#test_frame.head()\n",
    "\n",
    "\n",
    "#accuracy_score = accuracy_score(y_test, predicted)"
   ]
  },
  {
   "cell_type": "code",
   "execution_count": 18,
   "metadata": {},
   "outputs": [
    {
     "ename": "ValueError",
     "evalue": "Can't handle mix of multiclass and continuous",
     "output_type": "error",
     "traceback": [
      "\u001b[0;31m---------------------------------------------------------\u001b[0m",
      "\u001b[0;31mValueError\u001b[0m              Traceback (most recent call last)",
      "\u001b[0;32m<ipython-input-18-f0629669a321>\u001b[0m in \u001b[0;36m<module>\u001b[0;34m()\u001b[0m\n\u001b[1;32m      2\u001b[0m \u001b[0mmeasured\u001b[0m \u001b[0;34m=\u001b[0m \u001b[0mmetrics\u001b[0m\u001b[0;34m.\u001b[0m\u001b[0mauc\u001b[0m\u001b[0;34m(\u001b[0m\u001b[0mfpr\u001b[0m\u001b[0;34m,\u001b[0m\u001b[0mtpr\u001b[0m\u001b[0;34m)\u001b[0m\u001b[0;34m\u001b[0m\u001b[0m\n\u001b[1;32m      3\u001b[0m \u001b[0mmeasured\u001b[0m\u001b[0;34m\u001b[0m\u001b[0m\n\u001b[0;32m----> 4\u001b[0;31m \u001b[0maccuracy_score\u001b[0m\u001b[0;34m(\u001b[0m\u001b[0my_test\u001b[0m\u001b[0;34m,\u001b[0m\u001b[0mpredicted\u001b[0m\u001b[0;34m)\u001b[0m\u001b[0;34m\u001b[0m\u001b[0m\n\u001b[0m",
      "\u001b[0;32m/anaconda/lib/python2.7/site-packages/sklearn/metrics/classification.pyc\u001b[0m in \u001b[0;36maccuracy_score\u001b[0;34m(y_true, y_pred, normalize, sample_weight)\u001b[0m\n\u001b[1;32m    170\u001b[0m \u001b[0;34m\u001b[0m\u001b[0m\n\u001b[1;32m    171\u001b[0m     \u001b[0;31m# Compute accuracy for each possible representation\u001b[0m\u001b[0;34m\u001b[0m\u001b[0;34m\u001b[0m\u001b[0m\n\u001b[0;32m--> 172\u001b[0;31m     \u001b[0my_type\u001b[0m\u001b[0;34m,\u001b[0m \u001b[0my_true\u001b[0m\u001b[0;34m,\u001b[0m \u001b[0my_pred\u001b[0m \u001b[0;34m=\u001b[0m \u001b[0m_check_targets\u001b[0m\u001b[0;34m(\u001b[0m\u001b[0my_true\u001b[0m\u001b[0;34m,\u001b[0m \u001b[0my_pred\u001b[0m\u001b[0;34m)\u001b[0m\u001b[0;34m\u001b[0m\u001b[0m\n\u001b[0m\u001b[1;32m    173\u001b[0m     \u001b[0;32mif\u001b[0m \u001b[0my_type\u001b[0m\u001b[0;34m.\u001b[0m\u001b[0mstartswith\u001b[0m\u001b[0;34m(\u001b[0m\u001b[0;34m'multilabel'\u001b[0m\u001b[0;34m)\u001b[0m\u001b[0;34m:\u001b[0m\u001b[0;34m\u001b[0m\u001b[0m\n\u001b[1;32m    174\u001b[0m         \u001b[0mdiffering_labels\u001b[0m \u001b[0;34m=\u001b[0m \u001b[0mcount_nonzero\u001b[0m\u001b[0;34m(\u001b[0m\u001b[0my_true\u001b[0m \u001b[0;34m-\u001b[0m \u001b[0my_pred\u001b[0m\u001b[0;34m,\u001b[0m \u001b[0maxis\u001b[0m\u001b[0;34m=\u001b[0m\u001b[0;36m1\u001b[0m\u001b[0;34m)\u001b[0m\u001b[0;34m\u001b[0m\u001b[0m\n",
      "\u001b[0;32m/anaconda/lib/python2.7/site-packages/sklearn/metrics/classification.pyc\u001b[0m in \u001b[0;36m_check_targets\u001b[0;34m(y_true, y_pred)\u001b[0m\n\u001b[1;32m     80\u001b[0m     \u001b[0;32mif\u001b[0m \u001b[0mlen\u001b[0m\u001b[0;34m(\u001b[0m\u001b[0my_type\u001b[0m\u001b[0;34m)\u001b[0m \u001b[0;34m>\u001b[0m \u001b[0;36m1\u001b[0m\u001b[0;34m:\u001b[0m\u001b[0;34m\u001b[0m\u001b[0m\n\u001b[1;32m     81\u001b[0m         raise ValueError(\"Can't handle mix of {0} and {1}\"\n\u001b[0;32m---> 82\u001b[0;31m                          \"\".format(type_true, type_pred))\n\u001b[0m\u001b[1;32m     83\u001b[0m \u001b[0;34m\u001b[0m\u001b[0m\n\u001b[1;32m     84\u001b[0m     \u001b[0;31m# We can't have more than one value on y_type => The set is no more needed\u001b[0m\u001b[0;34m\u001b[0m\u001b[0;34m\u001b[0m\u001b[0m\n",
      "\u001b[0;31mValueError\u001b[0m: Can't handle mix of multiclass and continuous"
     ]
    }
   ],
   "source": [
    "fpr, tpr, thresholds = metrics.roc_curve(y_test, predicted, pos_label=1)\n",
    "measured = metrics.auc(fpr,tpr)\n",
    "measured\n",
    "accuracy_score(y_test,predicted)"
   ]
  },
  {
   "cell_type": "code",
   "execution_count": 91,
   "metadata": {
    "scrolled": true
   },
   "outputs": [
    {
     "data": {
      "text/plain": [
       "2457     2\n",
       "2365     1\n",
       "8615     2\n",
       "2367     2\n",
       "11037    0\n",
       "3554     0\n",
       "4042     2\n",
       "5536     2\n",
       "5649     1\n",
       "4263     1\n",
       "2812     2\n",
       "5799     1\n",
       "14223    2\n",
       "8503     2\n",
       "5843     0\n",
       "4060     1\n",
       "12905    2\n",
       "15885    2\n",
       "304      1\n",
       "6286     0\n",
       "2267     2\n",
       "14325    2\n",
       "4308     1\n",
       "15970    0\n",
       "9325     1\n",
       "13687    2\n",
       "3301     1\n",
       "15324    2\n",
       "7577     0\n",
       "17222    1\n",
       "        ..\n",
       "9029     1\n",
       "9875     2\n",
       "1393     2\n",
       "10996    1\n",
       "16409    2\n",
       "49       2\n",
       "5969     2\n",
       "14868    1\n",
       "17105    2\n",
       "15016    1\n",
       "1786     0\n",
       "11740    2\n",
       "941      2\n",
       "1130     1\n",
       "6835     1\n",
       "6585     1\n",
       "13722    2\n",
       "13285    0\n",
       "13282    2\n",
       "4649     2\n",
       "17005    1\n",
       "8527     0\n",
       "8747     1\n",
       "10882    2\n",
       "10090    0\n",
       "9896     1\n",
       "3690     2\n",
       "12182    1\n",
       "11428    0\n",
       "8622     1\n",
       "Name: Label, Length: 4340, dtype: int64"
      ]
     },
     "execution_count": 91,
     "metadata": {},
     "output_type": "execute_result"
    }
   ],
   "source": [
    "import xgboost as xgb\n",
    "\n",
    "xgb_new = xgb.XGBClassifier(learning_rate=0.1, n_estimators=85, max_depth=10)\n",
    "xgb_new.fit(X_train, y_train)\n",
    "\n",
    "predict = xgb_new.predict_proba(X_test)\n",
    "predict\n",
    "y_test\n"
   ]
  },
  {
   "cell_type": "code",
   "execution_count": 92,
   "metadata": {},
   "outputs": [
    {
     "name": "stdout",
     "output_type": "stream",
     "text": [
      "[ 0.10566352  0.14514807  0.16376969 ...,  0.20681329  0.24490601\n",
      "  0.2244224 ]\n"
     ]
    },
    {
     "data": {
      "text/plain": [
       "0.60174252360386149"
      ]
     },
     "execution_count": 92,
     "metadata": {},
     "output_type": "execute_result"
    }
   ],
   "source": [
    "predict = predict.T\n",
    "predict = predict[1]\n",
    "print predict\n",
    "fpr, tpr, thresholds = metrics.roc_curve(y_test, predict, pos_label=1)\n",
    "measured = metrics.auc(fpr,tpr)\n",
    "measured"
   ]
  },
  {
   "cell_type": "code",
   "execution_count": 79,
   "metadata": {},
   "outputs": [
    {
     "data": {
      "text/plain": [
       "4340"
      ]
     },
     "execution_count": 79,
     "metadata": {},
     "output_type": "execute_result"
    }
   ],
   "source": [
    "prediction = predict[0]\n",
    "prediction\n",
    "y_test\n",
    "predict\n",
    "prediction = predict.T\n",
    "prediction = prediction[0]\n",
    "prediction.size"
   ]
  },
  {
   "cell_type": "code",
   "execution_count": 22,
   "metadata": {},
   "outputs": [
    {
     "ename": "NameError",
     "evalue": "name 'xgb' is not defined",
     "output_type": "error",
     "traceback": [
      "\u001b[0;31m---------------------------------------------------------------------------\u001b[0m",
      "\u001b[0;31mNameError\u001b[0m                                 Traceback (most recent call last)",
      "\u001b[0;32m<ipython-input-22-26fa036993c1>\u001b[0m in \u001b[0;36m<module>\u001b[0;34m()\u001b[0m\n\u001b[1;32m      1\u001b[0m \u001b[0;32mfrom\u001b[0m \u001b[0msklearn\u001b[0m\u001b[0;34m.\u001b[0m\u001b[0mmodel_selection\u001b[0m \u001b[0;32mimport\u001b[0m \u001b[0mGridSearchCV\u001b[0m\u001b[0;34m\u001b[0m\u001b[0m\n\u001b[1;32m      2\u001b[0m \u001b[0;34m\u001b[0m\u001b[0m\n\u001b[0;32m----> 3\u001b[0;31m \u001b[0mxgb\u001b[0m \u001b[0;34m=\u001b[0m \u001b[0mxgb\u001b[0m\u001b[0;34m.\u001b[0m\u001b[0mXGBClassifier\u001b[0m\u001b[0;34m(\u001b[0m\u001b[0mlearning_rate\u001b[0m\u001b[0;34m=\u001b[0m\u001b[0;36m0.1\u001b[0m\u001b[0;34m,\u001b[0m \u001b[0mn_estimators\u001b[0m\u001b[0;34m=\u001b[0m\u001b[0;36m1000\u001b[0m\u001b[0;34m,\u001b[0m \u001b[0mmax_depth\u001b[0m \u001b[0;34m=\u001b[0m \u001b[0;36m5\u001b[0m\u001b[0;34m,\u001b[0m \u001b[0mmin_child_weight\u001b[0m\u001b[0;34m=\u001b[0m\u001b[0;36m1\u001b[0m\u001b[0;34m,\u001b[0m \u001b[0mgamma\u001b[0m\u001b[0;34m=\u001b[0m\u001b[0;36m0\u001b[0m\u001b[0;34m,\u001b[0m \u001b[0msubsample\u001b[0m\u001b[0;34m=\u001b[0m\u001b[0;36m0.8\u001b[0m\u001b[0;34m,\u001b[0m \u001b[0mcolsample_bytree\u001b[0m\u001b[0;34m=\u001b[0m\u001b[0;36m0.8\u001b[0m\u001b[0;34m,\u001b[0m \u001b[0mobjective\u001b[0m\u001b[0;34m=\u001b[0m\u001b[0;34m'binary:logistic'\u001b[0m\u001b[0;34m,\u001b[0m \u001b[0mnthread\u001b[0m\u001b[0;34m=\u001b[0m\u001b[0;36m4\u001b[0m\u001b[0;34m,\u001b[0m \u001b[0mscale_pos_weight\u001b[0m\u001b[0;34m=\u001b[0m\u001b[0;36m1\u001b[0m\u001b[0;34m,\u001b[0m \u001b[0mseed\u001b[0m\u001b[0;34m=\u001b[0m\u001b[0;36m27\u001b[0m\u001b[0;34m)\u001b[0m\u001b[0;34m\u001b[0m\u001b[0m\n\u001b[0m\u001b[1;32m      4\u001b[0m param_test = {\n\u001b[1;32m      5\u001b[0m     \u001b[0;34m'max_depth'\u001b[0m\u001b[0;34m:\u001b[0m\u001b[0mrange\u001b[0m\u001b[0;34m(\u001b[0m\u001b[0;36m3\u001b[0m\u001b[0;34m,\u001b[0m\u001b[0;36m10\u001b[0m\u001b[0;34m,\u001b[0m\u001b[0;36m2\u001b[0m\u001b[0;34m)\u001b[0m\u001b[0;34m,\u001b[0m\u001b[0;34m\u001b[0m\u001b[0m\n",
      "\u001b[0;31mNameError\u001b[0m: name 'xgb' is not defined"
     ]
    }
   ],
   "source": [
    "from sklearn.model_selection import GridSearchCV\n",
    "\n",
    "xgb = xgb.XGBClassifier(learning_rate=0.1, n_estimators=1000, max_depth = 5, min_child_weight=1, gamma=0, subsample=0.8, colsample_bytree=0.8, objective='binary:logistic', nthread=4, scale_pos_weight=1, seed=27)\n",
    "param_test = {\n",
    "    'max_depth':range(3,10,2),\n",
    "    'min_child_weight':range(1,6,2),\n",
    "    'learning_rate':[0.1,0.01,0.06],\n",
    "    'n_estimators':[10,51]\n",
    "}\n",
    "\n",
    "gridCV = GridSearchCV(estimator=xgb, param_grid=param_test, scoring='roc_auc', n_jobs=4, iid=False, cv=5)\n",
    "gridCV.fit(X_train,y_train)\n",
    "\n",
    "predictCV = gridCV.predict_proba(X_test)\n",
    "predictCV"
   ]
  },
  {
   "cell_type": "code",
   "execution_count": null,
   "metadata": {
    "collapsed": true
   },
   "outputs": [],
   "source": []
  }
 ],
 "metadata": {
  "kernelspec": {
   "display_name": "Python 2",
   "language": "python",
   "name": "python2"
  },
  "language_info": {
   "codemirror_mode": {
    "name": "ipython",
    "version": 2
   },
   "file_extension": ".py",
   "mimetype": "text/x-python",
   "name": "python",
   "nbconvert_exporter": "python",
   "pygments_lexer": "ipython2",
   "version": "2.7.13"
  },
  "nbpresent": {
   "slides": {},
   "themes": {
    "default": "84f7afe7-1185-4533-b364-8760017f16e0",
    "theme": {
     "84f7afe7-1185-4533-b364-8760017f16e0": {
      "backgrounds": {
       "dc7afa04-bf90-40b1-82a5-726e3cff5267": {
        "background-color": "31af15d2-7e15-44c5-ab5e-e04b16a89eff",
        "id": "dc7afa04-bf90-40b1-82a5-726e3cff5267"
       }
      },
      "id": "84f7afe7-1185-4533-b364-8760017f16e0",
      "palette": {
       "19cc588f-0593-49c9-9f4b-e4d7cc113b1c": {
        "id": "19cc588f-0593-49c9-9f4b-e4d7cc113b1c",
        "rgb": [
         252,
         252,
         252
        ]
       },
       "31af15d2-7e15-44c5-ab5e-e04b16a89eff": {
        "id": "31af15d2-7e15-44c5-ab5e-e04b16a89eff",
        "rgb": [
         68,
         68,
         68
        ]
       },
       "50f92c45-a630-455b-aec3-788680ec7410": {
        "id": "50f92c45-a630-455b-aec3-788680ec7410",
        "rgb": [
         197,
         226,
         245
        ]
       },
       "c5cc3653-2ee1-402a-aba2-7caae1da4f6c": {
        "id": "c5cc3653-2ee1-402a-aba2-7caae1da4f6c",
        "rgb": [
         43,
         126,
         184
        ]
       },
       "efa7f048-9acb-414c-8b04-a26811511a21": {
        "id": "efa7f048-9acb-414c-8b04-a26811511a21",
        "rgb": [
         25.118061674008803,
         73.60176211453744,
         107.4819383259912
        ]
       }
      },
      "rules": {
       "a": {
        "color": "19cc588f-0593-49c9-9f4b-e4d7cc113b1c"
       },
       "blockquote": {
        "color": "50f92c45-a630-455b-aec3-788680ec7410",
        "font-size": 3
       },
       "code": {
        "font-family": "Anonymous Pro"
       },
       "h1": {
        "color": "19cc588f-0593-49c9-9f4b-e4d7cc113b1c",
        "font-family": "Merriweather",
        "font-size": 8
       },
       "h2": {
        "color": "19cc588f-0593-49c9-9f4b-e4d7cc113b1c",
        "font-family": "Merriweather",
        "font-size": 6
       },
       "h3": {
        "color": "50f92c45-a630-455b-aec3-788680ec7410",
        "font-family": "Lato",
        "font-size": 5.5
       },
       "h4": {
        "color": "c5cc3653-2ee1-402a-aba2-7caae1da4f6c",
        "font-family": "Lato",
        "font-size": 5
       },
       "h5": {
        "font-family": "Lato"
       },
       "h6": {
        "font-family": "Lato"
       },
       "h7": {
        "font-family": "Lato"
       },
       "li": {
        "color": "50f92c45-a630-455b-aec3-788680ec7410",
        "font-size": 3.25
       },
       "pre": {
        "font-family": "Anonymous Pro",
        "font-size": 4
       }
      },
      "text-base": {
       "color": "19cc588f-0593-49c9-9f4b-e4d7cc113b1c",
       "font-family": "Lato",
       "font-size": 4
      }
     }
    }
   }
  },
  "widgets": {
   "application/vnd.jupyter.widget-state+json": {
    "state": {},
    "version_major": 2,
    "version_minor": 0
   }
  }
 },
 "nbformat": 4,
 "nbformat_minor": 2
}
