{
 "cells": [
  {
   "cell_type": "code",
   "execution_count": 5,
   "metadata": {},
   "outputs": [],
   "source": [
    "import GetOldTweets\n",
    "import pandas as pd\n",
    "import numpy as np"
   ]
  },
  {
   "cell_type": "code",
   "execution_count": 22,
   "metadata": {},
   "outputs": [
    {
     "name": "stdout",
     "output_type": "stream",
     "text": [
      "Username: LelaMarkham\n",
      "Retweets: 0\n",
      "Text: @StevenDLindsey @tensharp66 @TheMightyComet @TwitchyTeam @BarackObama I personally never tried to. It's not anti-American to oppose drones.\n",
      "Mentions: @StevenDLindsey @tensharp66 @TheMightyComet @TwitchyTeam @BarackObama\n",
      "Hashtags: \n",
      "\n"
     ]
    }
   ],
   "source": [
    "tweetCriteria = GetOldTweets.got.manager.TweetCriteria().setQuerySearch('barack obama').setSince(\"2015-05-01\").setUntil(\"2015-09-30\").setMaxTweets(10)\n",
    "tweet = GetOldTweets.got.manager.TweetManager.getTweets(tweetCriteria)[0]\n",
    "printTweet(tweet)"
   ]
  },
  {
   "cell_type": "code",
   "execution_count": 20,
   "metadata": {
    "collapsed": true
   },
   "outputs": [],
   "source": [
    "def printTweet(t):\n",
    "    print(\"Username: %s\" % t.username)\n",
    "    print(\"Retweets: %d\" % t.retweets)\n",
    "    print(\"Text: %s\" % t.text)\n",
    "    print(\"Mentions: %s\" % t.mentions)\n",
    "    print(\"Hashtags: %s\\n\" % t.hashtags)"
   ]
  },
  {
   "cell_type": "code",
   "execution_count": null,
   "metadata": {
    "collapsed": true
   },
   "outputs": [],
   "source": []
  }
 ],
 "metadata": {
  "kernelspec": {
   "display_name": "Python 2",
   "language": "python",
   "name": "python2"
  },
  "language_info": {
   "codemirror_mode": {
    "name": "ipython",
    "version": 2
   },
   "file_extension": ".py",
   "mimetype": "text/x-python",
   "name": "python",
   "nbconvert_exporter": "python",
   "pygments_lexer": "ipython2",
   "version": "2.7.13"
  }
 },
 "nbformat": 4,
 "nbformat_minor": 2
}
